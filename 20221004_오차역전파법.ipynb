{
 "cells": [
  {
   "cell_type": "code",
   "execution_count": 1,
   "metadata": {},
   "outputs": [],
   "source": [
    "import numpy as np\n",
    "import matplotlib.pylab as plt"
   ]
  },
  {
   "cell_type": "code",
   "execution_count": 2,
   "metadata": {},
   "outputs": [],
   "source": [
    "def numerical_diff(f, w):\n",
    "    dw = 0.0001\n",
    "    return (f(w+dw) - f(w)) / dw"
   ]
  },
  {
   "cell_type": "code",
   "execution_count": 3,
   "metadata": {},
   "outputs": [],
   "source": [
    "def loss_function(w):\n",
    "    return w**2"
   ]
  },
  {
   "cell_type": "code",
   "execution_count": 4,
   "metadata": {},
   "outputs": [],
   "source": [
    "w = np.arange(-10.0, 10.0, 0.1)\n",
    "y = loss_function(w)"
   ]
  },
  {
   "cell_type": "code",
   "execution_count": 5,
   "metadata": {},
   "outputs": [
    {
     "data": {
      "image/png": "[encoded data removed]",
      "text/plain": [
       "<Figure size 640x480 with 1 Axes>"
      ]
     },
     "metadata": {},
     "output_type": "display_data"
    }
   ],
   "source": [
    "plt.xlabel('w')\n",
    "plt.ylabel('E')\n",
    "plt.plot(w, y)\n",
    "plt.show()"
   ]
  },
  {
   "cell_type": "code",
   "execution_count": 6,
   "metadata": {},
   "outputs": [
    {
     "name": "stdout",
     "output_type": "stream",
     "text": [
      "10.000\n",
      "5.000\n"
     ]
    }
   ],
   "source": [
    "w_50 = numerical_diff(loss_function, 5.0)\n",
    "w_25 = numerical_diff(loss_function, 2.5)\n",
    "\n",
    "print(format(w_50, '.3f'))\n",
    "print(format(w_25, '.3f'))"
   ]
  },
  {
   "cell_type": "code",
   "execution_count": 7,
   "metadata": {},
   "outputs": [
    {
     "name": "stdout",
     "output_type": "stream",
     "text": [
      "-10.000\n",
      "-5.000\n"
     ]
    }
   ],
   "source": [
    "w_50 = numerical_diff(loss_function, -5.0)\n",
    "w_25 = numerical_diff(loss_function, -2.5)\n",
    "\n",
    "print(format(w_50, '.3f'))\n",
    "print(format(w_25, '.3f'))"
   ]
  },
  {
   "cell_type": "code",
   "execution_count": 8,
   "metadata": {},
   "outputs": [],
   "source": [
    "class MulLayer:\n",
    "    def __init__(self):\n",
    "        self.x = None\n",
    "        self.y = None\n",
    "\n",
    "    def forward(self, a, b):\n",
    "        self.x = a\n",
    "        self.y = b\n",
    "        out = self.x * self.y\n",
    "\n",
    "        return out\n",
    "\n",
    "    def backward(self, dout):\n",
    "        dx = dout * self.y\n",
    "        dy = dout * self.x\n",
    "\n",
    "        return dx, dy"
   ]
  },
  {
   "cell_type": "code",
   "execution_count": 9,
   "metadata": {},
   "outputs": [],
   "source": [
    "price_apple = 100\n",
    "apple_num = 2\n",
    "tax = 1.1"
   ]
  },
  {
   "cell_type": "code",
   "execution_count": 10,
   "metadata": {},
   "outputs": [
    {
     "name": "stdout",
     "output_type": "stream",
     "text": [
      "최종 지불 금액: 220.0\n"
     ]
    }
   ],
   "source": [
    "mul_apple_layer = MulLayer()\n",
    "mul_tax_layer = MulLayer()\n",
    "\n",
    "price_apple_num = mul_apple_layer.forward(price_apple, apple_num)\n",
    "price_apple_tax = mul_tax_layer.forward(price_apple_num, tax)\n",
    "\n",
    "print('최종 지불 금액:', round(price_apple_tax, 3))"
   ]
  },
  {
   "cell_type": "code",
   "execution_count": 11,
   "metadata": {},
   "outputs": [
    {
     "name": "stdout",
     "output_type": "stream",
     "text": [
      "소비세에 대한 지불 금액의 미분: 200\n",
      "사과 가격에 대한 지불 금액의 미분: 2.2\n",
      "사과 개수에 대한 지불 금액의 미분 110.00000000000001\n"
     ]
    }
   ],
   "source": [
    "dprice = 1\n",
    "dprice_apple_num, dtax = mul_tax_layer.backward(dprice)\n",
    "dprice_apple, dapple_num = mul_apple_layer.backward(dprice_apple_num)\n",
    "\n",
    "print('소비세에 대한 지불 금액의 미분:', dtax)\n",
    "print('사과 가격에 대한 지불 금액의 미분:', dprice_apple)\n",
    "print('사과 개수에 대한 지불 금액의 미분', dapple_num)"
   ]
  },
  {
   "cell_type": "code",
   "execution_count": 12,
   "metadata": {},
   "outputs": [],
   "source": [
    "class AddLayer:\n",
    "    def __init__(self):\n",
    "        pass\n",
    "\n",
    "    def forward(self, x, y):\n",
    "        out = x + y\n",
    "        return out\n",
    "\n",
    "    def backward(self, dout):\n",
    "        dx = dout * 1\n",
    "        dy = dout * 1\n",
    "        return dx, dy"
   ]
  },
  {
   "cell_type": "code",
   "execution_count": 13,
   "metadata": {},
   "outputs": [],
   "source": [
    "price_apple = 100\n",
    "apple_num = 2\n",
    "price_orange = 150\n",
    "orange_num = 3\n",
    "tax = 1.1\n",
    "\n",
    "mul_apple_layer = MulLayer()\n",
    "mul_orange_layer = MulLayer()\n",
    "add_apple_orange_layer = AddLayer()\n",
    "mul_tax_layer = MulLayer()"
   ]
  },
  {
   "cell_type": "code",
   "execution_count": 14,
   "metadata": {},
   "outputs": [
    {
     "name": "stdout",
     "output_type": "stream",
     "text": [
      "최종 지불 금액: 715.0\n"
     ]
    }
   ],
   "source": [
    "price_apple_num = mul_apple_layer.forward(price_apple, apple_num)\n",
    "price_orange_num = mul_orange_layer.forward(price_orange, orange_num)\n",
    "price_all_num = add_apple_orange_layer.forward(price_apple_num, price_orange_num)\n",
    "price_all_tax = mul_tax_layer.forward(price_all_num, tax)\n",
    "\n",
    "print('최종 지불 금액:', round(price_all_tax, 3))"
   ]
  },
  {
   "cell_type": "code",
   "execution_count": 15,
   "metadata": {},
   "outputs": [
    {
     "name": "stdout",
     "output_type": "stream",
     "text": [
      "소비세에 대한 지불 금액의 미분: 650\n",
      "사과 가격에 대한 지불 금액의 미분: 2.2\n",
      "사과 개수에 대한 지불 금액의 미분: 110.00000000000001\n",
      "오렌지 가격에 대한 지불 금액의 미분: 3.3000000000000003\n",
      "오렌지 개수에 대한 지불 금액의 미분: 165.0\n"
     ]
    }
   ],
   "source": [
    "dprice = 1\n",
    "dprice_all_num, dtax = mul_tax_layer.backward(dprice)\n",
    "dprice_apple_num, dprice_orange_num = add_apple_orange_layer.backward(dprice_all_num)\n",
    "dprice_orange, dorange_num = mul_orange_layer.backward(dprice_orange_num)\n",
    "dprice_apple, dapple_num = mul_apple_layer.backward(dprice_apple_num)\n",
    "\n",
    "print('소비세에 대한 지불 금액의 미분:', dtax)\n",
    "print('사과 가격에 대한 지불 금액의 미분:', dprice_apple)\n",
    "print('사과 개수에 대한 지불 금액의 미분:', dapple_num)\n",
    "print('오렌지 가격에 대한 지불 금액의 미분:', dprice_orange)\n",
    "print('오렌지 개수에 대한 지불 금액의 미분:', dorange_num)"
   ]
  },
  {
   "cell_type": "code",
   "execution_count": null,
   "metadata": {},
   "outputs": [],
   "source": []
  }
 ],
 "metadata": {
  "kernelspec": {
   "display_name": "Python 3.7.4 ('venv': venv)",
   "language": "python",
   "name": "python3"
  },
  "language_info": {
   "codemirror_mode": {
    "name": "ipython",
    "version": 3
   },
   "file_extension": ".py",
   "mimetype": "text/x-python",
   "name": "python",
   "nbconvert_exporter": "python",
   "pygments_lexer": "ipython3",
   "version": "3.7.4"
  },
  "orig_nbformat": 4,
  "vscode": {
   "interpreter": {
    "hash": "828b3ff1a9b639f531d360136e481a3f232b7e9f33a8a1d624f5a211b5fe1b7b"
   }
  }
 },
 "nbformat": 4,
 "nbformat_minor": 2
}
