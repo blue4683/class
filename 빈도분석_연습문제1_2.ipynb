{
 "cells": [
  {
   "cell_type": "code",
   "execution_count": 1,
   "metadata": {},
   "outputs": [],
   "source": [
    "import matplotlib\n",
    "from matplotlib import font_manager, rc\n",
    "font_path = 'C:/Windows/Fonts/malgun.ttf'\n",
    "font_name = font_manager.FontProperties(fname=font_path).get_name()\n",
    "matplotlib.rc('font', family=font_name)"
   ]
  },
  {
   "cell_type": "code",
   "execution_count": 2,
   "metadata": {},
   "outputs": [],
   "source": [
    "import os\n",
    "os.chdir('C:/pytest/')"
   ]
  },
  {
   "cell_type": "code",
   "execution_count": 3,
   "metadata": {},
   "outputs": [],
   "source": [
    "def read_data(filename, encoding='cp949', start=1):\n",
    "    # with 구문의 장점 = close()가 자동으로 실행됨\n",
    "    with open(filename, 'r', encoding=encoding) as f:\n",
    "        data = [line for line in f.read().splitlines()]\n",
    "    return data\n",
    "\n",
    "def write_data(data, filename, encoding='cp949'): # 쓰기 함수도 정의\n",
    "    with open(filename, 'w', encoding=encoding) as f:\n",
    "        f.write(data)\n",
    "\n",
    "data = read_data('윤동주시.txt' , encoding='utf8')"
   ]
  },
  {
   "cell_type": "code",
   "execution_count": 4,
   "metadata": {},
   "outputs": [
    {
     "data": {
      "text/plain": [
       "['1. 내일은 없다',\n",
       " '',\n",
       " '내일 내일 하기에',\n",
       " '',\n",
       " '물었더니',\n",
       " '',\n",
       " '밤을 자고 동틀 때',\n",
       " '',\n",
       " '내일이라고',\n",
       " '',\n",
       " '새날을 찾던 나는',\n",
       " '',\n",
       " '잠을 자고 돌보니',\n",
       " '',\n",
       " '그때는 내일이 아니라',\n",
       " '',\n",
       " '오늘이더라',\n",
       " '',\n",
       " '동무여!',\n",
       " '',\n",
       " '내일은 없나니……',\n",
       " '',\n",
       " '2. 흰 그림자',\n",
       " '황혼이 짙어지는 길모금에서',\n",
       " '',\n",
       " '하루 종일 시든 귀를 가만히 기울이면',\n",
       " '',\n",
       " '땅거미 옮겨지는 발자취 소리,',\n",
       " '',\n",
       " '발자취 소리를 들을 수 있도록',\n",
       " '',\n",
       " '나는 총명했던가요.',\n",
       " '',\n",
       " '3. 별 헤는 밤',\n",
       " '계절이 지나가는 하늘에는 가을로 가득 차 있습니다.',\n",
       " '',\n",
       " '나는 아무 걱정도 없이',\n",
       " '',\n",
       " '가을 속의 별들을 다 헤일 듯 합니다.',\n",
       " '',\n",
       " '가슴 속에 하나 둘 새겨지는 별을 이제 다 못헤는 것은',\n",
       " '',\n",
       " '쉬이 아침이 오는 까닭이요, 내일 밤이 남은 까닭이요,',\n",
       " '',\n",
       " '아직 나의 청춘이 다 하지 않은 까닭입니다.',\n",
       " '',\n",
       " '4. 쉽게 씌여진 시',\n",
       " '창밖에 밤비가 속살거려',\n",
       " '',\n",
       " '육첩방은 남의 나라,',\n",
       " '',\n",
       " '시인이란 슬픈 천명인줄 알면서도',\n",
       " '',\n",
       " '한줄 시를 적어 볼까.',\n",
       " '',\n",
       " '5. 병원',\n",
       " '나의 늙은 의사는 젊은이의 병을 모른다.',\n",
       " '',\n",
       " '나한테는 병이 없다고 한다.',\n",
       " '',\n",
       " '이 지나친 시련, 이 지나친 피로, 나는 성내서는 안 된다.',\n",
       " '',\n",
       " '6. 새로운 길',\n",
       " '내를 건너서 숲으로',\n",
       " '',\n",
       " '고개를 넘어서 마을로',\n",
       " '',\n",
       " '어제도 가고 오늘도 갈',\n",
       " '',\n",
       " '나의 길 새로운 길',\n",
       " '',\n",
       " '7. 아우의 인상화',\n",
       " '붉은 이마에 싸늘한 달이 서리어',\n",
       " '',\n",
       " '아우의 얼굴은 슬픈 그림이다.',\n",
       " '',\n",
       " '발걸음을 멈추어',\n",
       " '',\n",
       " '살그머니 앳된 손을 잡으며',\n",
       " '',\n",
       " '\"너는 자라 무엇이 되려니\"',\n",
       " '',\n",
       " '\"사람이 되지\"',\n",
       " '',\n",
       " '아우의 설은 진정코 설은 대답이다.',\n",
       " '',\n",
       " '8. 바람이 불어',\n",
       " '바람이 어디로부터 불어와',\n",
       " '',\n",
       " '어디로 불려가는 것일까.',\n",
       " '',\n",
       " '바람이 부는데',\n",
       " '',\n",
       " '내 괴로움에는 이유가 없다.',\n",
       " '',\n",
       " '9. 참회록',\n",
       " '파란 녹이 낀 구리거울 속에',\n",
       " '',\n",
       " '내 얼굴이 남아있는 것은',\n",
       " '',\n",
       " '어느 왕조의 유물이기에',\n",
       " '',\n",
       " '이다지도 욕될까.',\n",
       " '',\n",
       " '나는 나의 참회의 글을 한줄에 줄이자.',\n",
       " '',\n",
       " '-만 24년 1개월을',\n",
       " '',\n",
       " '무슨 기쁨을 바라 살아왔든가.',\n",
       " '',\n",
       " '내일이나 모레나 그 어느 즐거운 날에',\n",
       " '',\n",
       " '나는 또 한 줄의 참회록을 써야 한다.',\n",
       " '',\n",
       " '10. 봄',\n",
       " '극 중 윤동주(강하늘)가 도쿄 릿교대학 영문학 수업을 듣다 써 내려간 시로 등장한다.',\n",
       " '',\n",
       " '봄이 혈관 속에 시내처럼 흘러',\n",
       " '',\n",
       " '돌, 돌, 시내 가차운 언덕에',\n",
       " '',\n",
       " '개나리, 진달래, 노오란 배추꽃',\n",
       " '',\n",
       " '삼동을 참아온 나는',\n",
       " '',\n",
       " '풀포기처럼 피어난다.',\n",
       " '',\n",
       " '즐거운 종달새야',\n",
       " '',\n",
       " '어느 이랑에서나 즐거웁게 솟쳐라.',\n",
       " '',\n",
       " '푸르른 하늘은',\n",
       " '',\n",
       " '아른 아른 높기도 한데……',\n",
       " '',\n",
       " '11. 사랑스런 추억',\n",
       " '기차는 아무 새로운 소식도 없이',\n",
       " '',\n",
       " '나를 멀리 실어다 주어,',\n",
       " '',\n",
       " '봄은 다 가고 동경 교외 어느 조용한 하숙방에서,',\n",
       " '',\n",
       " '옛 거리에 남은 나를 희망과 사랑처럼 그리워한다.',\n",
       " '',\n",
       " '오늘도 기차는 몇 번이나 무의미하게 지나가고,',\n",
       " '',\n",
       " '오늘도 나는 누구를 기다려',\n",
       " '',\n",
       " '정거장 가까운 언덕에서 서성거릴 게다.',\n",
       " '',\n",
       " '아아 젊음은 오래 거기 남아 있거라.',\n",
       " '',\n",
       " '12. 공상',\n",
       " '나는 말없이 이 탑을 쌓고 있다.',\n",
       " '',\n",
       " '명예와 허영의 천공에다,',\n",
       " '',\n",
       " '무너질 줄도 모르고,',\n",
       " '',\n",
       " '한 층 두 층 높이 쌓는다.',\n",
       " '',\n",
       " '13. 자화상',\n",
       " '한 사나이가 있습니다.',\n",
       " '',\n",
       " '어쩐지 그 사나이가 미워져 돌아갑니다.',\n",
       " '',\n",
       " '돌아가다 생각하니 그 사나이가 가엾어집니다.',\n",
       " '',\n",
       " '도로 가 들여다보니 사나이는 그대로 있습니다.',\n",
       " '',\n",
       " '다시 그 사나이가 미워져 돌아갑니다.',\n",
       " '',\n",
       " '돌아가다 생각하니 그 사나이가 그리워집니다.']"
      ]
     },
     "execution_count": 4,
     "metadata": {},
     "output_type": "execute_result"
    }
   ],
   "source": [
    "data"
   ]
  },
  {
   "cell_type": "code",
   "execution_count": 6,
   "metadata": {},
   "outputs": [
    {
     "name": "stdout",
     "output_type": "stream",
     "text": [
      "filepath:  c:\\project\\venv\\lib\\site-packages\n",
      "classpath:  c:\\project\\venv\\lib\\site-packages\\rhinoMorph/lib/rhino.jar\n",
      "JVM is already started~\n",
      "RHINO started!\n"
     ]
    }
   ],
   "source": [
    "import rhinoMorph\n",
    "rn = rhinoMorph.startRhino()\n",
    "\n",
    "morphed_data = ''\n",
    "for data_each in data:\n",
    "    morphed_data_each = rhinoMorph.onlyMorph_list(\n",
    "        rn, data_each, pos=['NNG', 'NNP', 'VV', 'VA', 'XR', 'IC', 'MM', 'MAG', 'MAJ'], eomi= True)\n",
    "    joined_data_each = ' '.join(morphed_data_each) # 문자열을 하나로 연결\n",
    "    if joined_data_each: # 내용이 있는 경우만 저장하게 함\n",
    "        morphed_data += joined_data_each + \"\\n\"\n",
    "# 형태소 분석된 파일 저장\n",
    "write_data(morphed_data, '윤동주시_morphed.txt', encoding='utf8')"
   ]
  },
  {
   "cell_type": "code",
   "execution_count": 11,
   "metadata": {},
   "outputs": [
    {
     "name": "stdout",
     "output_type": "stream",
     "text": [
      "93\n"
     ]
    }
   ],
   "source": [
    "data = read_data('윤동주시_morphed.txt', encoding='utf8', start=0)\n",
    "print(len(data))"
   ]
  },
  {
   "cell_type": "code",
   "execution_count": 12,
   "metadata": {},
   "outputs": [],
   "source": [
    "# 공백을 추가하며 모든 리스트 요소들을 결합한 후 공백 단위로 분리하여 하나의 리스트로 만든다\n",
    "mergedText = ' '.join(data)\n",
    "# print('mergedText:', mergedText)\n",
    "\n",
    "mergedTextList = mergedText.split(' ')\n",
    "# print('mergedTextList:', mergedTextList)"
   ]
  },
  {
   "cell_type": "code",
   "execution_count": 13,
   "metadata": {},
   "outputs": [],
   "source": [
    "from collections import Counter\n",
    "wordInfo = Counter(mergedTextList) # 하나의 리스트로 묶인 분리된 요소들을 카운트한다 (내림차순)\n",
    "# print('wordInfo:', wordInfo)"
   ]
  },
  {
   "cell_type": "code",
   "execution_count": 14,
   "metadata": {},
   "outputs": [
    {
     "name": "stdout",
     "output_type": "stream",
     "text": [
      "윤동주 단어빈도 총합:  326\n",
      "윤동주 고빈도 단어:  ['하다', '내일', '사나이', '그', '없다', '오늘', '길', '다', '남다', '어느', '돌아가다', '밤', '속', '까닭', '이', '되다', '새롭다', '가다', '아우', '바람']\n",
      "윤동주 고빈도 단어비율:  [2.76, 2.45, 1.84, 1.53, 1.23, 1.23, 1.23, 1.23, 1.23, 1.23, 1.23, 0.92, 0.92, 0.92, 0.92, 0.92, 0.92, 0.92, 0.92, 0.92]\n"
     ]
    },
    {
     "data": {
      "image/png": "[encoded data removed]",
      "text/plain": [
       "<Figure size 1200x500 with 1 Axes>"
      ]
     },
     "metadata": {},
     "output_type": "display_data"
    }
   ],
   "source": [
    "sorted_keys = sorted(wordInfo, key = wordInfo.get, reverse = True)\n",
    "sorted_values = sorted(wordInfo.values(), reverse = True)\n",
    "\n",
    "print('윤동주 단어빈도 총합: ', sum(sorted_values))\n",
    "print('윤동주 고빈도 단어: ', sorted_keys[:20])\n",
    "sorted_rates = list(map(lambda x: round((x / sum(sorted_values))*100, 2), sorted_values))\n",
    "print('윤동주 고빈도 단어비율: ', sorted_rates[:20])\n",
    "\n",
    "import matplotlib.pyplot as plt\n",
    "plt.figure(figsize=(12, 5))\n",
    "plt.bar(range(20), sorted_rates[:20])\n",
    "plt.xticks(range(20), sorted_keys[:20])\n",
    "plt.show()"
   ]
  },
  {
   "cell_type": "code",
   "execution_count": 15,
   "metadata": {},
   "outputs": [
    {
     "name": "stdout",
     "output_type": "stream",
     "text": [
      "첫번째 문장의 형태소 길이: 2\n"
     ]
    }
   ],
   "source": [
    "len_data = []\n",
    "for d in data:\n",
    "    len_data.append(len(d.split()))\n",
    "\n",
    "print('첫번째 문장의 형태소 길이:', len_data[0])"
   ]
  },
  {
   "cell_type": "code",
   "execution_count": 16,
   "metadata": {},
   "outputs": [
    {
     "data": {
      "image/png": "[encoded data removed]",
      "text/plain": [
       "<Figure size 800x500 with 1 Axes>"
      ]
     },
     "metadata": {},
     "output_type": "display_data"
    }
   ],
   "source": [
    "import matplotlib.pyplot as plt\n",
    "\n",
    "plt.figure(figsize = (8, 5))\n",
    "plt.boxplot([len_data], labels = ['형태소'], showmeans=True)\n",
    "plt.show()"
   ]
  },
  {
   "cell_type": "code",
   "execution_count": 17,
   "metadata": {},
   "outputs": [
    {
     "name": "stdout",
     "output_type": "stream",
     "text": [
      "텍스트 최대 길이: 14\n",
      "텍스트 최소 길이: 1\n",
      "텍스트 평균 길이: 3.51\n",
      "텍스트 길이 표준편차: 2.13\n",
      "텍스트 중간 길이: 3.0\n",
      "제 1 사분위 텍스트 길이: 2.0\n",
      "제 3 사분위 텍스트 길이: 5.0\n"
     ]
    }
   ],
   "source": [
    "import numpy as np\n",
    "\n",
    "print('텍스트 최대 길이: {}'.format(np.max(len_data)))\n",
    "print('텍스트 최소 길이: {}'.format(np.min(len_data)))\n",
    "print('텍스트 평균 길이: {:.2f}'.format(np.mean(len_data)))\n",
    "print('텍스트 길이 표준편차: {:.2f}'.format(np.std(len_data)))\n",
    "print('텍스트 중간 길이: {}'.format(np.median(len_data)))\n",
    "print('제 1 사분위 텍스트 길이: {}'.format(np.percentile(len_data, 25)))\n",
    "print('제 3 사분위 텍스트 길이: {}'.format(np.percentile(len_data, 75)))"
   ]
  },
  {
   "cell_type": "code",
   "execution_count": 18,
   "metadata": {},
   "outputs": [
    {
     "data": {
      "image/png": "[encoded data removed]",
      "text/plain": [
       "<Figure size 800x500 with 1 Axes>"
      ]
     },
     "metadata": {},
     "output_type": "display_data"
    }
   ],
   "source": [
    "plt.figure(figsize=(8, 5))\n",
    "plt.hist(len_data, bins=30, range=[0,50], facecolor='r', density=False, label='형태소')\n",
    "plt.title(\"Distribution of word count in paragraph\", fontsize=15)\n",
    "plt.legend()\n",
    "plt.xlabel('Number of words', fontsize=15)\n",
    "plt.ylabel('Cases', fontsize=15)\n",
    "plt.show()"
   ]
  },
  {
   "cell_type": "code",
   "execution_count": null,
   "metadata": {},
   "outputs": [],
   "source": []
  }
 ],
 "metadata": {
  "kernelspec": {
   "display_name": "Python 3.7.4 ('venv': venv)",
   "language": "python",
   "name": "python3"
  },
  "language_info": {
   "codemirror_mode": {
    "name": "ipython",
    "version": 3
   },
   "file_extension": ".py",
   "mimetype": "text/x-python",
   "name": "python",
   "nbconvert_exporter": "python",
   "pygments_lexer": "ipython3",
   "version": "3.7.4"
  },
  "orig_nbformat": 4,
  "vscode": {
   "interpreter": {
    "hash": "828b3ff1a9b639f531d360136e481a3f232b7e9f33a8a1d624f5a211b5fe1b7b"
   }
  }
 },
 "nbformat": 4,
 "nbformat_minor": 2
}
