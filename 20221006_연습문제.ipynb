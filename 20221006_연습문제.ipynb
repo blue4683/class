{
 "cells": [
  {
   "cell_type": "code",
   "execution_count": 1,
   "metadata": {},
   "outputs": [],
   "source": [
    "import pandas as pd\n",
    "import numpy as np"
   ]
  },
  {
   "cell_type": "code",
   "execution_count": 2,
   "metadata": {},
   "outputs": [
    {
     "data": {
      "text/html": [
       "<div>\n",
       "<style scoped>\n",
       "    .dataframe tbody tr th:only-of-type {\n",
       "        vertical-align: middle;\n",
       "    }\n",
       "\n",
       "    .dataframe tbody tr th {\n",
       "        vertical-align: top;\n",
       "    }\n",
       "\n",
       "    .dataframe thead th {\n",
       "        text-align: right;\n",
       "    }\n",
       "</style>\n",
       "<table border=\"1\" class=\"dataframe\">\n",
       "  <thead>\n",
       "    <tr style=\"text-align: right;\">\n",
       "      <th></th>\n",
       "      <th>attribute_1</th>\n",
       "      <th>attribute_2</th>\n",
       "      <th>attribute_3</th>\n",
       "      <th>attribute_4</th>\n",
       "      <th>attribute_5</th>\n",
       "      <th>attribute_6</th>\n",
       "      <th>attribute_7</th>\n",
       "      <th>attribute_8</th>\n",
       "      <th>attribute_9</th>\n",
       "      <th>attribute_10</th>\n",
       "      <th>...</th>\n",
       "      <th>attribute_52</th>\n",
       "      <th>attribute_53</th>\n",
       "      <th>attribute_54</th>\n",
       "      <th>attribute_55</th>\n",
       "      <th>attribute_56</th>\n",
       "      <th>attribute_57</th>\n",
       "      <th>attribute_58</th>\n",
       "      <th>attribute_59</th>\n",
       "      <th>attribute_60</th>\n",
       "      <th>Class</th>\n",
       "    </tr>\n",
       "  </thead>\n",
       "  <tbody>\n",
       "    <tr>\n",
       "      <th>0</th>\n",
       "      <td>0.0200</td>\n",
       "      <td>0.0371</td>\n",
       "      <td>0.0428</td>\n",
       "      <td>0.0207</td>\n",
       "      <td>0.0954</td>\n",
       "      <td>0.0986</td>\n",
       "      <td>0.1539</td>\n",
       "      <td>0.1601</td>\n",
       "      <td>0.3109</td>\n",
       "      <td>0.2111</td>\n",
       "      <td>...</td>\n",
       "      <td>0.0027</td>\n",
       "      <td>0.0065</td>\n",
       "      <td>0.0159</td>\n",
       "      <td>0.0072</td>\n",
       "      <td>0.0167</td>\n",
       "      <td>0.0180</td>\n",
       "      <td>0.0084</td>\n",
       "      <td>0.0090</td>\n",
       "      <td>0.0032</td>\n",
       "      <td>Rock</td>\n",
       "    </tr>\n",
       "    <tr>\n",
       "      <th>1</th>\n",
       "      <td>0.0453</td>\n",
       "      <td>0.0523</td>\n",
       "      <td>0.0843</td>\n",
       "      <td>0.0689</td>\n",
       "      <td>0.1183</td>\n",
       "      <td>0.2583</td>\n",
       "      <td>0.2156</td>\n",
       "      <td>0.3481</td>\n",
       "      <td>0.3337</td>\n",
       "      <td>0.2872</td>\n",
       "      <td>...</td>\n",
       "      <td>0.0084</td>\n",
       "      <td>0.0089</td>\n",
       "      <td>0.0048</td>\n",
       "      <td>0.0094</td>\n",
       "      <td>0.0191</td>\n",
       "      <td>0.0140</td>\n",
       "      <td>0.0049</td>\n",
       "      <td>0.0052</td>\n",
       "      <td>0.0044</td>\n",
       "      <td>Rock</td>\n",
       "    </tr>\n",
       "    <tr>\n",
       "      <th>2</th>\n",
       "      <td>0.0262</td>\n",
       "      <td>0.0582</td>\n",
       "      <td>0.1099</td>\n",
       "      <td>0.1083</td>\n",
       "      <td>0.0974</td>\n",
       "      <td>0.2280</td>\n",
       "      <td>0.2431</td>\n",
       "      <td>0.3771</td>\n",
       "      <td>0.5598</td>\n",
       "      <td>0.6194</td>\n",
       "      <td>...</td>\n",
       "      <td>0.0232</td>\n",
       "      <td>0.0166</td>\n",
       "      <td>0.0095</td>\n",
       "      <td>0.0180</td>\n",
       "      <td>0.0244</td>\n",
       "      <td>0.0316</td>\n",
       "      <td>0.0164</td>\n",
       "      <td>0.0095</td>\n",
       "      <td>0.0078</td>\n",
       "      <td>Rock</td>\n",
       "    </tr>\n",
       "    <tr>\n",
       "      <th>3</th>\n",
       "      <td>0.0100</td>\n",
       "      <td>0.0171</td>\n",
       "      <td>0.0623</td>\n",
       "      <td>0.0205</td>\n",
       "      <td>0.0205</td>\n",
       "      <td>0.0368</td>\n",
       "      <td>0.1098</td>\n",
       "      <td>0.1276</td>\n",
       "      <td>0.0598</td>\n",
       "      <td>0.1264</td>\n",
       "      <td>...</td>\n",
       "      <td>0.0121</td>\n",
       "      <td>0.0036</td>\n",
       "      <td>0.0150</td>\n",
       "      <td>0.0085</td>\n",
       "      <td>0.0073</td>\n",
       "      <td>0.0050</td>\n",
       "      <td>0.0044</td>\n",
       "      <td>0.0040</td>\n",
       "      <td>0.0117</td>\n",
       "      <td>Rock</td>\n",
       "    </tr>\n",
       "    <tr>\n",
       "      <th>4</th>\n",
       "      <td>0.0762</td>\n",
       "      <td>0.0666</td>\n",
       "      <td>0.0481</td>\n",
       "      <td>0.0394</td>\n",
       "      <td>0.0590</td>\n",
       "      <td>0.0649</td>\n",
       "      <td>0.1209</td>\n",
       "      <td>0.2467</td>\n",
       "      <td>0.3564</td>\n",
       "      <td>0.4459</td>\n",
       "      <td>...</td>\n",
       "      <td>0.0031</td>\n",
       "      <td>0.0054</td>\n",
       "      <td>0.0105</td>\n",
       "      <td>0.0110</td>\n",
       "      <td>0.0015</td>\n",
       "      <td>0.0072</td>\n",
       "      <td>0.0048</td>\n",
       "      <td>0.0107</td>\n",
       "      <td>0.0094</td>\n",
       "      <td>Rock</td>\n",
       "    </tr>\n",
       "  </tbody>\n",
       "</table>\n",
       "<p>5 rows × 61 columns</p>\n",
       "</div>"
      ],
      "text/plain": [
       "   attribute_1  attribute_2  attribute_3  attribute_4  attribute_5  \\\n",
       "0       0.0200       0.0371       0.0428       0.0207       0.0954   \n",
       "1       0.0453       0.0523       0.0843       0.0689       0.1183   \n",
       "2       0.0262       0.0582       0.1099       0.1083       0.0974   \n",
       "3       0.0100       0.0171       0.0623       0.0205       0.0205   \n",
       "4       0.0762       0.0666       0.0481       0.0394       0.0590   \n",
       "\n",
       "   attribute_6  attribute_7  attribute_8  attribute_9  attribute_10  ...  \\\n",
       "0       0.0986       0.1539       0.1601       0.3109        0.2111  ...   \n",
       "1       0.2583       0.2156       0.3481       0.3337        0.2872  ...   \n",
       "2       0.2280       0.2431       0.3771       0.5598        0.6194  ...   \n",
       "3       0.0368       0.1098       0.1276       0.0598        0.1264  ...   \n",
       "4       0.0649       0.1209       0.2467       0.3564        0.4459  ...   \n",
       "\n",
       "   attribute_52  attribute_53  attribute_54  attribute_55  attribute_56  \\\n",
       "0        0.0027        0.0065        0.0159        0.0072        0.0167   \n",
       "1        0.0084        0.0089        0.0048        0.0094        0.0191   \n",
       "2        0.0232        0.0166        0.0095        0.0180        0.0244   \n",
       "3        0.0121        0.0036        0.0150        0.0085        0.0073   \n",
       "4        0.0031        0.0054        0.0105        0.0110        0.0015   \n",
       "\n",
       "   attribute_57  attribute_58  attribute_59  attribute_60  Class  \n",
       "0        0.0180        0.0084        0.0090        0.0032   Rock  \n",
       "1        0.0140        0.0049        0.0052        0.0044   Rock  \n",
       "2        0.0316        0.0164        0.0095        0.0078   Rock  \n",
       "3        0.0050        0.0044        0.0040        0.0117   Rock  \n",
       "4        0.0072        0.0048        0.0107        0.0094   Rock  \n",
       "\n",
       "[5 rows x 61 columns]"
      ]
     },
     "execution_count": 2,
     "metadata": {},
     "output_type": "execute_result"
    }
   ],
   "source": [
    "data = pd.read_csv('C:/pytest/sonar.csv')\n",
    "data.head()"
   ]
  },
  {
   "cell_type": "code",
   "execution_count": 4,
   "metadata": {},
   "outputs": [],
   "source": [
    "X = data.iloc[:, :60]\n",
    "y = data.iloc[:, 60]"
   ]
  },
  {
   "cell_type": "code",
   "execution_count": 47,
   "metadata": {},
   "outputs": [],
   "source": [
    "from sklearn.model_selection import train_test_split\n",
    "X_train, X_test, y_train, y_test = train_test_split(X, y, random_state=1111, shuffle=True)"
   ]
  },
  {
   "cell_type": "code",
   "execution_count": 48,
   "metadata": {},
   "outputs": [],
   "source": [
    "from sklearn.preprocessing import LabelEncoder\n",
    "encoder = LabelEncoder()\n",
    "encoder.fit(y_train)\n",
    "y_train = encoder.transform(y_train)\n",
    "y_test = encoder.transform(y_test)"
   ]
  },
  {
   "cell_type": "code",
   "execution_count": 104,
   "metadata": {},
   "outputs": [],
   "source": [
    "import tensorflow as tf"
   ]
  },
  {
   "cell_type": "code",
   "execution_count": 372,
   "metadata": {},
   "outputs": [],
   "source": [
    "from tensorflow.keras.models import Sequential\n",
    "from tensorflow.keras.layers import Dense\n",
    "\n",
    "model = Sequential()\n",
    "model.add(Dense(64, input_dim=60, activation='relu'))\n",
    "model.add(Dense(32, activation='relu'))\n",
    "model.add(Dense(1, activation='sigmoid'))\n",
    "model.compile(loss='binary_crossentropy', optimizer='adam', metrics=['acc'])"
   ]
  },
  {
   "cell_type": "code",
   "execution_count": 373,
   "metadata": {},
   "outputs": [
    {
     "name": "stdout",
     "output_type": "stream",
     "text": [
      "Epoch 1/40\n",
      "52/52 [==============================] - 1s 6ms/step - loss: 0.6962 - acc: 0.5769\n",
      "Epoch 2/40\n",
      "52/52 [==============================] - 0s 5ms/step - loss: 0.6411 - acc: 0.6282\n",
      "Epoch 3/40\n",
      "52/52 [==============================] - 0s 5ms/step - loss: 0.5962 - acc: 0.7115\n",
      "Epoch 4/40\n",
      "52/52 [==============================] - 0s 5ms/step - loss: 0.5632 - acc: 0.7564\n",
      "Epoch 5/40\n",
      "52/52 [==============================] - 0s 5ms/step - loss: 0.5249 - acc: 0.7692\n",
      "Epoch 6/40\n",
      "52/52 [==============================] - 0s 5ms/step - loss: 0.4915 - acc: 0.8077\n",
      "Epoch 7/40\n",
      "52/52 [==============================] - 0s 5ms/step - loss: 0.4706 - acc: 0.7500\n",
      "Epoch 8/40\n",
      "52/52 [==============================] - 0s 5ms/step - loss: 0.4342 - acc: 0.7885\n",
      "Epoch 9/40\n",
      "52/52 [==============================] - 0s 5ms/step - loss: 0.4313 - acc: 0.8205\n",
      "Epoch 10/40\n",
      "52/52 [==============================] - 0s 5ms/step - loss: 0.4142 - acc: 0.8205\n",
      "Epoch 11/40\n",
      "52/52 [==============================] - 0s 5ms/step - loss: 0.4015 - acc: 0.8013\n",
      "Epoch 12/40\n",
      "52/52 [==============================] - 0s 5ms/step - loss: 0.3835 - acc: 0.8141\n",
      "Epoch 13/40\n",
      "52/52 [==============================] - 0s 5ms/step - loss: 0.3745 - acc: 0.8526\n",
      "Epoch 14/40\n",
      "52/52 [==============================] - 0s 5ms/step - loss: 0.3658 - acc: 0.8141\n",
      "Epoch 15/40\n",
      "52/52 [==============================] - 0s 5ms/step - loss: 0.3560 - acc: 0.8590\n",
      "Epoch 16/40\n",
      "52/52 [==============================] - 0s 5ms/step - loss: 0.3421 - acc: 0.8397\n",
      "Epoch 17/40\n",
      "52/52 [==============================] - 0s 5ms/step - loss: 0.3331 - acc: 0.8462\n",
      "Epoch 18/40\n",
      "52/52 [==============================] - 0s 5ms/step - loss: 0.3240 - acc: 0.8333\n",
      "Epoch 19/40\n",
      "52/52 [==============================] - 0s 5ms/step - loss: 0.3168 - acc: 0.8654\n",
      "Epoch 20/40\n",
      "52/52 [==============================] - 0s 5ms/step - loss: 0.3026 - acc: 0.8654\n",
      "Epoch 21/40\n",
      "52/52 [==============================] - 0s 5ms/step - loss: 0.2933 - acc: 0.8590\n",
      "Epoch 22/40\n",
      "52/52 [==============================] - 0s 5ms/step - loss: 0.2834 - acc: 0.8846\n",
      "Epoch 23/40\n",
      "52/52 [==============================] - 0s 5ms/step - loss: 0.2798 - acc: 0.8590\n",
      "Epoch 24/40\n",
      "52/52 [==============================] - 0s 5ms/step - loss: 0.2729 - acc: 0.8590\n",
      "Epoch 25/40\n",
      "52/52 [==============================] - 0s 5ms/step - loss: 0.2447 - acc: 0.8910\n",
      "Epoch 26/40\n",
      "52/52 [==============================] - 0s 5ms/step - loss: 0.2495 - acc: 0.8782\n",
      "Epoch 27/40\n",
      "52/52 [==============================] - 0s 5ms/step - loss: 0.2362 - acc: 0.8974\n",
      "Epoch 28/40\n",
      "52/52 [==============================] - 0s 5ms/step - loss: 0.2298 - acc: 0.9038\n",
      "Epoch 29/40\n",
      "52/52 [==============================] - 0s 5ms/step - loss: 0.2257 - acc: 0.9103\n",
      "Epoch 30/40\n",
      "52/52 [==============================] - 0s 5ms/step - loss: 0.2068 - acc: 0.9103\n",
      "Epoch 31/40\n",
      "52/52 [==============================] - 0s 5ms/step - loss: 0.1893 - acc: 0.9231\n",
      "Epoch 32/40\n",
      "52/52 [==============================] - 0s 5ms/step - loss: 0.1781 - acc: 0.9423\n",
      "Epoch 33/40\n",
      "52/52 [==============================] - 0s 5ms/step - loss: 0.1805 - acc: 0.9359\n",
      "Epoch 34/40\n",
      "52/52 [==============================] - 0s 5ms/step - loss: 0.1629 - acc: 0.9551\n",
      "Epoch 35/40\n",
      "52/52 [==============================] - 0s 5ms/step - loss: 0.1560 - acc: 0.9487\n",
      "Epoch 36/40\n",
      "52/52 [==============================] - 0s 5ms/step - loss: 0.1378 - acc: 0.9615\n",
      "Epoch 37/40\n",
      "52/52 [==============================] - 0s 5ms/step - loss: 0.1451 - acc: 0.9551\n",
      "Epoch 38/40\n",
      "52/52 [==============================] - 0s 5ms/step - loss: 0.1308 - acc: 0.9551\n",
      "Epoch 39/40\n",
      "52/52 [==============================] - 0s 5ms/step - loss: 0.1199 - acc: 0.9615\n",
      "Epoch 40/40\n",
      "52/52 [==============================] - 0s 6ms/step - loss: 0.1117 - acc: 0.9808\n"
     ]
    },
    {
     "data": {
      "text/plain": [
       "<keras.callbacks.History at 0x1bc382a7888>"
      ]
     },
     "execution_count": 373,
     "metadata": {},
     "output_type": "execute_result"
    }
   ],
   "source": [
    "# model_dir = 'C:/pytest/temp/model/model'\n",
    "# modelpath = model_dir+'{epoch:d}-{val_loss:.4f}.h5'\n",
    "\n",
    "# from keras.callbacks import ModelCheckpoint\n",
    "# checkpointer = ModelCheckpoint(filepath=modelpath, monitor='val_loss', verbose=1, save_best_only=True)\n",
    "\n",
    "model.fit(X_train, y_train, epochs=50, batch_size=6)"
   ]
  },
  {
   "cell_type": "code",
   "execution_count": 374,
   "metadata": {},
   "outputs": [
    {
     "name": "stdout",
     "output_type": "stream",
     "text": [
      "2/2 [==============================] - 0s 4ms/step - loss: 0.3611 - acc: 0.8462\n",
      "Test Data Accuracy:  0.8461538553237915\n"
     ]
    }
   ],
   "source": [
    "print('Test Data Accuracy: ', model.evaluate(X_test, y_test)[1])"
   ]
  },
  {
   "cell_type": "code",
   "execution_count": 203,
   "metadata": {},
   "outputs": [],
   "source": [
    "model.save('C:/pytest/temp/model/best_model.h5')"
   ]
  },
  {
   "cell_type": "code",
   "execution_count": 204,
   "metadata": {},
   "outputs": [],
   "source": [
    "from tensorflow.keras.models import load_model\n",
    "loaded_model = load_model('C:/pytest/temp/model/best_model.h5')"
   ]
  },
  {
   "cell_type": "code",
   "execution_count": 205,
   "metadata": {},
   "outputs": [
    {
     "name": "stdout",
     "output_type": "stream",
     "text": [
      "2/2 [==============================] - 0s 3ms/step - loss: 0.3049 - acc: 0.9231\n",
      "Test Data Accuracy:  0.9230769276618958\n"
     ]
    }
   ],
   "source": [
    "print('Test Data Accuracy: ', loaded_model.evaluate(X_test, y_test)[1])"
   ]
  },
  {
   "cell_type": "code",
   "execution_count": null,
   "metadata": {},
   "outputs": [],
   "source": []
  }
 ],
 "metadata": {
  "kernelspec": {
   "display_name": "Python 3.7.4 ('venv': venv)",
   "language": "python",
   "name": "python3"
  },
  "language_info": {
   "codemirror_mode": {
    "name": "ipython",
    "version": 3
   },
   "file_extension": ".py",
   "mimetype": "text/x-python",
   "name": "python",
   "nbconvert_exporter": "python",
   "pygments_lexer": "ipython3",
   "version": "3.7.4"
  },
  "orig_nbformat": 4,
  "vscode": {
   "interpreter": {
    "hash": "828b3ff1a9b639f531d360136e481a3f232b7e9f33a8a1d624f5a211b5fe1b7b"
   }
  }
 },
 "nbformat": 4,
 "nbformat_minor": 2
}
