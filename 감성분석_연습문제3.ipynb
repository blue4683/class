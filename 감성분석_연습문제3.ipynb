{
 "cells": [
  {
   "cell_type": "code",
   "execution_count": 2,
   "metadata": {},
   "outputs": [],
   "source": [
    "import os\n",
    "import pandas as pd\n",
    "import numpy as np"
   ]
  },
  {
   "cell_type": "code",
   "execution_count": 3,
   "metadata": {},
   "outputs": [],
   "source": [
    "os.chdir('C:/pytest/충북 관광 데이터/')"
   ]
  },
  {
   "cell_type": "code",
   "execution_count": 4,
   "metadata": {},
   "outputs": [],
   "source": [
    "data1 = pd.read_csv('산막이옛길.csv', encoding = 'cp949')"
   ]
  },
  {
   "cell_type": "code",
   "execution_count": 5,
   "metadata": {},
   "outputs": [],
   "source": [
    "data_news = pd.read_csv('산막이옛길_결측치,6이상,키워드.csv', encoding = 'cp949')"
   ]
  },
  {
   "cell_type": "code",
   "execution_count": 6,
   "metadata": {},
   "outputs": [],
   "source": [
    "data_news2 = pd.read_csv('산막이옛길_결측치제거_6이상제거_관련없는내용.csv', encoding = 'cp949')"
   ]
  },
  {
   "cell_type": "code",
   "execution_count": 7,
   "metadata": {},
   "outputs": [],
   "source": [
    "data_real = pd.read_csv('산막이옛길_전처리_결측치,6이상,키워드.csv', encoding = 'cp949')"
   ]
  },
  {
   "cell_type": "code",
   "execution_count": 8,
   "metadata": {},
   "outputs": [],
   "source": [
    "data_null = data1[data1['내용'].isnull()]"
   ]
  },
  {
   "cell_type": "code",
   "execution_count": 9,
   "metadata": {},
   "outputs": [
    {
     "name": "stderr",
     "output_type": "stream",
     "text": [
      "c:\\project\\venv\\lib\\site-packages\\ipykernel_launcher.py:1: SettingWithCopyWarning: \n",
      "A value is trying to be set on a copy of a slice from a DataFrame.\n",
      "Try using .loc[row_indexer,col_indexer] = value instead\n",
      "\n",
      "See the caveats in the documentation: https://pandas.pydata.org/pandas-docs/stable/user_guide/indexing.html#returning-a-view-versus-a-copy\n",
      "  \"\"\"Entry point for launching an IPython kernel.\n"
     ]
    }
   ],
   "source": [
    "data_null['분류'] = 9"
   ]
  },
  {
   "cell_type": "code",
   "execution_count": 10,
   "metadata": {},
   "outputs": [],
   "source": [
    "data_news['분류'] = 1"
   ]
  },
  {
   "cell_type": "code",
   "execution_count": 11,
   "metadata": {},
   "outputs": [],
   "source": [
    "data_news2['분류'] = 1"
   ]
  },
  {
   "cell_type": "code",
   "execution_count": 12,
   "metadata": {},
   "outputs": [],
   "source": [
    "data_real['분류'] = 0"
   ]
  },
  {
   "cell_type": "code",
   "execution_count": 13,
   "metadata": {},
   "outputs": [],
   "source": [
    "total = pd.concat([data_real, data_news,data_news2, data_null])"
   ]
  },
  {
   "cell_type": "code",
   "execution_count": 19,
   "metadata": {},
   "outputs": [],
   "source": [
    "total = total.sort_values('id')"
   ]
  },
  {
   "cell_type": "code",
   "execution_count": 24,
   "metadata": {},
   "outputs": [],
   "source": [
    "total = pd.read_csv('123123.csv', encoding = 'cp949')"
   ]
  },
  {
   "cell_type": "code",
   "execution_count": 25,
   "metadata": {},
   "outputs": [],
   "source": [
    "total = total[['내용', '분류']]"
   ]
  },
  {
   "cell_type": "code",
   "execution_count": 26,
   "metadata": {},
   "outputs": [
    {
     "data": {
      "text/html": [
       "<div>\n",
       "<style scoped>\n",
       "    .dataframe tbody tr th:only-of-type {\n",
       "        vertical-align: middle;\n",
       "    }\n",
       "\n",
       "    .dataframe tbody tr th {\n",
       "        vertical-align: top;\n",
       "    }\n",
       "\n",
       "    .dataframe thead th {\n",
       "        text-align: right;\n",
       "    }\n",
       "</style>\n",
       "<table border=\"1\" class=\"dataframe\">\n",
       "  <thead>\n",
       "    <tr style=\"text-align: right;\">\n",
       "      <th></th>\n",
       "      <th>내용</th>\n",
       "      <th>분류</th>\n",
       "    </tr>\n",
       "  </thead>\n",
       "  <tbody>\n",
       "    <tr>\n",
       "      <th>0</th>\n",
       "      <td>NaN</td>\n",
       "      <td>9</td>\n",
       "    </tr>\n",
       "    <tr>\n",
       "      <th>1</th>\n",
       "      <td>괴산 맛집 산막이옛길 맛집 해바라기식당\\n?\\n?\\n?\\n?\\n이번에 산막이예길을 ...</td>\n",
       "      <td>0</td>\n",
       "    </tr>\n",
       "    <tr>\n",
       "      <th>2</th>\n",
       "      <td>괴산모텔 스토리모텔&amp;무인텔 새해복많이받으세요신정연휴 첫날이네요봄같은 겨울입니다.연인...</td>\n",
       "      <td>1</td>\n",
       "    </tr>\n",
       "    <tr>\n",
       "      <th>3</th>\n",
       "      <td>15년 마지막 날 오후5시까지 업무를 마치고바로 터미널로 이동해서 18시05분 수안...</td>\n",
       "      <td>0</td>\n",
       "    </tr>\n",
       "    <tr>\n",
       "      <th>4</th>\n",
       "      <td>설마 정말 오겠어? 라고 생각했었는데 어느새 2016년이 되었네요.\\n매해 느끼게 ...</td>\n",
       "      <td>0</td>\n",
       "    </tr>\n",
       "    <tr>\n",
       "      <th>...</th>\n",
       "      <td>...</td>\n",
       "      <td>...</td>\n",
       "    </tr>\n",
       "    <tr>\n",
       "      <th>2509</th>\n",
       "      <td>“ 산막이옛길에 출렁다리가 생겼대 !?”\\n\\n\\n\\n\\n\\n\\n\\n\\n\\n\\n\\n...</td>\n",
       "      <td>0</td>\n",
       "    </tr>\n",
       "    <tr>\n",
       "      <th>2510</th>\n",
       "      <td>오늘도 꽉 찬?갤러리를 털기위해 찌는 글 *ㅅ*이제는 안가면 섭섭한 율량동 착한양꼬...</td>\n",
       "      <td>0</td>\n",
       "    </tr>\n",
       "    <tr>\n",
       "      <th>2511</th>\n",
       "      <td>과식을 하게 만드는 그런 곳, 꼭 있다 !\\n\\n\\n\\n\\n\\n\\n\\n\\n\\n\\n\\...</td>\n",
       "      <td>0</td>\n",
       "    </tr>\n",
       "    <tr>\n",
       "      <th>2512</th>\n",
       "      <td>NaN</td>\n",
       "      <td>9</td>\n",
       "    </tr>\n",
       "    <tr>\n",
       "      <th>2513</th>\n",
       "      <td>괴산 백마권역 겨울놀이 축제 스토리호텔 ? 안녕하세요 스토리호텔입니다. 겨울방학 가...</td>\n",
       "      <td>1</td>\n",
       "    </tr>\n",
       "  </tbody>\n",
       "</table>\n",
       "<p>2514 rows × 2 columns</p>\n",
       "</div>"
      ],
      "text/plain": [
       "                                                     내용  분류\n",
       "0                                                   NaN   9\n",
       "1     괴산 맛집 산막이옛길 맛집 해바라기식당\\n?\\n?\\n?\\n?\\n이번에 산막이예길을 ...   0\n",
       "2     괴산모텔 스토리모텔&무인텔 새해복많이받으세요신정연휴 첫날이네요봄같은 겨울입니다.연인...   1\n",
       "3     15년 마지막 날 오후5시까지 업무를 마치고바로 터미널로 이동해서 18시05분 수안...   0\n",
       "4     설마 정말 오겠어? 라고 생각했었는데 어느새 2016년이 되었네요.\\n매해 느끼게 ...   0\n",
       "...                                                 ...  ..\n",
       "2509  “ 산막이옛길에 출렁다리가 생겼대 !?”\\n\\n\\n\\n\\n\\n\\n\\n\\n\\n\\n\\n...   0\n",
       "2510  오늘도 꽉 찬?갤러리를 털기위해 찌는 글 *ㅅ*이제는 안가면 섭섭한 율량동 착한양꼬...   0\n",
       "2511  과식을 하게 만드는 그런 곳, 꼭 있다 !\\n\\n\\n\\n\\n\\n\\n\\n\\n\\n\\n\\...   0\n",
       "2512                                                NaN   9\n",
       "2513  괴산 백마권역 겨울놀이 축제 스토리호텔 ? 안녕하세요 스토리호텔입니다. 겨울방학 가...   1\n",
       "\n",
       "[2514 rows x 2 columns]"
      ]
     },
     "execution_count": 26,
     "metadata": {},
     "output_type": "execute_result"
    }
   ],
   "source": [
    "total"
   ]
  },
  {
   "cell_type": "code",
   "execution_count": 28,
   "metadata": {},
   "outputs": [],
   "source": [
    "total.to_csv('산막이옛길_분류.csv', encoding = 'cp949', index = False)"
   ]
  },
  {
   "cell_type": "code",
   "execution_count": 39,
   "metadata": {},
   "outputs": [
    {
     "data": {
      "text/plain": [
       "2514"
      ]
     },
     "execution_count": 39,
     "metadata": {},
     "output_type": "execute_result"
    }
   ],
   "source": [
    "len(data1)"
   ]
  },
  {
   "cell_type": "code",
   "execution_count": 38,
   "metadata": {},
   "outputs": [
    {
     "data": {
      "text/plain": [
       "2511"
      ]
     },
     "execution_count": 38,
     "metadata": {},
     "output_type": "execute_result"
    }
   ],
   "source": [
    "len(total)"
   ]
  },
  {
   "cell_type": "code",
   "execution_count": 262,
   "metadata": {},
   "outputs": [
    {
     "data": {
      "text/plain": [
       "(2514, 7)"
      ]
     },
     "execution_count": 262,
     "metadata": {},
     "output_type": "execute_result"
    }
   ],
   "source": [
    "data1.shape"
   ]
  },
  {
   "cell_type": "code",
   "execution_count": 263,
   "metadata": {},
   "outputs": [
    {
     "data": {
      "text/plain": [
       "385"
      ]
     },
     "execution_count": 263,
     "metadata": {},
     "output_type": "execute_result"
    }
   ],
   "source": [
    "data1['글쓴이'].nunique()\n",
    "n = (data1['글쓴이'].nunique()) //4\n",
    "n"
   ]
  },
  {
   "cell_type": "code",
   "execution_count": 264,
   "metadata": {},
   "outputs": [],
   "source": [
    "data1.dropna(subset=['내용'], inplace = True)"
   ]
  },
  {
   "cell_type": "code",
   "execution_count": 265,
   "metadata": {},
   "outputs": [
    {
     "data": {
      "text/plain": [
       "0"
      ]
     },
     "execution_count": 265,
     "metadata": {},
     "output_type": "execute_result"
    }
   ],
   "source": [
    "data1['내용'].isnull().sum()"
   ]
  },
  {
   "cell_type": "code",
   "execution_count": 266,
   "metadata": {},
   "outputs": [
    {
     "data": {
      "text/plain": [
       "(2379, 7)"
      ]
     },
     "execution_count": 266,
     "metadata": {},
     "output_type": "execute_result"
    }
   ],
   "source": [
    "data1.shape"
   ]
  },
  {
   "cell_type": "code",
   "execution_count": 267,
   "metadata": {},
   "outputs": [
    {
     "data": {
      "text/plain": [
       "id       0\n",
       "글제목      1\n",
       "글쓴이      0\n",
       "내용       0\n",
       "태그     635\n",
       "공감수    504\n",
       "댓글수    170\n",
       "dtype: int64"
      ]
     },
     "execution_count": 267,
     "metadata": {},
     "output_type": "execute_result"
    }
   ],
   "source": [
    "data1.isnull().sum()"
   ]
  },
  {
   "cell_type": "code",
   "execution_count": 268,
   "metadata": {},
   "outputs": [],
   "source": [
    "data1_index = data1['글쓴이'].value_counts()[data1['글쓴이'].value_counts() < 6].index"
   ]
  },
  {
   "cell_type": "code",
   "execution_count": 269,
   "metadata": {},
   "outputs": [],
   "source": [
    "data1_index = list(data1_index)"
   ]
  },
  {
   "cell_type": "code",
   "execution_count": 270,
   "metadata": {},
   "outputs": [],
   "source": [
    "data_no = data1[~data1['글쓴이'].isin(data1_index)]"
   ]
  },
  {
   "cell_type": "code",
   "execution_count": 271,
   "metadata": {},
   "outputs": [
    {
     "data": {
      "text/html": [
       "<div>\n",
       "<style scoped>\n",
       "    .dataframe tbody tr th:only-of-type {\n",
       "        vertical-align: middle;\n",
       "    }\n",
       "\n",
       "    .dataframe tbody tr th {\n",
       "        vertical-align: top;\n",
       "    }\n",
       "\n",
       "    .dataframe thead th {\n",
       "        text-align: right;\n",
       "    }\n",
       "</style>\n",
       "<table border=\"1\" class=\"dataframe\">\n",
       "  <thead>\n",
       "    <tr style=\"text-align: right;\">\n",
       "      <th></th>\n",
       "      <th>id</th>\n",
       "      <th>글제목</th>\n",
       "      <th>글쓴이</th>\n",
       "      <th>내용</th>\n",
       "      <th>태그</th>\n",
       "      <th>공감수</th>\n",
       "      <th>댓글수</th>\n",
       "    </tr>\n",
       "  </thead>\n",
       "  <tbody>\n",
       "    <tr>\n",
       "      <th>2</th>\n",
       "      <td>3</td>\n",
       "      <td>괴산모텔 스토리모텔&amp;무인텔 새해복많이받으세요</td>\n",
       "      <td>하이옥션</td>\n",
       "      <td>괴산모텔 스토리모텔&amp;무인텔 새해복많이받으세요신정연휴 첫날이네요봄같은 겨울입니다.연인...</td>\n",
       "      <td>NaN</td>\n",
       "      <td>NaN</td>\n",
       "      <td>1.0</td>\n",
       "    </tr>\n",
       "    <tr>\n",
       "      <th>15</th>\n",
       "      <td>16</td>\n",
       "      <td>성불산자연휴양림 ?얼음나무? 조성 색다른 볼거리 제공</td>\n",
       "      <td>황해웅</td>\n",
       "      <td>충북 괴산군(군수 임각수)은 군에서 운영중인 성불산자연휴양림에 얼음나무를 조성해 휴...</td>\n",
       "      <td>#괴산군 #괴산홍보단 #산막이옛길 #충청도양반길 #괴산고추축제 #괴산시골절인배추 ...</td>\n",
       "      <td>NaN</td>\n",
       "      <td>0.0</td>\n",
       "    </tr>\n",
       "    <tr>\n",
       "      <th>16</th>\n",
       "      <td>17</td>\n",
       "      <td>산막이 딸기가 한창입니다~</td>\n",
       "      <td>산막이 옛길</td>\n",
       "      <td>?숲이랑사오랑 마을 산막이 딸기 하우스에는 지금싱싱하고 탐스럽고 빨갛고 예쁘고 먹음...</td>\n",
       "      <td>#딸기 #인삼딸기 #산막이</td>\n",
       "      <td>0.0</td>\n",
       "      <td>0.0</td>\n",
       "    </tr>\n",
       "    <tr>\n",
       "      <th>25</th>\n",
       "      <td>26</td>\n",
       "      <td>괴산홍보단 2016년도 신년회 및 총회</td>\n",
       "      <td>꺽정님</td>\n",
       "      <td>괴산홍보단 2016년도 신년회 및 총회괴산군홍보 최 일선에서 홍보활동 펼쳐지난7일 ...</td>\n",
       "      <td>#괴산문화원 #괴산타임즈 #충청도양반길 #중원대학교 #괴산군농업기술센터 #괴산경찰...</td>\n",
       "      <td>2.0</td>\n",
       "      <td>0.0</td>\n",
       "    </tr>\n",
       "    <tr>\n",
       "      <th>51</th>\n",
       "      <td>52</td>\n",
       "      <td>괴산군 산막이 옛길… 통 큰 기부!!!</td>\n",
       "      <td>황해웅</td>\n",
       "      <td>비학봉마을영농조합법인 지역인재 양성 위해 장학금 1억 원 기탁 - ?  전국 최고의...</td>\n",
       "      <td>?</td>\n",
       "      <td>NaN</td>\n",
       "      <td>0.0</td>\n",
       "    </tr>\n",
       "    <tr>\n",
       "      <th>...</th>\n",
       "      <td>...</td>\n",
       "      <td>...</td>\n",
       "      <td>...</td>\n",
       "      <td>...</td>\n",
       "      <td>...</td>\n",
       "      <td>...</td>\n",
       "      <td>...</td>\n",
       "    </tr>\n",
       "    <tr>\n",
       "      <th>2465</th>\n",
       "      <td>2466</td>\n",
       "      <td>괴산군 새마을회, 나눔으로 따뜻한 연말</td>\n",
       "      <td>혜철</td>\n",
       "      <td>[불교공뉴스-괴산군]?충북 괴산군 새마을회(회장 노명식)는 2016년 한해를 정리하...</td>\n",
       "      <td>NaN</td>\n",
       "      <td>0.0</td>\n",
       "      <td>0.0</td>\n",
       "    </tr>\n",
       "    <tr>\n",
       "      <th>2486</th>\n",
       "      <td>2487</td>\n",
       "      <td>충주 수안보펜션, 가족과 독채로 국내 최초 온천 관광지로 건강을 찾으세요~</td>\n",
       "      <td>James</td>\n",
       "      <td>충주 수안보펜션, 가족과 독채로 국내 최초 온천 관광지로 건강을 찾으세요.수안보 근...</td>\n",
       "      <td>#수안보펜션 #충주수안보펜션 #수안보온천펜션 #국내온천 #가족온천 #수안보온천 #...</td>\n",
       "      <td>6.0</td>\n",
       "      <td>3.0</td>\n",
       "    </tr>\n",
       "    <tr>\n",
       "      <th>2487</th>\n",
       "      <td>2488</td>\n",
       "      <td>또 저물어가는 한 해의 끝자락에서 2016년 여정을 돌아봅니다</td>\n",
       "      <td>비니버미</td>\n",
       "      <td>겨울.?^^*????봄.??????^^*??????여름.??????^^*??????...</td>\n",
       "      <td>#망상해변에서 #반포한강공원까지</td>\n",
       "      <td>54.0</td>\n",
       "      <td>NaN</td>\n",
       "    </tr>\n",
       "    <tr>\n",
       "      <th>2500</th>\n",
       "      <td>2501</td>\n",
       "      <td>10년간 2조원대 투입… 충북도 개발 '기대감'</td>\n",
       "      <td>충청일보</td>\n",
       "      <td>[충청일보 이정규기자] 충북도가 내년(2017년)부터 2026년까지 향후 10년간 ...</td>\n",
       "      <td>NaN</td>\n",
       "      <td>NaN</td>\n",
       "      <td>0.0</td>\n",
       "    </tr>\n",
       "    <tr>\n",
       "      <th>2513</th>\n",
       "      <td>2514</td>\n",
       "      <td>괴산백마권역겨울놀이축제 스토리호텔</td>\n",
       "      <td>하이옥션</td>\n",
       "      <td>괴산 백마권역 겨울놀이 축제 스토리호텔\\n?\\n안녕하세요 스토리호텔입니다.\\n겨울방...</td>\n",
       "      <td>NaN</td>\n",
       "      <td>NaN</td>\n",
       "      <td>0.0</td>\n",
       "    </tr>\n",
       "  </tbody>\n",
       "</table>\n",
       "<p>421 rows × 7 columns</p>\n",
       "</div>"
      ],
      "text/plain": [
       "        id                                        글제목     글쓴이  \\\n",
       "2        3                   괴산모텔 스토리모텔&무인텔 새해복많이받으세요    하이옥션   \n",
       "15      16              성불산자연휴양림 ?얼음나무? 조성 색다른 볼거리 제공     황해웅   \n",
       "16      17                             산막이 딸기가 한창입니다~  산막이 옛길   \n",
       "25      26                      괴산홍보단 2016년도 신년회 및 총회     꺽정님   \n",
       "51      52                      괴산군 산막이 옛길… 통 큰 기부!!!     황해웅   \n",
       "...    ...                                        ...     ...   \n",
       "2465  2466                      괴산군 새마을회, 나눔으로 따뜻한 연말      혜철   \n",
       "2486  2487  충주 수안보펜션, 가족과 독채로 국내 최초 온천 관광지로 건강을 찾으세요~   James   \n",
       "2487  2488         또 저물어가는 한 해의 끝자락에서 2016년 여정을 돌아봅니다    비니버미   \n",
       "2500  2501                 10년간 2조원대 투입… 충북도 개발 '기대감'    충청일보   \n",
       "2513  2514                         괴산백마권역겨울놀이축제 스토리호텔    하이옥션   \n",
       "\n",
       "                                                     내용  \\\n",
       "2     괴산모텔 스토리모텔&무인텔 새해복많이받으세요신정연휴 첫날이네요봄같은 겨울입니다.연인...   \n",
       "15    충북 괴산군(군수 임각수)은 군에서 운영중인 성불산자연휴양림에 얼음나무를 조성해 휴...   \n",
       "16    ?숲이랑사오랑 마을 산막이 딸기 하우스에는 지금싱싱하고 탐스럽고 빨갛고 예쁘고 먹음...   \n",
       "25    괴산홍보단 2016년도 신년회 및 총회괴산군홍보 최 일선에서 홍보활동 펼쳐지난7일 ...   \n",
       "51    비학봉마을영농조합법인 지역인재 양성 위해 장학금 1억 원 기탁 - ?  전국 최고의...   \n",
       "...                                                 ...   \n",
       "2465  [불교공뉴스-괴산군]?충북 괴산군 새마을회(회장 노명식)는 2016년 한해를 정리하...   \n",
       "2486  충주 수안보펜션, 가족과 독채로 국내 최초 온천 관광지로 건강을 찾으세요.수안보 근...   \n",
       "2487  겨울.?^^*????봄.??????^^*??????여름.??????^^*??????...   \n",
       "2500  [충청일보 이정규기자] 충북도가 내년(2017년)부터 2026년까지 향후 10년간 ...   \n",
       "2513  괴산 백마권역 겨울놀이 축제 스토리호텔\\n?\\n안녕하세요 스토리호텔입니다.\\n겨울방...   \n",
       "\n",
       "                                                     태그   공감수  댓글수  \n",
       "2                                                   NaN   NaN  1.0  \n",
       "15     #괴산군 #괴산홍보단 #산막이옛길 #충청도양반길 #괴산고추축제 #괴산시골절인배추 ...   NaN  0.0  \n",
       "16                                       #딸기 #인삼딸기 #산막이   0.0  0.0  \n",
       "25     #괴산문화원 #괴산타임즈 #충청도양반길 #중원대학교 #괴산군농업기술센터 #괴산경찰...   2.0  0.0  \n",
       "51                                                    ?   NaN  0.0  \n",
       "...                                                 ...   ...  ...  \n",
       "2465                                                NaN   0.0  0.0  \n",
       "2486   #수안보펜션 #충주수안보펜션 #수안보온천펜션 #국내온천 #가족온천 #수안보온천 #...   6.0  3.0  \n",
       "2487                                  #망상해변에서 #반포한강공원까지  54.0  NaN  \n",
       "2500                                                NaN   NaN  0.0  \n",
       "2513                                                NaN   NaN  0.0  \n",
       "\n",
       "[421 rows x 7 columns]"
      ]
     },
     "execution_count": 271,
     "metadata": {},
     "output_type": "execute_result"
    }
   ],
   "source": [
    "data_no"
   ]
  },
  {
   "cell_type": "code",
   "execution_count": 272,
   "metadata": {},
   "outputs": [],
   "source": [
    "data1 = data1[data1['글쓴이'].isin(data1_index)]"
   ]
  },
  {
   "cell_type": "code",
   "execution_count": 273,
   "metadata": {},
   "outputs": [],
   "source": [
    "def make_line(line):\n",
    "    line = line.split('\\n')\n",
    "    temp = ' '.join(line)\n",
    "    return temp"
   ]
  },
  {
   "cell_type": "code",
   "execution_count": 274,
   "metadata": {},
   "outputs": [],
   "source": [
    "data_no['내용'] = data_no['내용'].apply(make_line)\n",
    "data1['내용'] = data1['내용'].apply(make_line)"
   ]
  },
  {
   "cell_type": "code",
   "execution_count": 275,
   "metadata": {},
   "outputs": [
    {
     "data": {
      "text/plain": [
       "'괴산 맛집 산막이옛길 맛집 해바라기식당 ? ? ? ? 이번에 산막이예길을 갔다가 들어가는 입구이있길래 들른~!!! ? 식당?해바라가식당 ? 아이가 있어서 방이있는곳을 골라 들어갔는데`!! ? 할머니 한분이서 운영을 하시더라구요`! ?  방이있어서 아이들과 편하게 먹을수있었네요  ?  메뉴는 여러자기가 많이 있네요 ?  ? ? 격도 그렇게는 비싸지는 않은거 같아요 ? 저희가주문한거`!!! ? 파전과 두부김치 두부전골2인분^^ ? ?  바삭한 파전^^ ?  두부김치 입니다~~ㅋㅋㅋㅋ ? 부두가 정말 손두부인거같아요`!! ? 고소하니 맛나더라구요 ?  막걸리가 빼놓을순없죵 ㅋㅋㅋㅋㅋ ? 꿀맛이더라구요  ? 요건 두부전골~!!!! ? 정말정말 맛있었어요`~ㅋㅋ ? 추운날 산막이옛길 걸으려면 따스한걸 먹어주는게 좋잖아요 ? 괴산 맛집 산막이옛길 맛집 해바라가식당~~!!! ? 산막이옛길 입구에 있으니 굳이 따로 찾아가지 않고`!! ? 맛있게 드실수 있으실거 같아요'"
      ]
     },
     "execution_count": 275,
     "metadata": {},
     "output_type": "execute_result"
    }
   ],
   "source": [
    "data1['내용'][1]"
   ]
  },
  {
   "cell_type": "code",
   "execution_count": 276,
   "metadata": {},
   "outputs": [],
   "source": [
    "ex_tag = ['충북뉴스', '부동산', '매매', '매물', '군의회', '충청일보', '불교공뉴스', '충북뉴스', '뉴시스', '국제뉴스',\n",
    "'괴산타임즈', '리테이닝백', '괴산홍보단','모텔', '호텔']"
   ]
  },
  {
   "cell_type": "code",
   "execution_count": 2,
   "metadata": {},
   "outputs": [
    {
     "name": "stdout",
     "output_type": "stream",
     "text": [
      "filepath:  c:\\project\\venv\\lib\\site-packages\n",
      "classpath:  c:\\project\\venv\\lib\\site-packages\\rhinoMorph/lib/rhino.jar\n",
      "RHINO started!\n"
     ]
    }
   ],
   "source": [
    "import rhinoMorph\n",
    "rn = rhinoMorph.startRhino()"
   ]
  },
  {
   "cell_type": "code",
   "execution_count": 288,
   "metadata": {},
   "outputs": [],
   "source": [
    "def morph_data(line):\n",
    "    \n",
    "    morphed_data = rhinoMorph.onlyMorph_list(rn, line, pos=['NNG','NNP','VV','VA','XR','IC','MM','MAG','MAJ'], eomi = True)\n",
    "    joined_data = ' '.join(morphed_data) # 문자열을 하나로 연결\n",
    "    if joined_data: # 내용이 있는 경우만 저장하게 함\n",
    "        line = joined_data\n",
    "    \n",
    "    return line"
   ]
  },
  {
   "cell_type": "code",
   "execution_count": 277,
   "metadata": {},
   "outputs": [],
   "source": [
    "def find(line):\n",
    "    temp = line.split()\n",
    "    for tmp in temp:\n",
    "        if tmp in ex_tag:\n",
    "            return 0\n",
    "\n",
    "        else:\n",
    "            pass\n",
    "\n",
    "    return line"
   ]
  },
  {
   "cell_type": "code",
   "execution_count": 279,
   "metadata": {},
   "outputs": [],
   "source": [
    "data1['내용'] = data1['내용'].apply(find)"
   ]
  },
  {
   "cell_type": "code",
   "execution_count": 280,
   "metadata": {},
   "outputs": [],
   "source": [
    "data_no_relation = data1[data1['내용'] == 0]"
   ]
  },
  {
   "cell_type": "code",
   "execution_count": 286,
   "metadata": {},
   "outputs": [
    {
     "data": {
      "text/plain": [
       "(28, 7)"
      ]
     },
     "execution_count": 286,
     "metadata": {},
     "output_type": "execute_result"
    }
   ],
   "source": [
    "data_no_relation.shape"
   ]
  },
  {
   "cell_type": "code",
   "execution_count": 282,
   "metadata": {},
   "outputs": [],
   "source": [
    "data_no = pd.concat([data_no, data_no_relation])"
   ]
  },
  {
   "cell_type": "code",
   "execution_count": 283,
   "metadata": {},
   "outputs": [
    {
     "data": {
      "text/html": [
       "<div>\n",
       "<style scoped>\n",
       "    .dataframe tbody tr th:only-of-type {\n",
       "        vertical-align: middle;\n",
       "    }\n",
       "\n",
       "    .dataframe tbody tr th {\n",
       "        vertical-align: top;\n",
       "    }\n",
       "\n",
       "    .dataframe thead th {\n",
       "        text-align: right;\n",
       "    }\n",
       "</style>\n",
       "<table border=\"1\" class=\"dataframe\">\n",
       "  <thead>\n",
       "    <tr style=\"text-align: right;\">\n",
       "      <th></th>\n",
       "      <th>id</th>\n",
       "      <th>글제목</th>\n",
       "      <th>글쓴이</th>\n",
       "      <th>내용</th>\n",
       "      <th>태그</th>\n",
       "      <th>공감수</th>\n",
       "      <th>댓글수</th>\n",
       "    </tr>\n",
       "  </thead>\n",
       "  <tbody>\n",
       "    <tr>\n",
       "      <th>2</th>\n",
       "      <td>3</td>\n",
       "      <td>괴산모텔 스토리모텔&amp;무인텔 새해복많이받으세요</td>\n",
       "      <td>하이옥션</td>\n",
       "      <td>괴산모텔 스토리모텔&amp;무인텔 새해복많이받으세요신정연휴 첫날이네요봄같은 겨울입니다.연인...</td>\n",
       "      <td>NaN</td>\n",
       "      <td>NaN</td>\n",
       "      <td>1.0</td>\n",
       "    </tr>\n",
       "    <tr>\n",
       "      <th>15</th>\n",
       "      <td>16</td>\n",
       "      <td>성불산자연휴양림 ?얼음나무? 조성 색다른 볼거리 제공</td>\n",
       "      <td>황해웅</td>\n",
       "      <td>충북 괴산군(군수 임각수)은 군에서 운영중인 성불산자연휴양림에 얼음나무를 조성해 휴...</td>\n",
       "      <td>#괴산군 #괴산홍보단 #산막이옛길 #충청도양반길 #괴산고추축제 #괴산시골절인배추 ...</td>\n",
       "      <td>NaN</td>\n",
       "      <td>0.0</td>\n",
       "    </tr>\n",
       "    <tr>\n",
       "      <th>16</th>\n",
       "      <td>17</td>\n",
       "      <td>산막이 딸기가 한창입니다~</td>\n",
       "      <td>산막이 옛길</td>\n",
       "      <td>?숲이랑사오랑 마을 산막이 딸기 하우스에는 지금싱싱하고 탐스럽고 빨갛고 예쁘고 먹음...</td>\n",
       "      <td>#딸기 #인삼딸기 #산막이</td>\n",
       "      <td>0.0</td>\n",
       "      <td>0.0</td>\n",
       "    </tr>\n",
       "    <tr>\n",
       "      <th>25</th>\n",
       "      <td>26</td>\n",
       "      <td>괴산홍보단 2016년도 신년회 및 총회</td>\n",
       "      <td>꺽정님</td>\n",
       "      <td>괴산홍보단 2016년도 신년회 및 총회괴산군홍보 최 일선에서 홍보활동 펼쳐지난7일 ...</td>\n",
       "      <td>#괴산문화원 #괴산타임즈 #충청도양반길 #중원대학교 #괴산군농업기술센터 #괴산경찰...</td>\n",
       "      <td>2.0</td>\n",
       "      <td>0.0</td>\n",
       "    </tr>\n",
       "    <tr>\n",
       "      <th>51</th>\n",
       "      <td>52</td>\n",
       "      <td>괴산군 산막이 옛길… 통 큰 기부!!!</td>\n",
       "      <td>황해웅</td>\n",
       "      <td>비학봉마을영농조합법인 지역인재 양성 위해 장학금 1억 원 기탁 - ?  전국 최고의...</td>\n",
       "      <td>?</td>\n",
       "      <td>NaN</td>\n",
       "      <td>0.0</td>\n",
       "    </tr>\n",
       "    <tr>\n",
       "      <th>...</th>\n",
       "      <td>...</td>\n",
       "      <td>...</td>\n",
       "      <td>...</td>\n",
       "      <td>...</td>\n",
       "      <td>...</td>\n",
       "      <td>...</td>\n",
       "      <td>...</td>\n",
       "    </tr>\n",
       "    <tr>\n",
       "      <th>1977</th>\n",
       "      <td>1978</td>\n",
       "      <td>청주 괴산 산막이 옛길~ 산막옛길 ~ 가을산행으로 좋은곳 추천 드려용~ ^^</td>\n",
       "      <td>아우라공인 김쇼장</td>\n",
       "      <td>0</td>\n",
       "      <td>#괴산산막이옛길 #괴산가볼만한곳 #자연산능이버섯 #율량동부동산 #율량동맛집 #괴산...</td>\n",
       "      <td>0.0</td>\n",
       "      <td>0.0</td>\n",
       "    </tr>\n",
       "    <tr>\n",
       "      <th>2063</th>\n",
       "      <td>2064</td>\n",
       "      <td>[시흥 늠내길] / 제주에는 '올레길' 시흥에는 '늠내길'</td>\n",
       "      <td>나그네</td>\n",
       "      <td>0</td>\n",
       "      <td>?</td>\n",
       "      <td>1.0</td>\n",
       "      <td>0.0</td>\n",
       "    </tr>\n",
       "    <tr>\n",
       "      <th>2123</th>\n",
       "      <td>2124</td>\n",
       "      <td>중원대학교 박물관 카페테리아 - 공룡 보고 왔어요~ 주말 괴산여행</td>\n",
       "      <td>깜찍이지</td>\n",
       "      <td>0</td>\n",
       "      <td>#중원대학교 #중원대학교박물관 #괴산여행 #괴산 #공룡 #가야호텔 #중원박물관 #...</td>\n",
       "      <td>4.0</td>\n",
       "      <td>2.0</td>\n",
       "    </tr>\n",
       "    <tr>\n",
       "      <th>2284</th>\n",
       "      <td>2285</td>\n",
       "      <td>괴산황토펜션 다녀왔어요. 굿~!</td>\n",
       "      <td>도전자 이성용</td>\n",
       "      <td>0</td>\n",
       "      <td>#괴산황토펜션 #괴산펜션 #괴산칠성펜션 #내려놓기펜션 #산막기옛길 #산막기옛길펜션...</td>\n",
       "      <td>4.0</td>\n",
       "      <td>2.0</td>\n",
       "    </tr>\n",
       "    <tr>\n",
       "      <th>2479</th>\n",
       "      <td>2480</td>\n",
       "      <td>봄여름가을 그리고 겨울, 국내 여행지 베스트 10</td>\n",
       "      <td>공주의아빠</td>\n",
       "      <td>0</td>\n",
       "      <td>#국내여행지추천 #국내여행지베스트10 #봄여름가을겨울 #가족여행지</td>\n",
       "      <td>112.0</td>\n",
       "      <td>49.0</td>\n",
       "    </tr>\n",
       "  </tbody>\n",
       "</table>\n",
       "<p>449 rows × 7 columns</p>\n",
       "</div>"
      ],
      "text/plain": [
       "        id                                         글제목        글쓴이  \\\n",
       "2        3                    괴산모텔 스토리모텔&무인텔 새해복많이받으세요       하이옥션   \n",
       "15      16               성불산자연휴양림 ?얼음나무? 조성 색다른 볼거리 제공        황해웅   \n",
       "16      17                              산막이 딸기가 한창입니다~     산막이 옛길   \n",
       "25      26                       괴산홍보단 2016년도 신년회 및 총회        꺽정님   \n",
       "51      52                       괴산군 산막이 옛길… 통 큰 기부!!!        황해웅   \n",
       "...    ...                                         ...        ...   \n",
       "1977  1978  청주 괴산 산막이 옛길~ 산막옛길 ~ 가을산행으로 좋은곳 추천 드려용~ ^^  아우라공인 김쇼장   \n",
       "2063  2064            [시흥 늠내길] / 제주에는 '올레길' 시흥에는 '늠내길'        나그네   \n",
       "2123  2124        중원대학교 박물관 카페테리아 - 공룡 보고 왔어요~ 주말 괴산여행       깜찍이지   \n",
       "2284  2285                           괴산황토펜션 다녀왔어요. 굿~!    도전자 이성용   \n",
       "2479  2480                 봄여름가을 그리고 겨울, 국내 여행지 베스트 10      공주의아빠   \n",
       "\n",
       "                                                     내용  \\\n",
       "2     괴산모텔 스토리모텔&무인텔 새해복많이받으세요신정연휴 첫날이네요봄같은 겨울입니다.연인...   \n",
       "15    충북 괴산군(군수 임각수)은 군에서 운영중인 성불산자연휴양림에 얼음나무를 조성해 휴...   \n",
       "16    ?숲이랑사오랑 마을 산막이 딸기 하우스에는 지금싱싱하고 탐스럽고 빨갛고 예쁘고 먹음...   \n",
       "25    괴산홍보단 2016년도 신년회 및 총회괴산군홍보 최 일선에서 홍보활동 펼쳐지난7일 ...   \n",
       "51    비학봉마을영농조합법인 지역인재 양성 위해 장학금 1억 원 기탁 - ?  전국 최고의...   \n",
       "...                                                 ...   \n",
       "1977                                                  0   \n",
       "2063                                                  0   \n",
       "2123                                                  0   \n",
       "2284                                                  0   \n",
       "2479                                                  0   \n",
       "\n",
       "                                                     태그    공감수   댓글수  \n",
       "2                                                   NaN    NaN   1.0  \n",
       "15     #괴산군 #괴산홍보단 #산막이옛길 #충청도양반길 #괴산고추축제 #괴산시골절인배추 ...    NaN   0.0  \n",
       "16                                       #딸기 #인삼딸기 #산막이    0.0   0.0  \n",
       "25     #괴산문화원 #괴산타임즈 #충청도양반길 #중원대학교 #괴산군농업기술센터 #괴산경찰...    2.0   0.0  \n",
       "51                                                    ?    NaN   0.0  \n",
       "...                                                 ...    ...   ...  \n",
       "1977   #괴산산막이옛길 #괴산가볼만한곳 #자연산능이버섯 #율량동부동산 #율량동맛집 #괴산...    0.0   0.0  \n",
       "2063                                                  ?    1.0   0.0  \n",
       "2123   #중원대학교 #중원대학교박물관 #괴산여행 #괴산 #공룡 #가야호텔 #중원박물관 #...    4.0   2.0  \n",
       "2284   #괴산황토펜션 #괴산펜션 #괴산칠성펜션 #내려놓기펜션 #산막기옛길 #산막기옛길펜션...    4.0   2.0  \n",
       "2479               #국내여행지추천 #국내여행지베스트10 #봄여름가을겨울 #가족여행지  112.0  49.0  \n",
       "\n",
       "[449 rows x 7 columns]"
      ]
     },
     "execution_count": 283,
     "metadata": {},
     "output_type": "execute_result"
    }
   ],
   "source": [
    "data_no"
   ]
  },
  {
   "cell_type": "code",
   "execution_count": 281,
   "metadata": {},
   "outputs": [],
   "source": [
    "data1 = data1[data1['내용'] != 0]"
   ]
  },
  {
   "cell_type": "code",
   "execution_count": 284,
   "metadata": {},
   "outputs": [],
   "source": [
    "data1.to_csv('산막이옛길_결측치제거_6이상제거_키워드제거.csv', encoding = 'cp949', index = False)\n",
    "data_no.to_csv('산막이옛길_결측치제거_6이상제거_키워드제거_관련없는내용.csv', encoding = 'cp949', index = False)"
   ]
  },
  {
   "cell_type": "code",
   "execution_count": 285,
   "metadata": {},
   "outputs": [
    {
     "data": {
      "text/plain": [
       "1930"
      ]
     },
     "execution_count": 285,
     "metadata": {},
     "output_type": "execute_result"
    }
   ],
   "source": [
    "len(data1)"
   ]
  },
  {
   "cell_type": "code",
   "execution_count": 293,
   "metadata": {},
   "outputs": [],
   "source": [
    "senti_data = pd.read_csv('감성분석_1.csv', encoding = 'cp949')"
   ]
  },
  {
   "cell_type": "code",
   "execution_count": 294,
   "metadata": {},
   "outputs": [
    {
     "data": {
      "text/html": [
       "<div>\n",
       "<style scoped>\n",
       "    .dataframe tbody tr th:only-of-type {\n",
       "        vertical-align: middle;\n",
       "    }\n",
       "\n",
       "    .dataframe tbody tr th {\n",
       "        vertical-align: top;\n",
       "    }\n",
       "\n",
       "    .dataframe thead th {\n",
       "        text-align: right;\n",
       "    }\n",
       "</style>\n",
       "<table border=\"1\" class=\"dataframe\">\n",
       "  <thead>\n",
       "    <tr style=\"text-align: right;\">\n",
       "      <th></th>\n",
       "      <th>text</th>\n",
       "      <th>pos</th>\n",
       "      <th>neg</th>\n",
       "      <th>senti_score</th>\n",
       "      <th>result</th>\n",
       "    </tr>\n",
       "  </thead>\n",
       "  <tbody>\n",
       "    <tr>\n",
       "      <th>0</th>\n",
       "      <td>괴산 맛집 산막이옛길 맛집 해바라기 식당 이번 산막이 예 길 가다 들어가다 입구 있...</td>\n",
       "      <td>3</td>\n",
       "      <td>2</td>\n",
       "      <td>1</td>\n",
       "      <td>1.0</td>\n",
       "    </tr>\n",
       "    <tr>\n",
       "      <th>1</th>\n",
       "      <td>마지막 날 오후 업무 마치다 고 바로 터미널 이동 수안보 버스 타다 하지만 직행 아...</td>\n",
       "      <td>7</td>\n",
       "      <td>4</td>\n",
       "      <td>3</td>\n",
       "      <td>1.0</td>\n",
       "    </tr>\n",
       "    <tr>\n",
       "      <th>2</th>\n",
       "      <td>설마 정말 오다 생각하다 어느새 되다 매해 느끼다 되다 시간 참 빠르다 말 실감 되...</td>\n",
       "      <td>12</td>\n",
       "      <td>14</td>\n",
       "      <td>-2</td>\n",
       "      <td>-1.0</td>\n",
       "    </tr>\n",
       "    <tr>\n",
       "      <th>3</th>\n",
       "      <td>지도 보다 NAVER 더 보다 데이터 NAVER 수주팔봉 야영지 충청북도 충주시 대...</td>\n",
       "      <td>6</td>\n",
       "      <td>5</td>\n",
       "      <td>1</td>\n",
       "      <td>1.0</td>\n",
       "    </tr>\n",
       "    <tr>\n",
       "      <th>4</th>\n",
       "      <td>넘치다 에너지 주체 못하다 덕 언제나 오늘 가다 시간 때우다 하다 걱정 오늘 역시 ...</td>\n",
       "      <td>10</td>\n",
       "      <td>11</td>\n",
       "      <td>-1</td>\n",
       "      <td>-1.0</td>\n",
       "    </tr>\n",
       "  </tbody>\n",
       "</table>\n",
       "</div>"
      ],
      "text/plain": [
       "                                                text  pos  neg  senti_score  \\\n",
       "0  괴산 맛집 산막이옛길 맛집 해바라기 식당 이번 산막이 예 길 가다 들어가다 입구 있...    3    2            1   \n",
       "1  마지막 날 오후 업무 마치다 고 바로 터미널 이동 수안보 버스 타다 하지만 직행 아...    7    4            3   \n",
       "2  설마 정말 오다 생각하다 어느새 되다 매해 느끼다 되다 시간 참 빠르다 말 실감 되...   12   14           -2   \n",
       "3  지도 보다 NAVER 더 보다 데이터 NAVER 수주팔봉 야영지 충청북도 충주시 대...    6    5            1   \n",
       "4  넘치다 에너지 주체 못하다 덕 언제나 오늘 가다 시간 때우다 하다 걱정 오늘 역시 ...   10   11           -1   \n",
       "\n",
       "   result  \n",
       "0     1.0  \n",
       "1     1.0  \n",
       "2    -1.0  \n",
       "3     1.0  \n",
       "4    -1.0  "
      ]
     },
     "execution_count": 294,
     "metadata": {},
     "output_type": "execute_result"
    }
   ],
   "source": [
    "senti_data.head()"
   ]
  },
  {
   "cell_type": "code",
   "execution_count": 310,
   "metadata": {},
   "outputs": [],
   "source": [
    "import matplotlib\n",
    "from matplotlib import font_manager, rc\n",
    "font_path = 'C:/Windows/Fonts/malgun.ttf'\n",
    "font_name = font_manager.FontProperties(fname=font_path).get_name()\n",
    "matplotlib.rc('font', family=font_name)"
   ]
  },
  {
   "cell_type": "code",
   "execution_count": 311,
   "metadata": {},
   "outputs": [],
   "source": [
    "import matplotlib.pyplot as plt\n",
    "\n",
    "def draw_pi(df, column):\n",
    "    index = list(df[column].value_counts().index)\n",
    "    for i in range(len(index)):\n",
    "        if i == 1.0:\n",
    "            index[i] = '긍정'\n",
    "\n",
    "        elif i == 0:\n",
    "            index[i] = '중립'\n",
    "\n",
    "        else:\n",
    "            index[i] = '부정'\n",
    "\n",
    "    value = df[column].value_counts().values\n",
    "    rate = (value / len(df)) * 100\n",
    "    explode = [0.05] * len(index)\n",
    "\n",
    "    plt.pie(rate, labels=index, autopct='%.1f%%', startangle=260, counterclock=False, explode=explode)\n",
    "    plt.show() "
   ]
  },
  {
   "cell_type": "code",
   "execution_count": 308,
   "metadata": {},
   "outputs": [],
   "source": [
    "import matplotlib.pyplot as plt\n",
    "\n",
    "def draw_multi_pi(df, column):\n",
    "    df_sum = []\n",
    "    for col in column:\n",
    "        temp = df[col].sum()\n",
    "        df_sum.append(temp)\n",
    "    rate = [(s / len(df)) * 100 for s in df_sum]\n",
    "    explode = [0.05] * len(column)\n",
    "\n",
    "    plt.pie(rate, labels=column, autopct='%.1f%%', startangle=260, counterclock=False, explode=explode,colors = ['#ff9999', '#8fd9b6'])\n",
    "    plt.show() "
   ]
  },
  {
   "cell_type": "code",
   "execution_count": 312,
   "metadata": {},
   "outputs": [
    {
     "data": {
      "image/png": "[encoded data removed]",
      "text/plain": [
       "<Figure size 640x480 with 1 Axes>"
      ]
     },
     "metadata": {},
     "output_type": "display_data"
    }
   ],
   "source": [
    "draw_pi(senti_data, 'result')"
   ]
  },
  {
   "cell_type": "code",
   "execution_count": 313,
   "metadata": {},
   "outputs": [
    {
     "data": {
      "image/png": "[encoded data removed]",
      "text/plain": [
       "<Figure size 640x480 with 1 Axes>"
      ]
     },
     "metadata": {},
     "output_type": "display_data"
    }
   ],
   "source": [
    "draw_multi_pi(senti_data, ['pos', 'neg'])"
   ]
  },
  {
   "cell_type": "code",
   "execution_count": null,
   "metadata": {},
   "outputs": [],
   "source": []
  }
 ],
 "metadata": {
  "kernelspec": {
   "display_name": "Python 3.7.4 ('venv': venv)",
   "language": "python",
   "name": "python3"
  },
  "language_info": {
   "codemirror_mode": {
    "name": "ipython",
    "version": 3
   },
   "file_extension": ".py",
   "mimetype": "text/x-python",
   "name": "python",
   "nbconvert_exporter": "python",
   "pygments_lexer": "ipython3",
   "version": "3.7.4"
  },
  "orig_nbformat": 4,
  "vscode": {
   "interpreter": {
    "hash": "828b3ff1a9b639f531d360136e481a3f232b7e9f33a8a1d624f5a211b5fe1b7b"
   }
  }
 },
 "nbformat": 4,
 "nbformat_minor": 2
}
