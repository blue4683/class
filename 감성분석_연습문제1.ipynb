{
 "cells": [
  {
   "cell_type": "code",
   "execution_count": 1,
   "metadata": {},
   "outputs": [],
   "source": [
    "import matplotlib\n",
    "from matplotlib import font_manager, rc\n",
    "font_path = 'C:/Windows/Fonts/malgun.ttf'\n",
    "font_name = font_manager.FontProperties(fname=font_path).get_name()\n",
    "matplotlib.rc('font', family=font_name)"
   ]
  },
  {
   "cell_type": "code",
   "execution_count": 2,
   "metadata": {},
   "outputs": [],
   "source": [
    "import os\n",
    "os.chdir('C:/pytest/')"
   ]
  },
  {
   "cell_type": "code",
   "execution_count": 3,
   "metadata": {},
   "outputs": [],
   "source": [
    "import pandas as pd\n",
    "import numpy as np"
   ]
  },
  {
   "cell_type": "code",
   "execution_count": 4,
   "metadata": {},
   "outputs": [],
   "source": [
    "df = pd.read_csv('감성대화말뭉치(최종데이터)_Validation.csv', encoding = 'cp949')"
   ]
  },
  {
   "cell_type": "code",
   "execution_count": 5,
   "metadata": {},
   "outputs": [],
   "source": [
    "df1 = pd.read_csv('사람문장150_299.csv', encoding = 'cp949')"
   ]
  },
  {
   "cell_type": "code",
   "execution_count": 6,
   "metadata": {},
   "outputs": [],
   "source": [
    "df2 = pd.read_csv('사람문장_300-449.csv', encoding = 'cp949')"
   ]
  },
  {
   "cell_type": "code",
   "execution_count": 7,
   "metadata": {},
   "outputs": [],
   "source": [
    "data = pd.read_csv('감정분류.csv', encoding = 'cp949')"
   ]
  },
  {
   "cell_type": "code",
   "execution_count": 8,
   "metadata": {},
   "outputs": [],
   "source": [
    "def judge(res):\n",
    "    if res == '긍정':\n",
    "        res = 1\n",
    "\n",
    "    elif res == '중립':\n",
    "        res = 0\n",
    "\n",
    "    else:\n",
    "        res = -1\n",
    "\n",
    "    return res\n",
    "        "
   ]
  },
  {
   "cell_type": "code",
   "execution_count": 9,
   "metadata": {},
   "outputs": [
    {
     "data": {
      "text/html": [
       "<div>\n",
       "<style scoped>\n",
       "    .dataframe tbody tr th:only-of-type {\n",
       "        vertical-align: middle;\n",
       "    }\n",
       "\n",
       "    .dataframe tbody tr th {\n",
       "        vertical-align: top;\n",
       "    }\n",
       "\n",
       "    .dataframe thead th {\n",
       "        text-align: right;\n",
       "    }\n",
       "</style>\n",
       "<table border=\"1\" class=\"dataframe\">\n",
       "  <thead>\n",
       "    <tr style=\"text-align: right;\">\n",
       "      <th></th>\n",
       "      <th>Unnamed: 0</th>\n",
       "      <th>감정_대분류</th>\n",
       "      <th>사람문장1</th>\n",
       "    </tr>\n",
       "  </thead>\n",
       "  <tbody>\n",
       "    <tr>\n",
       "      <th>0</th>\n",
       "      <td>0</td>\n",
       "      <td>부정</td>\n",
       "      <td>요즘 부모님과 많이 부딪혀.</td>\n",
       "    </tr>\n",
       "    <tr>\n",
       "      <th>1</th>\n",
       "      <td>1</td>\n",
       "      <td>부정</td>\n",
       "      <td>엄마가 결국 집을 나갔어. 너무 너무 슬퍼.</td>\n",
       "    </tr>\n",
       "    <tr>\n",
       "      <th>2</th>\n",
       "      <td>2</td>\n",
       "      <td>부정</td>\n",
       "      <td>학교에서 한 친구를 괴롭히는 무리에게 그만하라고 했어.</td>\n",
       "    </tr>\n",
       "    <tr>\n",
       "      <th>3</th>\n",
       "      <td>3</td>\n",
       "      <td>부정</td>\n",
       "      <td>이번에 팀장님이 간단한 조사 업무를 부탁하셨는데 내가 잘못 처리했어. 너무 절망적이야.</td>\n",
       "    </tr>\n",
       "    <tr>\n",
       "      <th>4</th>\n",
       "      <td>4</td>\n",
       "      <td>부정</td>\n",
       "      <td>남편이 이혼할 때 위자료를 주지 않으려고 변호사를 고용했어.</td>\n",
       "    </tr>\n",
       "    <tr>\n",
       "      <th>...</th>\n",
       "      <td>...</td>\n",
       "      <td>...</td>\n",
       "      <td>...</td>\n",
       "    </tr>\n",
       "    <tr>\n",
       "      <th>145</th>\n",
       "      <td>145</td>\n",
       "      <td>부정</td>\n",
       "      <td>친정엄마가 항암치료 때문에 고생하시는 걸 보니까 내 마음이 너무 힘들어.</td>\n",
       "    </tr>\n",
       "    <tr>\n",
       "      <th>146</th>\n",
       "      <td>146</td>\n",
       "      <td>부정</td>\n",
       "      <td>결혼까지 하려고 했던 여자친구와 헤어졌어.</td>\n",
       "    </tr>\n",
       "    <tr>\n",
       "      <th>147</th>\n",
       "      <td>147</td>\n",
       "      <td>부정</td>\n",
       "      <td>나는 돈이 없어서 결혼할 수 없을 것 같아.</td>\n",
       "    </tr>\n",
       "    <tr>\n",
       "      <th>148</th>\n",
       "      <td>148</td>\n",
       "      <td>부정</td>\n",
       "      <td>취업이 너무 힘들어. 나는 직업을 가지지 못할 것 같아.</td>\n",
       "    </tr>\n",
       "    <tr>\n",
       "      <th>149</th>\n",
       "      <td>149</td>\n",
       "      <td>긍정</td>\n",
       "      <td>옆집 노인은 매일 나와 인사를 나눠. 인사 나누는 걸 참 좋아하는 거 같아.</td>\n",
       "    </tr>\n",
       "  </tbody>\n",
       "</table>\n",
       "<p>150 rows × 3 columns</p>\n",
       "</div>"
      ],
      "text/plain": [
       "     Unnamed: 0 감정_대분류                                             사람문장1\n",
       "0             0     부정                                   요즘 부모님과 많이 부딪혀.\n",
       "1             1     부정                          엄마가 결국 집을 나갔어. 너무 너무 슬퍼.\n",
       "2             2     부정                    학교에서 한 친구를 괴롭히는 무리에게 그만하라고 했어.\n",
       "3             3     부정  이번에 팀장님이 간단한 조사 업무를 부탁하셨는데 내가 잘못 처리했어. 너무 절망적이야.\n",
       "4             4     부정                 남편이 이혼할 때 위자료를 주지 않으려고 변호사를 고용했어.\n",
       "..          ...    ...                                               ...\n",
       "145         145     부정          친정엄마가 항암치료 때문에 고생하시는 걸 보니까 내 마음이 너무 힘들어.\n",
       "146         146     부정                           결혼까지 하려고 했던 여자친구와 헤어졌어.\n",
       "147         147     부정                          나는 돈이 없어서 결혼할 수 없을 것 같아.\n",
       "148         148     부정                   취업이 너무 힘들어. 나는 직업을 가지지 못할 것 같아.\n",
       "149         149     긍정        옆집 노인은 매일 나와 인사를 나눠. 인사 나누는 걸 참 좋아하는 거 같아.\n",
       "\n",
       "[150 rows x 3 columns]"
      ]
     },
     "execution_count": 9,
     "metadata": {},
     "output_type": "execute_result"
    }
   ],
   "source": [
    "data"
   ]
  },
  {
   "cell_type": "code",
   "execution_count": 10,
   "metadata": {},
   "outputs": [],
   "source": [
    "data = data[['사람문장1', '감정_대분류']]"
   ]
  },
  {
   "cell_type": "code",
   "execution_count": 11,
   "metadata": {},
   "outputs": [
    {
     "name": "stderr",
     "output_type": "stream",
     "text": [
      "c:\\project\\venv\\lib\\site-packages\\ipykernel_launcher.py:1: SettingWithCopyWarning: \n",
      "A value is trying to be set on a copy of a slice from a DataFrame.\n",
      "Try using .loc[row_indexer,col_indexer] = value instead\n",
      "\n",
      "See the caveats in the documentation: https://pandas.pydata.org/pandas-docs/stable/user_guide/indexing.html#returning-a-view-versus-a-copy\n",
      "  \"\"\"Entry point for launching an IPython kernel.\n"
     ]
    }
   ],
   "source": [
    "data['감정_대분류'] = data['감정_대분류'].apply(judge)"
   ]
  },
  {
   "cell_type": "code",
   "execution_count": 12,
   "metadata": {},
   "outputs": [],
   "source": [
    "data.to_csv('사람문장0_149.csv', encoding = 'cp949', index = False)"
   ]
  },
  {
   "cell_type": "code",
   "execution_count": 13,
   "metadata": {},
   "outputs": [],
   "source": [
    "def read_data(filename, encoding = 'cp949'):\n",
    "    with open(filename, 'r', encoding = encoding) as f:\n",
    "        data = [line for line in f.read().splitlines()]\n",
    "    return data\n",
    "\n",
    "def write_data(data, filename, encoding = 'cp949'):\n",
    "    with open(filename, 'w', encoding = encoding) as f:\n",
    "        f.write(data)"
   ]
  },
  {
   "cell_type": "code",
   "execution_count": 14,
   "metadata": {},
   "outputs": [
    {
     "ename": "NameError",
     "evalue": "name 'morph_data' is not defined",
     "output_type": "error",
     "traceback": [
      "\u001b[1;31m---------------------------------------------------------------------------\u001b[0m",
      "\u001b[1;31mNameError\u001b[0m                                 Traceback (most recent call last)",
      "\u001b[1;32m~\\AppData\\Local\\Temp\\ipykernel_5424\\866133527.py\u001b[0m in \u001b[0;36m<module>\u001b[1;34m\u001b[0m\n\u001b[1;32m----> 1\u001b[1;33m \u001b[0mdata\u001b[0m\u001b[1;33m[\u001b[0m\u001b[1;34m'사람문장1'\u001b[0m\u001b[1;33m]\u001b[0m \u001b[1;33m=\u001b[0m \u001b[0mdata\u001b[0m\u001b[1;33m[\u001b[0m\u001b[1;34m'사람문장1'\u001b[0m\u001b[1;33m]\u001b[0m\u001b[1;33m.\u001b[0m\u001b[0mapply\u001b[0m\u001b[1;33m(\u001b[0m\u001b[0mmorph_data\u001b[0m\u001b[1;33m)\u001b[0m\u001b[1;33m\u001b[0m\u001b[1;33m\u001b[0m\u001b[0m\n\u001b[0m",
      "\u001b[1;31mNameError\u001b[0m: name 'morph_data' is not defined"
     ]
    }
   ],
   "source": [
    "data['사람문장1'] = data['사람문장1'].apply(morph_data)"
   ]
  },
  {
   "cell_type": "code",
   "execution_count": null,
   "metadata": {},
   "outputs": [],
   "source": [
    "pd.set_option('display.max_rows', None)"
   ]
  },
  {
   "cell_type": "code",
   "execution_count": 16,
   "metadata": {},
   "outputs": [],
   "source": [
    "data2 = pd.read_csv('Sentiment_601_1200_2team.csv', encoding = 'cp949')"
   ]
  },
  {
   "cell_type": "code",
   "execution_count": 17,
   "metadata": {},
   "outputs": [
    {
     "data": {
      "text/html": [
       "<div>\n",
       "<style scoped>\n",
       "    .dataframe tbody tr th:only-of-type {\n",
       "        vertical-align: middle;\n",
       "    }\n",
       "\n",
       "    .dataframe tbody tr th {\n",
       "        vertical-align: top;\n",
       "    }\n",
       "\n",
       "    .dataframe thead th {\n",
       "        text-align: right;\n",
       "    }\n",
       "</style>\n",
       "<table border=\"1\" class=\"dataframe\">\n",
       "  <thead>\n",
       "    <tr style=\"text-align: right;\">\n",
       "      <th></th>\n",
       "      <th>sentence</th>\n",
       "      <th>label</th>\n",
       "    </tr>\n",
       "  </thead>\n",
       "  <tbody>\n",
       "    <tr>\n",
       "      <th>0</th>\n",
       "      <td>내 신체나이가 실제 나이보다 어리게 나왔어! 정말 너무 기뻐.</td>\n",
       "      <td>1</td>\n",
       "    </tr>\n",
       "    <tr>\n",
       "      <th>1</th>\n",
       "      <td>우리 아이들이 아직 건강한 내 유산에 욕심을 내는 것 같아 혼란스러워.</td>\n",
       "      <td>-1</td>\n",
       "    </tr>\n",
       "    <tr>\n",
       "      <th>2</th>\n",
       "      <td>내일 드디어 첫 출근 날이라 너무 긴장돼. 첫날부터 실수하지는 않을까 두려워.</td>\n",
       "      <td>-1</td>\n",
       "    </tr>\n",
       "    <tr>\n",
       "      <th>3</th>\n",
       "      <td>내 친구는 공부도 잘하니 앞 길 걱정 없어서 부러워 죽겠다.</td>\n",
       "      <td>-1</td>\n",
       "    </tr>\n",
       "    <tr>\n",
       "      <th>4</th>\n",
       "      <td>이번 프로젝트 때문에 업무적으로 스트레스를 받을 정도로 열심히 했는데 그게 무산이 됬어.</td>\n",
       "      <td>0</td>\n",
       "    </tr>\n",
       "  </tbody>\n",
       "</table>\n",
       "</div>"
      ],
      "text/plain": [
       "                                            sentence  label\n",
       "0                 내 신체나이가 실제 나이보다 어리게 나왔어! 정말 너무 기뻐.      1\n",
       "1            우리 아이들이 아직 건강한 내 유산에 욕심을 내는 것 같아 혼란스러워.     -1\n",
       "2        내일 드디어 첫 출근 날이라 너무 긴장돼. 첫날부터 실수하지는 않을까 두려워.     -1\n",
       "3                  내 친구는 공부도 잘하니 앞 길 걱정 없어서 부러워 죽겠다.     -1\n",
       "4  이번 프로젝트 때문에 업무적으로 스트레스를 받을 정도로 열심히 했는데 그게 무산이 됬어.      0"
      ]
     },
     "execution_count": 17,
     "metadata": {},
     "output_type": "execute_result"
    }
   ],
   "source": [
    "data2.head()"
   ]
  },
  {
   "cell_type": "code",
   "execution_count": 18,
   "metadata": {},
   "outputs": [],
   "source": [
    "positive = read_data('positive_fin2.txt')\n",
    "negative = read_data('negative_fin2.txt')"
   ]
  },
  {
   "cell_type": "code",
   "execution_count": 19,
   "metadata": {},
   "outputs": [],
   "source": [
    "def sep_df(data, range1, range2):\n",
    "    temp = data.loc[range1:range2,'sentence']\n",
    "    return temp"
   ]
  },
  {
   "cell_type": "code",
   "execution_count": 20,
   "metadata": {},
   "outputs": [],
   "source": [
    "data_df = sep_df(data2, 0, 599)"
   ]
  },
  {
   "cell_type": "code",
   "execution_count": 21,
   "metadata": {},
   "outputs": [],
   "source": [
    "data_senti = data2.loc[0:599,'label']"
   ]
  },
  {
   "cell_type": "code",
   "execution_count": 22,
   "metadata": {},
   "outputs": [
    {
     "name": "stdout",
     "output_type": "stream",
     "text": [
      "filepath:  c:\\project\\venv\\lib\\site-packages\n",
      "classpath:  c:\\project\\venv\\lib\\site-packages\\rhinoMorph/lib/rhino.jar\n",
      "RHINO started!\n"
     ]
    }
   ],
   "source": [
    "import rhinoMorph\n",
    "rn = rhinoMorph.startRhino()"
   ]
  },
  {
   "cell_type": "code",
   "execution_count": 23,
   "metadata": {},
   "outputs": [],
   "source": [
    "def morph_data(line):\n",
    "    \n",
    "    morphed_data = rhinoMorph.onlyMorph_list(rn, line, pos=['NNG','NNP','VV','VA','XR','IC','MM','MAG','MAJ'], eomi = True)\n",
    "    joined_data = ' '.join(morphed_data) # 문자열을 하나로 연결\n",
    "    if joined_data: # 내용이 있는 경우만 저장하게 함\n",
    "        line = joined_data\n",
    "    \n",
    "    return line"
   ]
  },
  {
   "cell_type": "code",
   "execution_count": 24,
   "metadata": {},
   "outputs": [],
   "source": [
    "data_df = data_df.apply(morph_data)"
   ]
  },
  {
   "cell_type": "code",
   "execution_count": 25,
   "metadata": {},
   "outputs": [],
   "source": [
    "data_text = list(data_df)"
   ]
  },
  {
   "cell_type": "code",
   "execution_count": 26,
   "metadata": {},
   "outputs": [],
   "source": [
    "positive = ' '.join(positive)\n",
    "negative = ' '.join(negative)"
   ]
  },
  {
   "cell_type": "code",
   "execution_count": 27,
   "metadata": {},
   "outputs": [],
   "source": [
    "morphed_positive = rhinoMorph.onlyMorph_list(rn, positive, pos=['NNG','NNP','VV','VA','XR','IC','MM','MAG','MAJ'], eomi = True)\n",
    "morphed_negative = rhinoMorph.onlyMorph_list(rn, negative, pos=['NNG','NNP','VV','VA','XR','IC','MM','MAG','MAJ'], eomi = True)"
   ]
  },
  {
   "cell_type": "code",
   "execution_count": 28,
   "metadata": {},
   "outputs": [],
   "source": [
    "def cntWordInLine(data, senti):\n",
    "    senti_found = []\n",
    "    for onedata in data:\n",
    "        oneline_word = onedata.split(' ')\n",
    "        senti_temp = 0\n",
    "        for sentiword in senti:\n",
    "            if sentiword[0] in oneline_word:\n",
    "                senti_temp += 1\n",
    "        senti_found.append(senti_temp)\n",
    "    return senti_found"
   ]
  },
  {
   "cell_type": "code",
   "execution_count": 29,
   "metadata": {},
   "outputs": [],
   "source": [
    "data_senti_poscnt = cntWordInLine(data_text, morphed_positive)\n",
    "data_senti_negcnt = cntWordInLine(data_text, morphed_negative)"
   ]
  },
  {
   "cell_type": "code",
   "execution_count": 30,
   "metadata": {},
   "outputs": [
    {
     "name": "stdout",
     "output_type": "stream",
     "text": [
      "[0, 0, 0, 0, 0, 0, 0, 0, 1, 0, 0, 0, 0, 1, 0, 0, 0, 1, 0, 1]\n",
      "[0, 0, 0, 0, 0, 0, 0, 0, 3, 0, 0, 0, 0, 3, 0, 0, 1, 4, 0, 3]\n"
     ]
    }
   ],
   "source": [
    "print(data_senti_poscnt[:20])\n",
    "print(data_senti_negcnt[:20])"
   ]
  },
  {
   "cell_type": "code",
   "execution_count": 31,
   "metadata": {},
   "outputs": [],
   "source": [
    "import pandas as pd\n",
    "newdata = pd.DataFrame({'text':data_text, 'original' : data_senti,'pos':data_senti_poscnt, 'neg':data_senti_negcnt})\n",
    "senti_score = newdata['pos'] - newdata['neg']\n",
    "newdata['senti_score'] = senti_score\n",
    "\n",
    "newdata.loc[newdata.senti_score > 0, 'new'] = 1\n",
    "newdata.loc[newdata.senti_score <= 0, 'new'] = -1\n",
    "\n",
    "newdata.loc[pd.to_numeric(newdata.original) == newdata.new, 'matched'] = 'True'\n",
    "newdata.loc[pd.to_numeric(newdata.original) != newdata.new, 'matched'] = 'False'"
   ]
  },
  {
   "cell_type": "code",
   "execution_count": 32,
   "metadata": {},
   "outputs": [
    {
     "name": "stdout",
     "output_type": "stream",
     "text": [
      "64.21404682274247\n"
     ]
    }
   ],
   "source": [
    "score = newdata.matched.str.count('True').sum() / (newdata.matched.str.count('True').sum() + newdata.matched.str.count('False').sum()) * 100\n",
    "print(score)"
   ]
  },
  {
   "cell_type": "code",
   "execution_count": 33,
   "metadata": {},
   "outputs": [],
   "source": [
    "import math\n",
    "def sigmoid(x):\n",
    "    return 1 / (1 + math.exp(-x))\n",
    "newdata['sigmoid'] = newdata.senti_score.apply(sigmoid)\n"
   ]
  },
  {
   "cell_type": "code",
   "execution_count": 34,
   "metadata": {},
   "outputs": [
    {
     "data": {
      "text/html": [
       "<div>\n",
       "<style scoped>\n",
       "    .dataframe tbody tr th:only-of-type {\n",
       "        vertical-align: middle;\n",
       "    }\n",
       "\n",
       "    .dataframe tbody tr th {\n",
       "        vertical-align: top;\n",
       "    }\n",
       "\n",
       "    .dataframe thead th {\n",
       "        text-align: right;\n",
       "    }\n",
       "</style>\n",
       "<table border=\"1\" class=\"dataframe\">\n",
       "  <thead>\n",
       "    <tr style=\"text-align: right;\">\n",
       "      <th></th>\n",
       "      <th>text</th>\n",
       "      <th>original</th>\n",
       "      <th>pos</th>\n",
       "      <th>neg</th>\n",
       "      <th>senti_score</th>\n",
       "      <th>new</th>\n",
       "      <th>matched</th>\n",
       "      <th>sigmoid</th>\n",
       "    </tr>\n",
       "  </thead>\n",
       "  <tbody>\n",
       "    <tr>\n",
       "      <th>0</th>\n",
       "      <td>신체 나이 실제 나이 어리다 나오다 정말 너무 기쁘다</td>\n",
       "      <td>1</td>\n",
       "      <td>0</td>\n",
       "      <td>0</td>\n",
       "      <td>0</td>\n",
       "      <td>-1.0</td>\n",
       "      <td>False</td>\n",
       "      <td>0.500000</td>\n",
       "    </tr>\n",
       "    <tr>\n",
       "      <th>1</th>\n",
       "      <td>아이 아직 건강 하다 유산 욕심 같다 혼란</td>\n",
       "      <td>-1</td>\n",
       "      <td>0</td>\n",
       "      <td>0</td>\n",
       "      <td>0</td>\n",
       "      <td>-1.0</td>\n",
       "      <td>True</td>\n",
       "      <td>0.500000</td>\n",
       "    </tr>\n",
       "    <tr>\n",
       "      <th>2</th>\n",
       "      <td>내일 드디어 첫 출근 날 너무 긴장 되다 첫날 실수 두렵다</td>\n",
       "      <td>-1</td>\n",
       "      <td>0</td>\n",
       "      <td>0</td>\n",
       "      <td>0</td>\n",
       "      <td>-1.0</td>\n",
       "      <td>True</td>\n",
       "      <td>0.500000</td>\n",
       "    </tr>\n",
       "    <tr>\n",
       "      <th>3</th>\n",
       "      <td>친구 공부 잘하다 앞 길 걱정 없다 부럽다 죽다</td>\n",
       "      <td>-1</td>\n",
       "      <td>0</td>\n",
       "      <td>0</td>\n",
       "      <td>0</td>\n",
       "      <td>-1.0</td>\n",
       "      <td>True</td>\n",
       "      <td>0.500000</td>\n",
       "    </tr>\n",
       "    <tr>\n",
       "      <th>4</th>\n",
       "      <td>이번 프로젝트 업무 스트레스 받다 정도 열심히 하다 무산</td>\n",
       "      <td>0</td>\n",
       "      <td>0</td>\n",
       "      <td>0</td>\n",
       "      <td>0</td>\n",
       "      <td>-1.0</td>\n",
       "      <td>False</td>\n",
       "      <td>0.500000</td>\n",
       "    </tr>\n",
       "    <tr>\n",
       "      <th>...</th>\n",
       "      <td>...</td>\n",
       "      <td>...</td>\n",
       "      <td>...</td>\n",
       "      <td>...</td>\n",
       "      <td>...</td>\n",
       "      <td>...</td>\n",
       "      <td>...</td>\n",
       "      <td>...</td>\n",
       "    </tr>\n",
       "    <tr>\n",
       "      <th>593</th>\n",
       "      <td>더 치료 받다 의미 있다 좌절감 들다</td>\n",
       "      <td>-1</td>\n",
       "      <td>0</td>\n",
       "      <td>0</td>\n",
       "      <td>0</td>\n",
       "      <td>-1.0</td>\n",
       "      <td>True</td>\n",
       "      <td>0.500000</td>\n",
       "    </tr>\n",
       "    <tr>\n",
       "      <th>594</th>\n",
       "      <td>재무 설계 전문가 만나다 상담 하다 심란 생각 많다 아지</td>\n",
       "      <td>-1</td>\n",
       "      <td>0</td>\n",
       "      <td>0</td>\n",
       "      <td>0</td>\n",
       "      <td>-1.0</td>\n",
       "      <td>True</td>\n",
       "      <td>0.500000</td>\n",
       "    </tr>\n",
       "    <tr>\n",
       "      <th>595</th>\n",
       "      <td>큰아이 다음 달 군대 가다 평소 좀 잘 하다 못하다 후회 되다</td>\n",
       "      <td>-1</td>\n",
       "      <td>1</td>\n",
       "      <td>1</td>\n",
       "      <td>0</td>\n",
       "      <td>-1.0</td>\n",
       "      <td>True</td>\n",
       "      <td>0.500000</td>\n",
       "    </tr>\n",
       "    <tr>\n",
       "      <th>596</th>\n",
       "      <td>상사 업무 지적 하다 인격 모독 하다 정말 비참</td>\n",
       "      <td>-1</td>\n",
       "      <td>0</td>\n",
       "      <td>0</td>\n",
       "      <td>0</td>\n",
       "      <td>-1.0</td>\n",
       "      <td>True</td>\n",
       "      <td>0.500000</td>\n",
       "    </tr>\n",
       "    <tr>\n",
       "      <th>597</th>\n",
       "      <td>동생 아직 학업 신경 쓰다 화 나다</td>\n",
       "      <td>-1</td>\n",
       "      <td>0</td>\n",
       "      <td>4</td>\n",
       "      <td>-4</td>\n",
       "      <td>-1.0</td>\n",
       "      <td>True</td>\n",
       "      <td>0.017986</td>\n",
       "    </tr>\n",
       "  </tbody>\n",
       "</table>\n",
       "<p>598 rows × 8 columns</p>\n",
       "</div>"
      ],
      "text/plain": [
       "                                   text  original  pos  neg  senti_score  new  \\\n",
       "0         신체 나이 실제 나이 어리다 나오다 정말 너무 기쁘다         1    0    0            0 -1.0   \n",
       "1               아이 아직 건강 하다 유산 욕심 같다 혼란        -1    0    0            0 -1.0   \n",
       "2      내일 드디어 첫 출근 날 너무 긴장 되다 첫날 실수 두렵다        -1    0    0            0 -1.0   \n",
       "3            친구 공부 잘하다 앞 길 걱정 없다 부럽다 죽다        -1    0    0            0 -1.0   \n",
       "4       이번 프로젝트 업무 스트레스 받다 정도 열심히 하다 무산         0    0    0            0 -1.0   \n",
       "..                                  ...       ...  ...  ...          ...  ...   \n",
       "593                더 치료 받다 의미 있다 좌절감 들다        -1    0    0            0 -1.0   \n",
       "594     재무 설계 전문가 만나다 상담 하다 심란 생각 많다 아지        -1    0    0            0 -1.0   \n",
       "595  큰아이 다음 달 군대 가다 평소 좀 잘 하다 못하다 후회 되다        -1    1    1            0 -1.0   \n",
       "596          상사 업무 지적 하다 인격 모독 하다 정말 비참        -1    0    0            0 -1.0   \n",
       "597                 동생 아직 학업 신경 쓰다 화 나다        -1    0    4           -4 -1.0   \n",
       "\n",
       "    matched   sigmoid  \n",
       "0     False  0.500000  \n",
       "1      True  0.500000  \n",
       "2      True  0.500000  \n",
       "3      True  0.500000  \n",
       "4     False  0.500000  \n",
       "..      ...       ...  \n",
       "593    True  0.500000  \n",
       "594    True  0.500000  \n",
       "595    True  0.500000  \n",
       "596    True  0.500000  \n",
       "597    True  0.017986  \n",
       "\n",
       "[598 rows x 8 columns]"
      ]
     },
     "execution_count": 34,
     "metadata": {},
     "output_type": "execute_result"
    }
   ],
   "source": [
    "newdata"
   ]
  },
  {
   "cell_type": "code",
   "execution_count": 39,
   "metadata": {},
   "outputs": [
    {
     "data": {
      "text/plain": [
       "array([0.9916388, 0.0083612])"
      ]
     },
     "execution_count": 39,
     "metadata": {},
     "output_type": "execute_result"
    }
   ],
   "source": [
    "newdata['new'].value_counts().values / len(newdata)"
   ]
  },
  {
   "cell_type": "code",
   "execution_count": 62,
   "metadata": {},
   "outputs": [],
   "source": [
    "import matplotlib.pyplot as plt\n",
    "\n",
    "def draw_pi(df, column):\n",
    "    index = df[column].value_counts().index\n",
    "    value = df[column].value_counts().values\n",
    "    rate = (value / len(df)) * 100\n",
    "    explode = [0.05] * len(index)\n",
    "\n",
    "    plt.pie(rate, labels=index, autopct='%.1f%%', startangle=260, counterclock=False, explode=explode,colors = ['#ff9999', '#8fd9b6'])\n",
    "    plt.show() "
   ]
  },
  {
   "cell_type": "code",
   "execution_count": 67,
   "metadata": {},
   "outputs": [],
   "source": [
    "import matplotlib.pyplot as plt\n",
    "\n",
    "def draw_multi_pi(df, column):\n",
    "    df_sum = []\n",
    "    for col in column:\n",
    "        temp = df[col].sum()\n",
    "        df_sum.append(temp)\n",
    "    rate = [(s / len(df)) * 100 for s in df_sum]\n",
    "    explode = [0.05] * len(column)\n",
    "\n",
    "    plt.pie(rate, labels=column, autopct='%.1f%%', startangle=260, counterclock=False, explode=explode,colors = ['#ff9999', '#8fd9b6'])\n",
    "    plt.show() "
   ]
  },
  {
   "cell_type": "code",
   "execution_count": 64,
   "metadata": {},
   "outputs": [
    {
     "data": {
      "image/png": "[encoded data removed]",
      "text/plain": [
       "<Figure size 640x480 with 1 Axes>"
      ]
     },
     "metadata": {},
     "output_type": "display_data"
    }
   ],
   "source": [
    "draw_pi(newdata, 'new')"
   ]
  },
  {
   "cell_type": "code",
   "execution_count": 68,
   "metadata": {},
   "outputs": [
    {
     "data": {
      "image/png": "[encoded data removed]",
      "text/plain": [
       "<Figure size 640x480 with 1 Axes>"
      ]
     },
     "metadata": {},
     "output_type": "display_data"
    }
   ],
   "source": [
    "draw_multi_pi(newdata, ['pos', 'neg'])"
   ]
  },
  {
   "cell_type": "code",
   "execution_count": null,
   "metadata": {},
   "outputs": [],
   "source": []
  }
 ],
 "metadata": {
  "kernelspec": {
   "display_name": "Python 3.7.4 ('venv': venv)",
   "language": "python",
   "name": "python3"
  },
  "language_info": {
   "codemirror_mode": {
    "name": "ipython",
    "version": 3
   },
   "file_extension": ".py",
   "mimetype": "text/x-python",
   "name": "python",
   "nbconvert_exporter": "python",
   "pygments_lexer": "ipython3",
   "version": "3.7.4"
  },
  "orig_nbformat": 4,
  "vscode": {
   "interpreter": {
    "hash": "828b3ff1a9b639f531d360136e481a3f232b7e9f33a8a1d624f5a211b5fe1b7b"
   }
  }
 },
 "nbformat": 4,
 "nbformat_minor": 2
}
