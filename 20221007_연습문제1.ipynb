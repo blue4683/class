{
 "cells": [
  {
   "cell_type": "code",
   "execution_count": 1,
   "metadata": {},
   "outputs": [],
   "source": [
    "import pandas as pd\n",
    "import numpy as np\n",
    "import os"
   ]
  },
  {
   "cell_type": "code",
   "execution_count": 2,
   "metadata": {},
   "outputs": [],
   "source": [
    "os.chdir('C:/pytest')"
   ]
  },
  {
   "cell_type": "code",
   "execution_count": 3,
   "metadata": {},
   "outputs": [],
   "source": [
    "df1 = pd.read_csv('class0(대출_합법).csv', encoding='cp949')\n",
    "df2 = pd.read_csv('class1(대출_불법).csv', encoding='cp949')"
   ]
  },
  {
   "cell_type": "code",
   "execution_count": 6,
   "metadata": {},
   "outputs": [
    {
     "data": {
      "text/html": [
       "<div>\n",
       "<style scoped>\n",
       "    .dataframe tbody tr th:only-of-type {\n",
       "        vertical-align: middle;\n",
       "    }\n",
       "\n",
       "    .dataframe tbody tr th {\n",
       "        vertical-align: top;\n",
       "    }\n",
       "\n",
       "    .dataframe thead th {\n",
       "        text-align: right;\n",
       "    }\n",
       "</style>\n",
       "<table border=\"1\" class=\"dataframe\">\n",
       "  <thead>\n",
       "    <tr style=\"text-align: right;\">\n",
       "      <th></th>\n",
       "      <th>Content</th>\n",
       "      <th>Label</th>\n",
       "    </tr>\n",
       "  </thead>\n",
       "  <tbody>\n",
       "    <tr>\n",
       "      <th>0</th>\n",
       "      <td>그라나다 할부 조건 시간 전국 어디 중고차 할부 가능 여부 서비스 상담 신청 양식 ...</td>\n",
       "      <td>class0</td>\n",
       "    </tr>\n",
       "    <tr>\n",
       "      <th>1</th>\n",
       "      <td>광고 광고 올해 통신 인터넷 보이스 피싱 메모리 해킹 사기 피해 건수 피해액 최민희...</td>\n",
       "      <td>class0</td>\n",
       "    </tr>\n",
       "    <tr>\n",
       "      <th>2</th>\n",
       "      <td>춘천 연합뉴스 이해 기자 강원도 교육청 올해 보급 예정 교과서 전자 보이스 피싱 사...</td>\n",
       "      <td>class0</td>\n",
       "    </tr>\n",
       "    <tr>\n",
       "      <th>3</th>\n",
       "      <td>조선족 보이스 피싱</td>\n",
       "      <td>class0</td>\n",
       "    </tr>\n",
       "    <tr>\n",
       "      <th>4</th>\n",
       "      <td>조선족 보이스 피싱</td>\n",
       "      <td>class0</td>\n",
       "    </tr>\n",
       "    <tr>\n",
       "      <th>...</th>\n",
       "      <td>...</td>\n",
       "      <td>...</td>\n",
       "    </tr>\n",
       "    <tr>\n",
       "      <th>2980</th>\n",
       "      <td>시당 신종 보이스 피싱 통장 어간</td>\n",
       "      <td>class0</td>\n",
       "    </tr>\n",
       "    <tr>\n",
       "      <th>2981</th>\n",
       "      <td>은행 계좌 번호 보이스 피싱 피해</td>\n",
       "      <td>class0</td>\n",
       "    </tr>\n",
       "    <tr>\n",
       "      <th>2982</th>\n",
       "      <td>오후 서민 소송 도우미 변호사 최고 비용 법률 문제 고통 권리 행사</td>\n",
       "      <td>class0</td>\n",
       "    </tr>\n",
       "    <tr>\n",
       "      <th>2983</th>\n",
       "      <td>실제 보이스 피싱 사건 고객 대박</td>\n",
       "      <td>class0</td>\n",
       "    </tr>\n",
       "    <tr>\n",
       "      <th>2984</th>\n",
       "      <td>이해 충남 교육감 대포 충남 교육청 장학사 장사 사건 장학사 문제 무엇 만화 정리</td>\n",
       "      <td>class0</td>\n",
       "    </tr>\n",
       "  </tbody>\n",
       "</table>\n",
       "<p>2985 rows × 2 columns</p>\n",
       "</div>"
      ],
      "text/plain": [
       "                                                Content   Label\n",
       "0     그라나다 할부 조건 시간 전국 어디 중고차 할부 가능 여부 서비스 상담 신청 양식 ...  class0\n",
       "1     광고 광고 올해 통신 인터넷 보이스 피싱 메모리 해킹 사기 피해 건수 피해액 최민희...  class0\n",
       "2     춘천 연합뉴스 이해 기자 강원도 교육청 올해 보급 예정 교과서 전자 보이스 피싱 사...  class0\n",
       "3                                            조선족 보이스 피싱  class0\n",
       "4                                            조선족 보이스 피싱  class0\n",
       "...                                                 ...     ...\n",
       "2980                                 시당 신종 보이스 피싱 통장 어간  class0\n",
       "2981                                 은행 계좌 번호 보이스 피싱 피해  class0\n",
       "2982              오후 서민 소송 도우미 변호사 최고 비용 법률 문제 고통 권리 행사  class0\n",
       "2983                                 실제 보이스 피싱 사건 고객 대박  class0\n",
       "2984      이해 충남 교육감 대포 충남 교육청 장학사 장사 사건 장학사 문제 무엇 만화 정리  class0\n",
       "\n",
       "[2985 rows x 2 columns]"
      ]
     },
     "execution_count": 6,
     "metadata": {},
     "output_type": "execute_result"
    }
   ],
   "source": [
    "df1"
   ]
  },
  {
   "cell_type": "code",
   "execution_count": 7,
   "metadata": {},
   "outputs": [
    {
     "data": {
      "text/html": [
       "<div>\n",
       "<style scoped>\n",
       "    .dataframe tbody tr th:only-of-type {\n",
       "        vertical-align: middle;\n",
       "    }\n",
       "\n",
       "    .dataframe tbody tr th {\n",
       "        vertical-align: top;\n",
       "    }\n",
       "\n",
       "    .dataframe thead th {\n",
       "        text-align: right;\n",
       "    }\n",
       "</style>\n",
       "<table border=\"1\" class=\"dataframe\">\n",
       "  <thead>\n",
       "    <tr style=\"text-align: right;\">\n",
       "      <th></th>\n",
       "      <th>Content</th>\n",
       "      <th>Label</th>\n",
       "    </tr>\n",
       "  </thead>\n",
       "  <tbody>\n",
       "    <tr>\n",
       "      <th>0</th>\n",
       "      <td>저지 레드 다중 과다 채무자 증가 카드 대출 연체 증가</td>\n",
       "      <td>class1</td>\n",
       "    </tr>\n",
       "    <tr>\n",
       "      <th>1</th>\n",
       "      <td>히트 로드 채팅 싸이트 은행 신협 고객 연체 이자 부담</td>\n",
       "      <td>class1</td>\n",
       "    </tr>\n",
       "    <tr>\n",
       "      <th>2</th>\n",
       "      <td>보이스 피싱 아우 짜증 이제 그쪽 전화 보이스 피싱 진드기 사람 매트리스 사용</td>\n",
       "      <td>class1</td>\n",
       "    </tr>\n",
       "    <tr>\n",
       "      <th>3</th>\n",
       "      <td>보이스 피싱 아우 짜증 이제 그쪽 전화 보이스 피싱 진드기 사람 매트리스 사용</td>\n",
       "      <td>class1</td>\n",
       "    </tr>\n",
       "    <tr>\n",
       "      <th>4</th>\n",
       "      <td>보이스 피싱 아우 짜증 이제 그쪽 전화 보이스 피싱 진드기 사람 매트리스</td>\n",
       "      <td>class1</td>\n",
       "    </tr>\n",
       "    <tr>\n",
       "      <th>...</th>\n",
       "      <td>...</td>\n",
       "      <td>...</td>\n",
       "    </tr>\n",
       "    <tr>\n",
       "      <th>1408</th>\n",
       "      <td>연체 당일 소액 전마 전국 출장</td>\n",
       "      <td>class1</td>\n",
       "    </tr>\n",
       "    <tr>\n",
       "      <th>1409</th>\n",
       "      <td>휴대폰 소액 결제 문의 입금 통신사 지급 미납 정책 급전 문의</td>\n",
       "      <td>class1</td>\n",
       "    </tr>\n",
       "    <tr>\n",
       "      <th>1410</th>\n",
       "      <td>뉴스 기사 직장인 서류 케이블 방송 신용 대출 광고 대출 금액 상환금 직장인 소득 ...</td>\n",
       "      <td>class1</td>\n",
       "    </tr>\n",
       "    <tr>\n",
       "      <th>1411</th>\n",
       "      <td>과다 조회 과다 대출 대출 누구 신용 등급 승인 보장 무직자 대출 작업대</td>\n",
       "      <td>class1</td>\n",
       "    </tr>\n",
       "    <tr>\n",
       "      <th>1412</th>\n",
       "      <td>휴대폰 소액 결제 서비스 문의 입금 발신 가능 문의 통신사 지급 미납 정책 급전 문...</td>\n",
       "      <td>class1</td>\n",
       "    </tr>\n",
       "  </tbody>\n",
       "</table>\n",
       "<p>1413 rows × 2 columns</p>\n",
       "</div>"
      ],
      "text/plain": [
       "                                                Content   Label\n",
       "0                        저지 레드 다중 과다 채무자 증가 카드 대출 연체 증가  class1\n",
       "1                        히트 로드 채팅 싸이트 은행 신협 고객 연체 이자 부담  class1\n",
       "2           보이스 피싱 아우 짜증 이제 그쪽 전화 보이스 피싱 진드기 사람 매트리스 사용  class1\n",
       "3           보이스 피싱 아우 짜증 이제 그쪽 전화 보이스 피싱 진드기 사람 매트리스 사용  class1\n",
       "4              보이스 피싱 아우 짜증 이제 그쪽 전화 보이스 피싱 진드기 사람 매트리스  class1\n",
       "...                                                 ...     ...\n",
       "1408                                  연체 당일 소액 전마 전국 출장  class1\n",
       "1409                 휴대폰 소액 결제 문의 입금 통신사 지급 미납 정책 급전 문의  class1\n",
       "1410  뉴스 기사 직장인 서류 케이블 방송 신용 대출 광고 대출 금액 상환금 직장인 소득 ...  class1\n",
       "1411           과다 조회 과다 대출 대출 누구 신용 등급 승인 보장 무직자 대출 작업대  class1\n",
       "1412  휴대폰 소액 결제 서비스 문의 입금 발신 가능 문의 통신사 지급 미납 정책 급전 문...  class1\n",
       "\n",
       "[1413 rows x 2 columns]"
      ]
     },
     "execution_count": 7,
     "metadata": {},
     "output_type": "execute_result"
    }
   ],
   "source": [
    "df2"
   ]
  },
  {
   "cell_type": "code",
   "execution_count": 8,
   "metadata": {},
   "outputs": [],
   "source": [
    "df = pd.concat([df1, df2])"
   ]
  },
  {
   "cell_type": "code",
   "execution_count": 10,
   "metadata": {},
   "outputs": [
    {
     "data": {
      "text/plain": [
       "Content    0\n",
       "Label      0\n",
       "dtype: int64"
      ]
     },
     "execution_count": 10,
     "metadata": {},
     "output_type": "execute_result"
    }
   ],
   "source": [
    "df.isnull().sum()"
   ]
  },
  {
   "cell_type": "code",
   "execution_count": 11,
   "metadata": {},
   "outputs": [
    {
     "name": "stdout",
     "output_type": "stream",
     "text": [
      "filepath:  c:\\project\\venv\\lib\\site-packages\n",
      "classpath:  c:\\project\\venv\\lib\\site-packages\\rhinoMorph/lib/rhino.jar\n",
      "RHINO started!\n"
     ]
    }
   ],
   "source": [
    "import rhinoMorph\n",
    "rn = rhinoMorph.startRhino()\n",
    "\n",
    "def morph_data(line):\n",
    "    \n",
    "    morphed_data = rhinoMorph.onlyMorph_list(rn, line, pos=['NNG','NNP','VV','VA','XR','IC','MM','MAG','MAJ'])\n",
    "    joined_data = ' '.join(morphed_data) # 문자열을 하나로 연결\n",
    "    if joined_data: # 내용이 있는 경우만 저장하게 함\n",
    "        line = joined_data\n",
    "    \n",
    "    return line"
   ]
  },
  {
   "cell_type": "code",
   "execution_count": 12,
   "metadata": {},
   "outputs": [],
   "source": [
    "df['Content'] = df['Content'].apply(morph_data)"
   ]
  },
  {
   "cell_type": "code",
   "execution_count": 13,
   "metadata": {},
   "outputs": [
    {
     "data": {
      "text/html": [
       "<div>\n",
       "<style scoped>\n",
       "    .dataframe tbody tr th:only-of-type {\n",
       "        vertical-align: middle;\n",
       "    }\n",
       "\n",
       "    .dataframe tbody tr th {\n",
       "        vertical-align: top;\n",
       "    }\n",
       "\n",
       "    .dataframe thead th {\n",
       "        text-align: right;\n",
       "    }\n",
       "</style>\n",
       "<table border=\"1\" class=\"dataframe\">\n",
       "  <thead>\n",
       "    <tr style=\"text-align: right;\">\n",
       "      <th></th>\n",
       "      <th>Content</th>\n",
       "      <th>Label</th>\n",
       "    </tr>\n",
       "  </thead>\n",
       "  <tbody>\n",
       "    <tr>\n",
       "      <th>0</th>\n",
       "      <td>그라나다 할부 조건 시간 전국 중고차 할부 가능 여부 서비스 상담 신청 양식 성명 ...</td>\n",
       "      <td>class0</td>\n",
       "    </tr>\n",
       "    <tr>\n",
       "      <th>1</th>\n",
       "      <td>광고 광고 올해 통신 인터넷 보이스 피싱 메모리 해킹 사기 피해 건수 피해액 최민희...</td>\n",
       "      <td>class0</td>\n",
       "    </tr>\n",
       "    <tr>\n",
       "      <th>2</th>\n",
       "      <td>춘천 연합뉴스 이해 기자 강원도 교육청 올해 보급 예정 교과서 전자 보이스 피싱 사...</td>\n",
       "      <td>class0</td>\n",
       "    </tr>\n",
       "    <tr>\n",
       "      <th>3</th>\n",
       "      <td>조선족 보이스 피싱</td>\n",
       "      <td>class0</td>\n",
       "    </tr>\n",
       "    <tr>\n",
       "      <th>4</th>\n",
       "      <td>조선족 보이스 피싱</td>\n",
       "      <td>class0</td>\n",
       "    </tr>\n",
       "    <tr>\n",
       "      <th>...</th>\n",
       "      <td>...</td>\n",
       "      <td>...</td>\n",
       "    </tr>\n",
       "    <tr>\n",
       "      <th>1408</th>\n",
       "      <td>연체 당일 소액 전마 전국 출장</td>\n",
       "      <td>class1</td>\n",
       "    </tr>\n",
       "    <tr>\n",
       "      <th>1409</th>\n",
       "      <td>휴대폰 소액 결제 문의 입금 통신사 지급 미납 정책 급전 문의</td>\n",
       "      <td>class1</td>\n",
       "    </tr>\n",
       "    <tr>\n",
       "      <th>1410</th>\n",
       "      <td>뉴스 기사 직장인 서류 케이블 방송 신용 대출 광고 대출 금액 상환금 직장인 소득 ...</td>\n",
       "      <td>class1</td>\n",
       "    </tr>\n",
       "    <tr>\n",
       "      <th>1411</th>\n",
       "      <td>과다 조회 과다 대출 대출 신용 등급 승인 보장 무직자 대출 작업대</td>\n",
       "      <td>class1</td>\n",
       "    </tr>\n",
       "    <tr>\n",
       "      <th>1412</th>\n",
       "      <td>휴대폰 소액 결제 서비스 문의 입금 발신 가능 문의 통신사 지급 미납 정책 급전 문...</td>\n",
       "      <td>class1</td>\n",
       "    </tr>\n",
       "  </tbody>\n",
       "</table>\n",
       "<p>4398 rows × 2 columns</p>\n",
       "</div>"
      ],
      "text/plain": [
       "                                                Content   Label\n",
       "0     그라나다 할부 조건 시간 전국 중고차 할부 가능 여부 서비스 상담 신청 양식 성명 ...  class0\n",
       "1     광고 광고 올해 통신 인터넷 보이스 피싱 메모리 해킹 사기 피해 건수 피해액 최민희...  class0\n",
       "2     춘천 연합뉴스 이해 기자 강원도 교육청 올해 보급 예정 교과서 전자 보이스 피싱 사...  class0\n",
       "3                                            조선족 보이스 피싱  class0\n",
       "4                                            조선족 보이스 피싱  class0\n",
       "...                                                 ...     ...\n",
       "1408                                  연체 당일 소액 전마 전국 출장  class1\n",
       "1409                 휴대폰 소액 결제 문의 입금 통신사 지급 미납 정책 급전 문의  class1\n",
       "1410  뉴스 기사 직장인 서류 케이블 방송 신용 대출 광고 대출 금액 상환금 직장인 소득 ...  class1\n",
       "1411              과다 조회 과다 대출 대출 신용 등급 승인 보장 무직자 대출 작업대  class1\n",
       "1412  휴대폰 소액 결제 서비스 문의 입금 발신 가능 문의 통신사 지급 미납 정책 급전 문...  class1\n",
       "\n",
       "[4398 rows x 2 columns]"
      ]
     },
     "execution_count": 13,
     "metadata": {},
     "output_type": "execute_result"
    }
   ],
   "source": [
    "df"
   ]
  },
  {
   "cell_type": "code",
   "execution_count": 14,
   "metadata": {},
   "outputs": [],
   "source": [
    "X = df.iloc[:,0]\n",
    "y = df.iloc[:,1]"
   ]
  },
  {
   "cell_type": "code",
   "execution_count": 15,
   "metadata": {},
   "outputs": [],
   "source": [
    "from sklearn.preprocessing import LabelEncoder\n",
    "\n",
    "e = LabelEncoder()\n",
    "e.fit(y)\n",
    "y = e.transform(y)"
   ]
  },
  {
   "cell_type": "code",
   "execution_count": 16,
   "metadata": {},
   "outputs": [],
   "source": [
    "from sklearn.model_selection import train_test_split\n",
    "train_X, test_X, train_y, test_y = train_test_split(X, y, test_size=0.25, shuffle = True, stratify=y, random_state=1111)"
   ]
  },
  {
   "cell_type": "code",
   "execution_count": 66,
   "metadata": {},
   "outputs": [],
   "source": [
    "from keras.preprocessing.text import Tokenizer\n",
    "from keras.utils import pad_sequences\n",
    "import numpy as np\n",
    "import math"
   ]
  },
  {
   "cell_type": "code",
   "execution_count": 67,
   "metadata": {},
   "outputs": [],
   "source": [
    "max_words = 10000\n",
    "maxlen = 40"
   ]
  },
  {
   "cell_type": "code",
   "execution_count": 68,
   "metadata": {},
   "outputs": [],
   "source": [
    "tokenizer = Tokenizer(num_words=max_words)\n",
    "tokenizer.fit_on_texts(train_X)\n",
    "word_index = tokenizer.word_index"
   ]
  },
  {
   "cell_type": "code",
   "execution_count": 69,
   "metadata": {},
   "outputs": [
    {
     "name": "stdout",
     "output_type": "stream",
     "text": [
      "전체에서 3364개의 고유한 토큰을 찾았습니다.\n",
      "word_index type:  <class 'dict'>\n"
     ]
    }
   ],
   "source": [
    "print('전체에서 %s개의 고유한 토큰을 찾았습니다.' % len(word_index))\n",
    "print('word_index type: ', type(word_index))\n",
    "# print('word_index: ', word_index)"
   ]
  },
  {
   "cell_type": "code",
   "execution_count": 70,
   "metadata": {},
   "outputs": [
    {
     "name": "stdout",
     "output_type": "stream",
     "text": [
      "data 0: [1, 152, 95, 67, 174, 89, 94, 1194, 174, 16, 106, 10, 175, 162]\n",
      "texts 0: 그라나다 할부 조건 시간 전국 중고차 할부 가능 여부 서비스 상담 신청 양식 성명 핸드폰 번호 상담가 시간 기재\n"
     ]
    }
   ],
   "source": [
    "data = tokenizer.texts_to_sequences(train_X)\n",
    "\n",
    "print('data 0:', data[0])\n",
    "print('texts 0:', train_X[0])"
   ]
  },
  {
   "cell_type": "code",
   "execution_count": 71,
   "metadata": {},
   "outputs": [
    {
     "name": "stdout",
     "output_type": "stream",
     "text": [
      "data: [[   0    0    0 ...   10  175  162]\n",
      " [   0    0    0 ...    3   31   15]\n",
      " [   0    0    0 ...  936  109   41]\n",
      " ...\n",
      " [   0    0    0 ...   37    2   21]\n",
      " [   0    0    0 ...  776  935 1193]\n",
      " [   0    0    0 ...    4    7    6]]\n",
      "data 0: [   0    0    0    0    0    0    0    0    0    0    0    0    0    0\n",
      "    0    0    0    0    0    0    0    0    0    0    0    0    1  152\n",
      "   95   67  174   89   94 1194  174   16  106   10  175  162]\n",
      "data 0의 길이: 40\n"
     ]
    }
   ],
   "source": [
    "data = pad_sequences(data, maxlen=maxlen)\n",
    "\n",
    "print('data:', data)\n",
    "print('data 0:', data[0])\n",
    "print('data 0의 길이:', len(data[0]))"
   ]
  },
  {
   "cell_type": "code",
   "execution_count": 72,
   "metadata": {},
   "outputs": [],
   "source": [
    "def to_one_hot(sequences, dimension):\n",
    "    results = np.zeros((len(sequences), dimension))\n",
    "    for i, sequence in enumerate(sequences):\n",
    "        results[i, sequence] = 1.\n",
    "    return results"
   ]
  },
  {
   "cell_type": "code",
   "execution_count": 65,
   "metadata": {},
   "outputs": [],
   "source": [
    "data = to_one_hot(data, dimension=max_words)\n",
    "labels = np.asarray(train_y).astype('float32')"
   ]
  },
  {
   "cell_type": "code",
   "execution_count": 25,
   "metadata": {},
   "outputs": [
    {
     "name": "stdout",
     "output_type": "stream",
     "text": [
      "data: [[1. 1. 0. ... 0. 0. 0.]\n",
      " [1. 1. 0. ... 0. 0. 0.]\n",
      " [1. 0. 0. ... 0. 0. 0.]\n",
      " ...\n",
      " [1. 0. 1. ... 0. 0. 0.]\n",
      " [1. 0. 0. ... 0. 0. 0.]\n",
      " [1. 1. 1. ... 0. 0. 0.]]\n",
      "10000\n",
      "data[0][0:100]: [1. 1. 0. 0. 0. 0. 0. 0. 0. 0. 1. 0. 0. 0. 0. 0. 1. 0. 0. 0. 0. 0. 0. 0.\n",
      " 0. 0. 0. 0. 0. 0. 0. 0. 0. 0. 0. 0. 0. 0. 0. 0. 0. 0. 0. 0. 0. 0. 0. 0.\n",
      " 0. 0. 0. 0. 0. 0. 0. 0. 0. 0. 0. 0. 0. 0. 0. 0. 0. 0. 0. 1. 0. 0. 0. 0.\n",
      " 0. 0. 0. 0. 0. 0. 0. 0. 0. 0. 0. 0. 0. 0. 0. 0. 0. 1. 0. 0. 0. 0. 1. 1.\n",
      " 0. 0. 0. 0.]\n"
     ]
    }
   ],
   "source": [
    "print('data:', data)\n",
    "print(len(data[0]))\n",
    "print('data[0][0:100]:', data[0][0:100])"
   ]
  },
  {
   "cell_type": "code",
   "execution_count": 26,
   "metadata": {},
   "outputs": [],
   "source": [
    "validation_ratio = 0.3\n",
    "validation_len = math.floor(len(train_X) * validation_ratio)\n",
    "\n",
    "x_train = data[validation_len:]\n",
    "y_train = labels[validation_len:]\n",
    "x_val = data[:validation_len]\n",
    "y_val = labels[:validation_len]"
   ]
  },
  {
   "cell_type": "code",
   "execution_count": 27,
   "metadata": {},
   "outputs": [],
   "source": [
    "test_data = tokenizer.texts_to_sequences(test_X)\n",
    "test_data = pad_sequences(test_data, maxlen=maxlen)"
   ]
  },
  {
   "cell_type": "code",
   "execution_count": 28,
   "metadata": {},
   "outputs": [],
   "source": [
    "test_data = to_one_hot(test_data, dimension=max_words)\n",
    "test_labels = np.asarray(test_y).astype('float32')"
   ]
  },
  {
   "cell_type": "code",
   "execution_count": 42,
   "metadata": {},
   "outputs": [],
   "source": [
    "from keras.models import Sequential\n",
    "from keras.layers import Dense\n",
    "\n",
    "model = Sequential()\n",
    "\n",
    "model.add(Dense(32, activation='relu', input_shape=(max_words,)))\n",
    "model.add(Dense(16, activation='relu'))\n",
    "model.add(Dense(1, activation='sigmoid'))"
   ]
  },
  {
   "cell_type": "code",
   "execution_count": 43,
   "metadata": {},
   "outputs": [
    {
     "name": "stdout",
     "output_type": "stream",
     "text": [
      "Epoch 1/5\n",
      "73/73 [==============================] - 2s 13ms/step - loss: 0.3271 - acc: 0.9359 - val_loss: 0.1269 - val_acc: 0.9798\n",
      "Epoch 2/5\n",
      "73/73 [==============================] - 0s 5ms/step - loss: 0.0807 - acc: 0.9814 - val_loss: 0.0592 - val_acc: 0.9838\n",
      "Epoch 3/5\n",
      "73/73 [==============================] - 0s 5ms/step - loss: 0.0386 - acc: 0.9887 - val_loss: 0.0506 - val_acc: 0.9848\n",
      "Epoch 4/5\n",
      "73/73 [==============================] - 0s 5ms/step - loss: 0.0232 - acc: 0.9918 - val_loss: 0.0513 - val_acc: 0.9838\n",
      "Epoch 5/5\n",
      "73/73 [==============================] - 0s 5ms/step - loss: 0.0152 - acc: 0.9961 - val_loss: 0.0528 - val_acc: 0.9858\n"
     ]
    }
   ],
   "source": [
    "model.compile(optimizer='rmsprop', loss='binary_crossentropy', metrics=['acc'])\n",
    "history = model.fit(x_train, y_train, epochs=5, batch_size=32, validation_data=(x_val,y_val))\n",
    "history_dict = history.history"
   ]
  },
  {
   "cell_type": "code",
   "execution_count": 44,
   "metadata": {},
   "outputs": [],
   "source": [
    "model.save('train_model.h5')"
   ]
  },
  {
   "cell_type": "code",
   "execution_count": 45,
   "metadata": {},
   "outputs": [
    {
     "name": "stdout",
     "output_type": "stream",
     "text": [
      "model loaded: <keras.engine.sequential.Sequential object at 0x00000209A15B8348>\n"
     ]
    }
   ],
   "source": [
    "from keras.models import load_model\n",
    "loaded_model = load_model('train_model.h5')\n",
    "print('model loaded:', loaded_model)"
   ]
  },
  {
   "cell_type": "code",
   "execution_count": 46,
   "metadata": {},
   "outputs": [
    {
     "name": "stdout",
     "output_type": "stream",
     "text": [
      "35/35 [==============================] - 0s 4ms/step - loss: 0.0569 - acc: 0.9818\n"
     ]
    }
   ],
   "source": [
    "test_eval = loaded_model.evaluate(test_data, test_labels)"
   ]
  },
  {
   "cell_type": "code",
   "execution_count": 47,
   "metadata": {},
   "outputs": [
    {
     "name": "stdout",
     "output_type": "stream",
     "text": [
      "prediction model loss & acc: [0.05691513419151306, 0.9818181991577148]\n"
     ]
    }
   ],
   "source": [
    "print('prediction model loss & acc:', test_eval)"
   ]
  },
  {
   "cell_type": "code",
   "execution_count": null,
   "metadata": {},
   "outputs": [],
   "source": []
  }
 ],
 "metadata": {
  "kernelspec": {
   "display_name": "Python 3.7.4 ('venv': venv)",
   "language": "python",
   "name": "python3"
  },
  "language_info": {
   "codemirror_mode": {
    "name": "ipython",
    "version": 3
   },
   "file_extension": ".py",
   "mimetype": "text/x-python",
   "name": "python",
   "nbconvert_exporter": "python",
   "pygments_lexer": "ipython3",
   "version": "3.7.4"
  },
  "orig_nbformat": 4,
  "vscode": {
   "interpreter": {
    "hash": "828b3ff1a9b639f531d360136e481a3f232b7e9f33a8a1d624f5a211b5fe1b7b"
   }
  }
 },
 "nbformat": 4,
 "nbformat_minor": 2
}
