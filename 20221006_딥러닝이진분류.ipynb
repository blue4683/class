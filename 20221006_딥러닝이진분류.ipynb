{
 "cells": [
  {
   "cell_type": "code",
   "execution_count": 10,
   "metadata": {},
   "outputs": [],
   "source": [
    "import os\n",
    "os.chdir('C:/pytest/')"
   ]
  },
  {
   "cell_type": "code",
   "execution_count": 19,
   "metadata": {},
   "outputs": [],
   "source": [
    "def read_data(filename, encoding='cp949'):\n",
    "    with open(filename, 'r', encoding=encoding) as f:\n",
    "        data = [line.split('\\t') for line in f.read().splitlines()]\n",
    "        data = data[1:]\n",
    "    return data\n",
    "\n",
    "def write_data(data, filename, encoding='cp949'):\n",
    "    with open(filename, 'w', encoding=encoding) as f:\n",
    "        f.write(data)\n",
    "\n",
    "\n",
    "data = read_data('ratings.txt', encoding='cp949')"
   ]
  },
  {
   "cell_type": "code",
   "execution_count": 3,
   "metadata": {},
   "outputs": [
    {
     "name": "stdout",
     "output_type": "stream",
     "text": [
      "filepath:  c:\\project\\venv\\lib\\site-packages\n",
      "classpath:  c:\\project\\venv\\lib\\site-packages\\rhinoMorph/lib/rhino.jar\n",
      "RHINO started!\n"
     ]
    }
   ],
   "source": [
    "from tqdm import tqdm\n",
    "import rhinoMorph\n",
    "rn = rhinoMorph.startRhino()"
   ]
  },
  {
   "cell_type": "code",
   "execution_count": 4,
   "metadata": {},
   "outputs": [
    {
     "name": "stderr",
     "output_type": "stream",
     "text": [
      "100%|██████████| 200000/200000 [02:25<00:00, 1375.06it/s]\n"
     ]
    }
   ],
   "source": [
    "morphed_data=''\n",
    "for data_each in tqdm(data):\n",
    "    morphed_data_each = rhinoMorph.onlyMorph_list(rn, data_each[1], pos=['NNG', 'NNP', 'VV', 'VA', 'XR', 'IC', 'MM', 'MAG', 'MAJ'])\n",
    "    joined_data_each = ' '.join(morphed_data_each)\n",
    "    if joined_data_each:\n",
    "        morphed_data += data_each[0]+'\\t'+joined_data_each+'\\t'+data_each[2]+'\\n'\n",
    "\n",
    "write_data(morphed_data, 'ratings_morphed.txt', encoding='cp949')"
   ]
  },
  {
   "cell_type": "code",
   "execution_count": 20,
   "metadata": {},
   "outputs": [
    {
     "name": "stdout",
     "output_type": "stream",
     "text": [
      "197559\n",
      "3\n",
      "['8132799', '디자인 배우 학생 외국 디자이너 일구 전통 통하 발전 문화 산업 부럽 사실 우리나라 그 어렵 시절 끝 열정 지키 노라노 같 전통 있 같 사람 꿈 꾸 이루 나가 있 감사', '1']\n"
     ]
    }
   ],
   "source": [
    "data = read_data('ratings_morphed.txt', encoding='cp949')\n",
    "print(len(data))\n",
    "print(len(data[0]))\n",
    "print(data[0])"
   ]
  },
  {
   "cell_type": "code",
   "execution_count": 21,
   "metadata": {},
   "outputs": [
    {
     "name": "stdout",
     "output_type": "stream",
     "text": [
      "65853\n"
     ]
    }
   ],
   "source": [
    "import random\n",
    "import math\n",
    "import numpy as np\n",
    "random.shuffle(data)\n",
    "\n",
    "part_num = math.floor(len(data) * 1/3)\n",
    "data = data[:part_num]\n",
    "print(len(data))"
   ]
  },
  {
   "cell_type": "code",
   "execution_count": 22,
   "metadata": {},
   "outputs": [],
   "source": [
    "data_text = [line[1] for line in data]\n",
    "data_senti = [line[2] for line in data]"
   ]
  },
  {
   "cell_type": "code",
   "execution_count": 23,
   "metadata": {},
   "outputs": [],
   "source": [
    "from sklearn.model_selection import train_test_split\n",
    "train_data_text, test_data_text, train_data_senti, test_data_senti = train_test_split(data_text, data_senti, stratify=data_senti)"
   ]
  },
  {
   "cell_type": "code",
   "execution_count": 24,
   "metadata": {},
   "outputs": [
    {
     "name": "stdout",
     "output_type": "stream",
     "text": [
      "train_data_senti_freq: Counter({'0': 24748, '1': 24641})\n",
      "test_data_senti_freq: Counter({'0': 8250, '1': 8214})\n"
     ]
    }
   ],
   "source": [
    "from collections import Counter\n",
    "train_data_senti_freq = Counter(train_data_senti)\n",
    "print('train_data_senti_freq:', train_data_senti_freq)\n",
    "\n",
    "test_data_senti_freq = Counter(test_data_senti)\n",
    "print('test_data_senti_freq:', test_data_senti_freq)"
   ]
  },
  {
   "cell_type": "code",
   "execution_count": 25,
   "metadata": {},
   "outputs": [
    {
     "name": "stdout",
     "output_type": "stream",
     "text": [
      "최소길이: 1\n",
      "최대길이: 60\n",
      "평균길이: 8.8\n",
      "중위수길이: 7.0\n",
      "구간별 최대 길이: [ 1.  4.  7. 11. 18. 60.]\n",
      "최소길이 문장: 최악\n",
      "최대길이 문장: ㄹ ㅇ ㅋㅋ ㅋㅋ ㅋㅋ ㅋㅋ 꼴리 건들 물 ㅋㅋ ㅋㅋ ㅋㅋ ㅋㅋ ㅋㅋ ㅋ ㅋㅋ ㅋㅋ ㅋㅋ ㅋㅋ ㅋㅋ ㅋㅋ ㅋㅋ ㅋㅋ ㅋㅋ ㅋㅋ ㅋㅋ ㅋㅋ ㅋㅋ ㅋㅋ ㅋㅋ ㅋㅋ ㅋㅋ ㅋㅋ ㅋㅋ ㅋㅋ ㅋㅋ ㅋㅋ ㅋㅋ ㅋㅋ ㅋㅋ ㅋㅋ ㅋㅋ ㅋㅋ ㅋㅋ ㅋㅋ ㅋㅋ ㅋㅋ ㅋㅋ ㅋㅋ ㅋㅋ ㅋㅋ ㅋㅋ ㅋㅋ ㅋㅋ ㅋㅋ ㅋㅋ ㅋㅋ ㅋㅋ ㅋㅋ ㅋㅋ\n"
     ]
    }
   ],
   "source": [
    "import numpy as np\n",
    "text_len = [len(line.split(' ')) for line in train_data_text]\n",
    "print('최소길이:', np.min(text_len))\n",
    "print('최대길이:', np.max(text_len))\n",
    "print('평균길이:', np.round(np.mean(text_len), 1))\n",
    "print('중위수길이:', np.median(text_len))\n",
    "print('구간별 최대 길이:', np.percentile(text_len, [0, 25, 50, 75, 90, 100]))\n",
    "\n",
    "print('최소길이 문장:', train_data_text[np.argmin(text_len)])\n",
    "print('최대길이 문장:', train_data_text[np.argmax(text_len)])"
   ]
  },
  {
   "cell_type": "code",
   "execution_count": 29,
   "metadata": {},
   "outputs": [],
   "source": [
    "from keras.preprocessing.text import Tokenizer\n",
    "from keras.utils import pad_sequences\n",
    "import numpy as np\n",
    "import math"
   ]
  },
  {
   "cell_type": "code",
   "execution_count": 30,
   "metadata": {},
   "outputs": [],
   "source": [
    "max_words = 10000\n",
    "maxlen = 20"
   ]
  },
  {
   "cell_type": "code",
   "execution_count": 31,
   "metadata": {},
   "outputs": [],
   "source": [
    "tokenizer = Tokenizer(num_words=max_words)\n",
    "tokenizer.fit_on_texts(train_data_text)\n",
    "word_index = tokenizer.word_index"
   ]
  },
  {
   "cell_type": "code",
   "execution_count": 32,
   "metadata": {},
   "outputs": [
    {
     "name": "stdout",
     "output_type": "stream",
     "text": [
      "전체에서 21874개의 고유한 토큰을 찾았습니다.\n",
      "word_index type:  <class 'dict'>\n"
     ]
    }
   ],
   "source": [
    "print('전체에서 %s개의 고유한 토큰을 찾았습니다.' % len(word_index))\n",
    "print('word_index type: ', type(word_index))\n",
    "# print('word_index: ', word_index)"
   ]
  },
  {
   "cell_type": "code",
   "execution_count": 33,
   "metadata": {},
   "outputs": [
    {
     "name": "stdout",
     "output_type": "stream",
     "text": [
      "data 0: [315, 2646, 81, 208, 140, 1290, 427, 2271]\n",
      "texts 0: 중간 군더더기 보이 조금 아쉽 쥬 리 커버\n"
     ]
    }
   ],
   "source": [
    "data = tokenizer.texts_to_sequences(train_data_text)\n",
    "\n",
    "print('data 0:', data[0])\n",
    "print('texts 0:', train_data_text[0])"
   ]
  },
  {
   "cell_type": "code",
   "execution_count": 34,
   "metadata": {},
   "outputs": [
    {
     "name": "stdout",
     "output_type": "stream",
     "text": [
      "data: [[   0    0    0 ... 1290  427 2271]\n",
      " [   0    0    0 ...    6    1   73]\n",
      " [  57  137 1451 ...  407 2647  107]\n",
      " ...\n",
      " [   0    0    0 ... 1831  232 8828]\n",
      " [   0    0    0 ...   59  140  140]\n",
      " [   0    0    0 ...   79   28 2545]]\n",
      "data 0: [   0    0    0    0    0    0    0    0    0    0    0    0  315 2646\n",
      "   81  208  140 1290  427 2271]\n",
      "data 0의 길이: 20\n"
     ]
    }
   ],
   "source": [
    "data = pad_sequences(data, maxlen=maxlen)\n",
    "\n",
    "print('data:', data)\n",
    "print('data 0:', data[0])\n",
    "print('data 0의 길이:', len(data[0]))"
   ]
  },
  {
   "cell_type": "code",
   "execution_count": 35,
   "metadata": {},
   "outputs": [
    {
     "data": {
      "text/plain": [
       "array([[0., 0., 0., 0., 0., 1., 1., 1., 0., 0., 0.],\n",
       "       [0., 0., 0., 0., 0., 0., 0., 0., 1., 1., 1.]])"
      ]
     },
     "execution_count": 35,
     "metadata": {},
     "output_type": "execute_result"
    }
   ],
   "source": [
    "sample = [[5, 6, 7], [8, 9, 10]]\n",
    "\n",
    "arr = np.zeros((len(sample), 10+1))\n",
    "\n",
    "for i, seq in enumerate(sample):\n",
    "    arr[i, seq] = 1.\n",
    "\n",
    "arr"
   ]
  },
  {
   "cell_type": "code",
   "execution_count": 36,
   "metadata": {},
   "outputs": [],
   "source": [
    "def to_one_hot(sequences, dimension):\n",
    "    results = np.zeros((len(sequences), dimension))\n",
    "    for i, sequence in enumerate(sequences):\n",
    "        results[i, sequence] = 1.\n",
    "    return results"
   ]
  },
  {
   "cell_type": "code",
   "execution_count": 37,
   "metadata": {},
   "outputs": [],
   "source": [
    "data = to_one_hot(data, dimension=max_words)\n",
    "labels = np.asarray(train_data_senti).astype('float32')"
   ]
  },
  {
   "cell_type": "code",
   "execution_count": 38,
   "metadata": {},
   "outputs": [
    {
     "name": "stdout",
     "output_type": "stream",
     "text": [
      "data: [[1. 0. 0. ... 0. 0. 0.]\n",
      " [1. 1. 0. ... 0. 0. 0.]\n",
      " [0. 0. 0. ... 0. 0. 0.]\n",
      " ...\n",
      " [1. 0. 0. ... 0. 0. 0.]\n",
      " [1. 1. 0. ... 0. 0. 0.]\n",
      " [1. 1. 0. ... 0. 0. 0.]]\n",
      "10000\n",
      "data[0][0:100]: [1. 0. 0. 0. 0. 0. 0. 0. 0. 0. 0. 0. 0. 0. 0. 0. 0. 0. 0. 0. 0. 0. 0. 0.\n",
      " 0. 0. 0. 0. 0. 0. 0. 0. 0. 0. 0. 0. 0. 0. 0. 0. 0. 0. 0. 0. 0. 0. 0. 0.\n",
      " 0. 0. 0. 0. 0. 0. 0. 0. 0. 0. 0. 0. 0. 0. 0. 0. 0. 0. 0. 0. 0. 0. 0. 0.\n",
      " 0. 0. 0. 0. 0. 0. 0. 0. 0. 1. 0. 0. 0. 0. 0. 0. 0. 0. 0. 0. 0. 0. 0. 0.\n",
      " 0. 0. 0. 0.]\n"
     ]
    }
   ],
   "source": [
    "print('data:', data)\n",
    "print(len(data[0]))\n",
    "print('data[0][0:100]:', data[0][0:100])"
   ]
  },
  {
   "cell_type": "code",
   "execution_count": 39,
   "metadata": {},
   "outputs": [
    {
     "name": "stdout",
     "output_type": "stream",
     "text": [
      "<class 'list'>\n",
      "<class 'numpy.ndarray'>\n",
      "(49389, 10000)\n",
      "데이터 텐서의 차원: 2\n",
      "레이블 텐서의 차원: 1\n",
      "데이터 텐서의 크기: (49389, 10000)\n",
      "레이블 텐서의 크기: (49389,)\n"
     ]
    }
   ],
   "source": [
    "print(type(train_data_text))\n",
    "print(type(data))\n",
    "print(data.shape)\n",
    "\n",
    "print('데이터 텐서의 차원:', data.ndim)\n",
    "print('레이블 텐서의 차원:', labels.ndim)\n",
    "\n",
    "print('데이터 텐서의 크기:', data.shape)\n",
    "print('레이블 텐서의 크기:', labels.shape)"
   ]
  },
  {
   "cell_type": "code",
   "execution_count": 40,
   "metadata": {},
   "outputs": [],
   "source": [
    "validation_ratio = 0.3\n",
    "validation_len = math.floor(len(train_data_text) * validation_ratio)\n",
    "\n",
    "x_train = data[validation_len:]\n",
    "y_train = labels[validation_len:]\n",
    "x_val = data[:validation_len]\n",
    "y_val = labels[:validation_len]"
   ]
  },
  {
   "cell_type": "code",
   "execution_count": 61,
   "metadata": {},
   "outputs": [],
   "source": [
    "from keras.models import Sequential\n",
    "from keras.layers import Dense\n",
    "\n",
    "model = Sequential()\n",
    "\n",
    "model.add(Dense(64, activation='relu', input_shape=(max_words,)))\n",
    "model.add(Dense(32, activation='relu'))\n",
    "model.add(Dense(1, activation='sigmoid'))"
   ]
  },
  {
   "cell_type": "code",
   "execution_count": 62,
   "metadata": {},
   "outputs": [
    {
     "name": "stdout",
     "output_type": "stream",
     "text": [
      "Model: \"sequential_3\"\n",
      "_________________________________________________________________\n",
      " Layer (type)                Output Shape              Param #   \n",
      "=================================================================\n",
      " dense_9 (Dense)             (None, 64)                640064    \n",
      "                                                                 \n",
      " dense_10 (Dense)            (None, 32)                2080      \n",
      "                                                                 \n",
      " dense_11 (Dense)            (None, 1)                 33        \n",
      "                                                                 \n",
      "=================================================================\n",
      "Total params: 642,177\n",
      "Trainable params: 642,177\n",
      "Non-trainable params: 0\n",
      "_________________________________________________________________\n"
     ]
    }
   ],
   "source": [
    "model.summary()"
   ]
  },
  {
   "cell_type": "code",
   "execution_count": 63,
   "metadata": {},
   "outputs": [
    {
     "name": "stdout",
     "output_type": "stream",
     "text": [
      "Epoch 1/10\n",
      "1081/1081 [==============================] - 8s 7ms/step - loss: 0.4400 - acc: 0.7962 - val_loss: 0.4051 - val_acc: 0.8157\n",
      "Epoch 2/10\n",
      "1081/1081 [==============================] - 5s 5ms/step - loss: 0.3713 - acc: 0.8383 - val_loss: 0.4007 - val_acc: 0.8197\n",
      "Epoch 3/10\n",
      "1081/1081 [==============================] - 6s 5ms/step - loss: 0.3564 - acc: 0.8468 - val_loss: 0.3996 - val_acc: 0.8211\n",
      "Epoch 4/10\n",
      "1081/1081 [==============================] - 6s 5ms/step - loss: 0.3434 - acc: 0.8547 - val_loss: 0.3994 - val_acc: 0.8253\n",
      "Epoch 5/10\n",
      "1081/1081 [==============================] - 6s 5ms/step - loss: 0.3311 - acc: 0.8613 - val_loss: 0.3988 - val_acc: 0.8230\n",
      "Epoch 6/10\n",
      "1081/1081 [==============================] - 6s 5ms/step - loss: 0.3172 - acc: 0.8698 - val_loss: 0.4021 - val_acc: 0.8251\n",
      "Epoch 7/10\n",
      "1081/1081 [==============================] - 6s 5ms/step - loss: 0.3011 - acc: 0.8783 - val_loss: 0.4063 - val_acc: 0.8238\n",
      "Epoch 8/10\n",
      "1081/1081 [==============================] - 6s 5ms/step - loss: 0.2847 - acc: 0.8884 - val_loss: 0.4032 - val_acc: 0.8221\n",
      "Epoch 9/10\n",
      "1081/1081 [==============================] - 6s 5ms/step - loss: 0.2687 - acc: 0.8955 - val_loss: 0.4245 - val_acc: 0.8179\n",
      "Epoch 10/10\n",
      "1081/1081 [==============================] - 6s 6ms/step - loss: 0.2523 - acc: 0.9046 - val_loss: 0.4344 - val_acc: 0.8155\n"
     ]
    }
   ],
   "source": [
    "model.compile(optimizer='rmsprop', loss='binary_crossentropy', metrics=['acc'])\n",
    "history = model.fit(x_train, y_train, epochs=10, batch_size=32, validation_data=(x_val,y_val))\n",
    "history_dict = history.history"
   ]
  },
  {
   "cell_type": "code",
   "execution_count": 10,
   "metadata": {},
   "outputs": [],
   "source": [
    "import os\n",
    "os.chdir('C:/pytest/')"
   ]
  },
  {
   "cell_type": "code",
   "execution_count": 11,
   "metadata": {},
   "outputs": [
    {
     "ename": "NameError",
     "evalue": "name 'model' is not defined",
     "output_type": "error",
     "traceback": [
      "\u001b[1;31m---------------------------------------------------------------------------\u001b[0m",
      "\u001b[1;31mNameError\u001b[0m                                 Traceback (most recent call last)",
      "\u001b[1;32m~\\AppData\\Local\\Temp\\ipykernel_7596\\2376408982.py\u001b[0m in \u001b[0;36m<module>\u001b[1;34m\u001b[0m\n\u001b[1;32m----> 1\u001b[1;33m \u001b[0mmodel\u001b[0m\u001b[1;33m.\u001b[0m\u001b[0msave\u001b[0m\u001b[1;33m(\u001b[0m\u001b[1;34m'text_binary_model.h5'\u001b[0m\u001b[1;33m)\u001b[0m\u001b[1;33m\u001b[0m\u001b[1;33m\u001b[0m\u001b[0m\n\u001b[0m",
      "\u001b[1;31mNameError\u001b[0m: name 'model' is not defined"
     ]
    }
   ],
   "source": [
    "model.save('text_binary_model.h5')"
   ]
  },
  {
   "cell_type": "code",
   "execution_count": 66,
   "metadata": {},
   "outputs": [],
   "source": [
    "import pickle\n",
    "with open('text_binary_tokenizer.pickle', 'wb') as handle:\n",
    "    pickle.dump(tokenizer, handle, protocol=pickle.HIGHEST_PROTOCOL)"
   ]
  },
  {
   "cell_type": "code",
   "execution_count": 67,
   "metadata": {},
   "outputs": [],
   "source": [
    "acc = history.history['acc']\n",
    "val_acc = history.history['val_acc']\n",
    "loss = history.history['loss']\n",
    "val_loss = history.history['val_loss']"
   ]
  },
  {
   "cell_type": "code",
   "execution_count": 68,
   "metadata": {},
   "outputs": [
    {
     "name": "stdout",
     "output_type": "stream",
     "text": [
      "Train accuracy of each epoch: [0.796 0.838 0.847 0.855 0.861 0.87  0.878 0.888 0.895 0.905]\n",
      "Validation accuracy of each epoch: [0.816 0.82  0.821 0.825 0.823 0.825 0.824 0.822 0.818 0.815]\n"
     ]
    }
   ],
   "source": [
    "print('Train accuracy of each epoch:', np.round(acc, 3))\n",
    "print('Validation accuracy of each epoch:', np.round(val_acc, 3))"
   ]
  },
  {
   "cell_type": "code",
   "execution_count": 69,
   "metadata": {},
   "outputs": [
    {
     "name": "stdout",
     "output_type": "stream",
     "text": [
      "range(1, 11)\n"
     ]
    }
   ],
   "source": [
    "import matplotlib.pyplot as plt\n",
    "\n",
    "epochs = range(1, len(acc)+1)\n",
    "print(epochs)"
   ]
  },
  {
   "cell_type": "code",
   "execution_count": 70,
   "metadata": {},
   "outputs": [
    {
     "data": {
      "image/png": "[encoded data removed]",
      "text/plain": [
       "<Figure size 640x480 with 1 Axes>"
      ]
     },
     "metadata": {},
     "output_type": "display_data"
    }
   ],
   "source": [
    "plt.plot(epochs, acc, 'bo', label='Training Acc')\n",
    "plt.plot(epochs, val_acc, 'b', label='Validation Acc')\n",
    "plt.title('Training and validation accuracy')\n",
    "plt.legend()\n",
    "plt.show()"
   ]
  },
  {
   "cell_type": "code",
   "execution_count": 71,
   "metadata": {},
   "outputs": [
    {
     "data": {
      "image/png": "[encoded data removed]",
      "text/plain": [
       "<Figure size 640x480 with 1 Axes>"
      ]
     },
     "metadata": {},
     "output_type": "display_data"
    }
   ],
   "source": [
    "plt.figure()\n",
    "\n",
    "plt.plot(epochs, loss, 'bo', label='Training Loss')\n",
    "plt.plot(epochs, val_loss, 'b', label='Validation Loss')\n",
    "plt.title('Training and validation loss')\n",
    "plt.legend()\n",
    "plt.show()"
   ]
  },
  {
   "cell_type": "code",
   "execution_count": 12,
   "metadata": {},
   "outputs": [],
   "source": [
    "import os\n",
    "from keras.models import load_model"
   ]
  },
  {
   "cell_type": "code",
   "execution_count": 13,
   "metadata": {},
   "outputs": [
    {
     "name": "stdout",
     "output_type": "stream",
     "text": [
      "Current Directory: C:\\pytest\n"
     ]
    }
   ],
   "source": [
    "filepath = 'C:/pytest/'\n",
    "os.chdir(filepath)\n",
    "print('Current Directory:', os.getcwd())"
   ]
  },
  {
   "cell_type": "code",
   "execution_count": 14,
   "metadata": {},
   "outputs": [
    {
     "name": "stdout",
     "output_type": "stream",
     "text": [
      "model loaded: <keras.engine.sequential.Sequential object at 0x00000203B024C588>\n"
     ]
    }
   ],
   "source": [
    "loaded_model = load_model('text_binary_model.h5')\n",
    "print('model loaded:', loaded_model)"
   ]
  },
  {
   "cell_type": "code",
   "execution_count": 15,
   "metadata": {},
   "outputs": [],
   "source": [
    "import pickle\n",
    "with open('text_binary_tokenizer.pickle', 'rb') as handle:\n",
    "    loaded_tokenizer = pickle.load(handle)"
   ]
  },
  {
   "cell_type": "code",
   "execution_count": 77,
   "metadata": {},
   "outputs": [],
   "source": [
    "# print(test_data_text)\n",
    "# print(test_data_senti)"
   ]
  },
  {
   "attachments": {},
   "cell_type": "markdown",
   "metadata": {},
   "source": [
    "* loaded_tokenizer.fit_on_texts(test_data_text)를 하면 안되는 이유?\n",
    "    * 이미 train_data_text를 fit_on_texts하여 기준을 만들었기 때문에 test_data를 fit할 경우 기준이 달라지기 때문이다."
   ]
  },
  {
   "cell_type": "code",
   "execution_count": 41,
   "metadata": {},
   "outputs": [],
   "source": [
    "data = loaded_tokenizer.texts_to_sequences(test_data_text)\n",
    "data = pad_sequences(data, maxlen=maxlen)"
   ]
  },
  {
   "cell_type": "code",
   "execution_count": 42,
   "metadata": {},
   "outputs": [],
   "source": [
    "x_test = to_one_hot(data, dimension=max_words)\n",
    "y_test = np.asarray(test_data_senti).astype('float32')"
   ]
  },
  {
   "cell_type": "code",
   "execution_count": 43,
   "metadata": {},
   "outputs": [
    {
     "name": "stdout",
     "output_type": "stream",
     "text": [
      "515/515 [==============================] - 7s 8ms/step - loss: 0.3886 - acc: 0.8332\n"
     ]
    }
   ],
   "source": [
    "test_eval = loaded_model.evaluate(x_test, y_test)"
   ]
  },
  {
   "cell_type": "code",
   "execution_count": 44,
   "metadata": {},
   "outputs": [
    {
     "name": "stdout",
     "output_type": "stream",
     "text": [
      "prediction model loss & acc: [0.38859155774116516, 0.8332118391990662]\n"
     ]
    }
   ],
   "source": [
    "print('prediction model loss & acc:', test_eval)"
   ]
  },
  {
   "cell_type": "code",
   "execution_count": 45,
   "metadata": {},
   "outputs": [],
   "source": [
    "text = ['재미있게 잘 봤습니다']"
   ]
  },
  {
   "cell_type": "code",
   "execution_count": 46,
   "metadata": {},
   "outputs": [
    {
     "name": "stdout",
     "output_type": "stream",
     "text": [
      "filepath:  c:\\project\\venv\\lib\\site-packages\n",
      "classpath:  c:\\project\\venv\\lib\\site-packages\\rhinoMorph/lib/rhino.jar\n",
      "JVM is already started~\n",
      "RHINO started!\n"
     ]
    }
   ],
   "source": [
    "import rhinoMorph\n",
    "rn = rhinoMorph.startRhino()"
   ]
  },
  {
   "cell_type": "code",
   "execution_count": 47,
   "metadata": {},
   "outputs": [
    {
     "name": "stdout",
     "output_type": "stream",
     "text": [
      "형태소 분석 결과: [['재미있', '잘', '보']]\n"
     ]
    }
   ],
   "source": [
    "text = [rhinoMorph.onlyMorph_list(rn,sentence,pos=['NNG','NNP','NP','VV','VA','XR','IC','MM','MAG', 'MAJ'], eomi=False) for sentence in text]\n",
    "print('형태소 분석 결과:', text)"
   ]
  },
  {
   "cell_type": "code",
   "execution_count": 48,
   "metadata": {},
   "outputs": [
    {
     "name": "stdout",
     "output_type": "stream",
     "text": [
      "[[6, 27, 3]]\n",
      "[[ 0  0  0  0  0  0  0  0  0  0  0  0  0  0  0  0  0  6 27  3]]\n",
      "[[1. 0. 0. ... 0. 0. 0.]]\n"
     ]
    }
   ],
   "source": [
    "data = loaded_tokenizer.texts_to_sequences(text)\n",
    "print(data)\n",
    "data = pad_sequences(data, maxlen=maxlen)\n",
    "print(data)\n",
    "x_test = to_one_hot(data, dimension=max_words)\n",
    "print(x_test)"
   ]
  },
  {
   "cell_type": "code",
   "execution_count": 49,
   "metadata": {},
   "outputs": [
    {
     "name": "stdout",
     "output_type": "stream",
     "text": [
      "1/1 [==============================] - 0s 182ms/step\n",
      "Result: [[0.9658135]]\n"
     ]
    }
   ],
   "source": [
    "prediction = loaded_model.predict(x_test)\n",
    "print('Result:', prediction)"
   ]
  },
  {
   "cell_type": "code",
   "execution_count": 50,
   "metadata": {},
   "outputs": [],
   "source": [
    "def judge(pred):\n",
    "    if pred >= 0.5:\n",
    "        print('긍정일것이며, 확률은 %2d%%입니다.' %(pred*100))\n",
    "\n",
    "    else:\n",
    "        print('부정일것이며, 확률은 %2d%%입니다.' %(pred*100))\n",
    "\n",
    "    return"
   ]
  },
  {
   "cell_type": "code",
   "execution_count": 51,
   "metadata": {},
   "outputs": [
    {
     "name": "stdout",
     "output_type": "stream",
     "text": [
      "긍정일것이며, 확률은 96%입니다.\n"
     ]
    }
   ],
   "source": [
    "judge(prediction)"
   ]
  },
  {
   "cell_type": "code",
   "execution_count": 74,
   "metadata": {},
   "outputs": [
    {
     "name": "stdout",
     "output_type": "stream",
     "text": [
      "{'우리': 1, '소망': 2, '꿈': 3, '통일': 4}\n",
      "[[1, 2, 3]]\n",
      "[[0. 1. 1. 1.]]\n",
      "[[[0. 1. 0. 0.]\n",
      "  [0. 0. 1. 0.]\n",
      "  [0. 0. 0. 1.]]]\n"
     ]
    }
   ],
   "source": [
    "from keras.preprocessing.text import Tokenizer\n",
    "from keras.utils import to_categorical\n",
    "texts = ['우리 소망 꿈 통일']\n",
    "tokenizer = Tokenizer(num_words=4)\n",
    "tokenizer.fit_on_texts(texts)\n",
    "word_index = tokenizer.word_index\n",
    "data = tokenizer.texts_to_sequences(texts)\n",
    "print(word_index)   # {'우리': 1, '소망': 2, '꿈': 3, '통일': 4}\n",
    "print(data)            # [[1, 2, 3]]\n",
    "print(tokenizer.texts_to_matrix(texts, mode='binary'))  # [[0. 1. 1. 1.]]\n",
    "print(to_categorical(data, num_classes=4))  # [[[0. 1. 0. 0.] [0. 0. 1. 0.] [0. 0. 0. 1.]]]  #차원증가"
   ]
  },
  {
   "cell_type": "code",
   "execution_count": 52,
   "metadata": {},
   "outputs": [],
   "source": [
    "from keras.preprocessing.text import Tokenizer\n",
    "from keras.utils import pad_sequences\n",
    "import numpy as np\n",
    "import math"
   ]
  },
  {
   "cell_type": "code",
   "execution_count": 53,
   "metadata": {},
   "outputs": [],
   "source": [
    "max_words = 10000\n",
    "maxlen = 20"
   ]
  },
  {
   "cell_type": "code",
   "execution_count": 54,
   "metadata": {},
   "outputs": [],
   "source": [
    "tokenizer = Tokenizer(num_words=maxlen)\n",
    "tokenizer.fit_on_texts(train_data_text)\n",
    "word_index = tokenizer.word_index"
   ]
  },
  {
   "cell_type": "code",
   "execution_count": 55,
   "metadata": {},
   "outputs": [
    {
     "name": "stdout",
     "output_type": "stream",
     "text": [
      "중간 군더더기 보이 조금 아쉽 쥬 리 커버\n"
     ]
    }
   ],
   "source": [
    "print(train_data_text[0])\n",
    "data = tokenizer.texts_to_matrix(train_data_text, mode='binary')\n",
    "labels = np.asarray(train_data_senti).astype('float32')"
   ]
  },
  {
   "cell_type": "code",
   "execution_count": 56,
   "metadata": {},
   "outputs": [
    {
     "name": "stdout",
     "output_type": "stream",
     "text": [
      "data: [[0. 0. 0. ... 0. 0. 0.]\n",
      " [0. 1. 0. ... 0. 0. 0.]\n",
      " [0. 0. 0. ... 0. 0. 0.]\n",
      " ...\n",
      " [0. 0. 0. ... 0. 0. 0.]\n",
      " [0. 1. 0. ... 0. 0. 0.]\n",
      " [0. 1. 0. ... 0. 0. 0.]]\n",
      "20\n",
      "data [0][0\"100]: [0. 0. 0. 0. 0. 0. 0. 0. 0. 0. 0. 0. 0. 0. 0. 0. 0. 0. 0. 0.]\n"
     ]
    }
   ],
   "source": [
    "print('data:', data)\n",
    "print(len(data[0]))\n",
    "print('data [0][0\"100]:', data[0][0:100])"
   ]
  },
  {
   "cell_type": "code",
   "execution_count": null,
   "metadata": {},
   "outputs": [],
   "source": []
  }
 ],
 "metadata": {
  "kernelspec": {
   "display_name": "Python 3.7.4 ('venv': venv)",
   "language": "python",
   "name": "python3"
  },
  "language_info": {
   "codemirror_mode": {
    "name": "ipython",
    "version": 3
   },
   "file_extension": ".py",
   "mimetype": "text/x-python",
   "name": "python",
   "nbconvert_exporter": "python",
   "pygments_lexer": "ipython3",
   "version": "3.7.4"
  },
  "orig_nbformat": 4,
  "vscode": {
   "interpreter": {
    "hash": "828b3ff1a9b639f531d360136e481a3f232b7e9f33a8a1d624f5a211b5fe1b7b"
   }
  }
 },
 "nbformat": 4,
 "nbformat_minor": 2
}
