{
 "cells": [
  {
   "cell_type": "code",
   "execution_count": 1,
   "metadata": {},
   "outputs": [],
   "source": [
    "import os, sys\n",
    "from IPython.display import display\n",
    "from IPython.display import Image as _Imgdis\n",
    "from PIL import Image\n",
    "import numpy as np"
   ]
  },
  {
   "cell_type": "code",
   "execution_count": 5,
   "metadata": {},
   "outputs": [],
   "source": [
    "from tensorflow.keras.preprocessing.image import ImageDataGenerator"
   ]
  },
  {
   "cell_type": "code",
   "execution_count": 93,
   "metadata": {},
   "outputs": [],
   "source": [
    "train_datagen = ImageDataGenerator(\n",
    "    rescale=1./255,\n",
    "    rotation_range=40,\n",
    "    width_shift_range=0.2,\n",
    "    height_shift_range=0.2,\n",
    "    shear_range=0.2,\n",
    "    zoom_range=0.2,\n",
    "    horizontal_flip=True)\n",
    "test_datagen = ImageDataGenerator(rescale=1./255)\n",
    "predict_datagen = ImageDataGenerator(rescale=1./255)"
   ]
  },
  {
   "cell_type": "code",
   "execution_count": 56,
   "metadata": {},
   "outputs": [],
   "source": [
    "train_dir = 'C:/pytest/image/seg_train/'\n",
    "test_dir = 'C:/pytest/image/seg_test/'\n",
    "pred_dir = 'C:/pytest/image/seg_pred/'"
   ]
  },
  {
   "cell_type": "code",
   "execution_count": 57,
   "metadata": {},
   "outputs": [
    {
     "name": "stdout",
     "output_type": "stream",
     "text": [
      "Found 14034 images belonging to 6 classes.\n",
      "Found 3000 images belonging to 6 classes.\n",
      "Found 0 images belonging to 6 classes.\n"
     ]
    }
   ],
   "source": [
    "train_generator = train_datagen.flow_from_directory(train_dir, target_size=(20,20), batch_size=100, class_mode='categorical', classes=['buildings','forest','glacier','mountain','sea','street'])\n",
    "test_generator = test_datagen.flow_from_directory(test_dir, target_size=(20,20), batch_size=100, class_mode='categorical', classes=['buildings','forest','glacier','mountain','sea','street'])"
   ]
  },
  {
   "cell_type": "code",
   "execution_count": 94,
   "metadata": {},
   "outputs": [
    {
     "name": "stdout",
     "output_type": "stream",
     "text": [
      "Found 7301 images belonging to 1 classes.\n"
     ]
    }
   ],
   "source": [
    "pred_generator = predict_datagen.flow_from_directory(pred_dir, target_size=(20,20), class_mode=None)"
   ]
  },
  {
   "cell_type": "code",
   "execution_count": 49,
   "metadata": {},
   "outputs": [],
   "source": [
    "from tensorflow.keras import models\n",
    "from tensorflow.keras import layers\n",
    "import numpy as np\n",
    "\n",
    "model = models.Sequential()\n",
    "model.add(layers.Conv2D(32, kernel_size=(3,3), input_shape=(20,20,3), activation='relu'))\n",
    "model.add(layers.Conv2D(64, kernel_size=(3,3), activation='relu'))\n",
    "model.add(layers.MaxPooling2D(pool_size=(2,2)))\n",
    "model.add(layers.Dropout(0.25))\n",
    "model.add(layers.Flatten())\n",
    "model.add(layers.Dense(128, activation='relu'))\n",
    "model.add(layers.Dropout(0.25))\n",
    "model.add(layers.Dense(6, activation='softmax'))"
   ]
  },
  {
   "cell_type": "code",
   "execution_count": 50,
   "metadata": {},
   "outputs": [],
   "source": [
    "model.compile(loss='categorical_crossentropy', optimizer='adam', metrics=['acc'])"
   ]
  },
  {
   "cell_type": "code",
   "execution_count": 51,
   "metadata": {},
   "outputs": [
    {
     "name": "stdout",
     "output_type": "stream",
     "text": [
      "Epoch 1/30\n",
      "20/20 [==============================] - 2s 109ms/step - loss: 1.6261 - acc: 0.3420\n",
      "Epoch 2/30\n",
      "20/20 [==============================] - 2s 99ms/step - loss: 1.3929 - acc: 0.4605\n",
      "Epoch 3/30\n",
      "20/20 [==============================] - 2s 94ms/step - loss: 1.3186 - acc: 0.4747\n",
      "Epoch 4/30\n",
      "20/20 [==============================] - 2s 98ms/step - loss: 1.2519 - acc: 0.5150\n",
      "Epoch 5/30\n",
      "20/20 [==============================] - 2s 99ms/step - loss: 1.1959 - acc: 0.5405\n",
      "Epoch 6/30\n",
      "20/20 [==============================] - 2s 105ms/step - loss: 1.1998 - acc: 0.5320\n",
      "Epoch 7/30\n",
      "20/20 [==============================] - 2s 103ms/step - loss: 1.1746 - acc: 0.5395\n",
      "Epoch 8/30\n",
      "20/20 [==============================] - 2s 105ms/step - loss: 1.1219 - acc: 0.5650\n",
      "Epoch 9/30\n",
      "20/20 [==============================] - 2s 99ms/step - loss: 1.0866 - acc: 0.5825\n",
      "Epoch 10/30\n",
      "20/20 [==============================] - 2s 101ms/step - loss: 1.1075 - acc: 0.5700\n",
      "Epoch 11/30\n",
      "20/20 [==============================] - 2s 100ms/step - loss: 1.0771 - acc: 0.5785\n",
      "Epoch 12/30\n",
      "20/20 [==============================] - 2s 103ms/step - loss: 1.0874 - acc: 0.5845\n",
      "Epoch 13/30\n",
      "20/20 [==============================] - 2s 102ms/step - loss: 1.0735 - acc: 0.5880\n",
      "Epoch 14/30\n",
      "20/20 [==============================] - 2s 100ms/step - loss: 1.0538 - acc: 0.5855\n",
      "Epoch 15/30\n",
      "20/20 [==============================] - 2s 101ms/step - loss: 1.0488 - acc: 0.5965\n",
      "Epoch 16/30\n",
      "20/20 [==============================] - 2s 100ms/step - loss: 1.0667 - acc: 0.5950\n",
      "Epoch 17/30\n",
      "20/20 [==============================] - 2s 101ms/step - loss: 1.0281 - acc: 0.6060\n",
      "Epoch 18/30\n",
      "20/20 [==============================] - 2s 100ms/step - loss: 1.0478 - acc: 0.6000\n",
      "Epoch 19/30\n",
      "20/20 [==============================] - 2s 100ms/step - loss: 1.0251 - acc: 0.6110\n",
      "Epoch 20/30\n",
      "20/20 [==============================] - 2s 103ms/step - loss: 0.9844 - acc: 0.6275\n",
      "Epoch 21/30\n",
      "20/20 [==============================] - 2s 101ms/step - loss: 1.0122 - acc: 0.6185\n",
      "Epoch 22/30\n",
      "20/20 [==============================] - 2s 105ms/step - loss: 1.0309 - acc: 0.6085\n",
      "Epoch 23/30\n",
      "20/20 [==============================] - 2s 100ms/step - loss: 0.9615 - acc: 0.6435\n",
      "Epoch 24/30\n",
      "20/20 [==============================] - 2s 100ms/step - loss: 1.0077 - acc: 0.6065\n",
      "Epoch 25/30\n",
      "20/20 [==============================] - 2s 96ms/step - loss: 1.0125 - acc: 0.6158\n",
      "Epoch 26/30\n",
      "20/20 [==============================] - 2s 98ms/step - loss: 0.9725 - acc: 0.6320\n",
      "Epoch 27/30\n",
      "20/20 [==============================] - 2s 98ms/step - loss: 1.0093 - acc: 0.6255\n",
      "Epoch 28/30\n",
      "20/20 [==============================] - 2s 98ms/step - loss: 0.9709 - acc: 0.6335\n",
      "Epoch 29/30\n",
      "20/20 [==============================] - 2s 98ms/step - loss: 0.9572 - acc: 0.6290\n",
      "Epoch 30/30\n",
      "20/20 [==============================] - 2s 100ms/step - loss: 0.9538 - acc: 0.6440\n"
     ]
    }
   ],
   "source": [
    "history = model.fit(train_generator, steps_per_epoch=20, epochs=30)"
   ]
  },
  {
   "cell_type": "code",
   "execution_count": 97,
   "metadata": {},
   "outputs": [
    {
     "name": "stdout",
     "output_type": "stream",
     "text": [
      "30/30 [==============================] - 2s 50ms/step - loss: 0.9086 - acc: 0.6677\n"
     ]
    },
    {
     "data": {
      "text/plain": [
       "[0.9085619449615479, 0.6676666736602783]"
      ]
     },
     "execution_count": 97,
     "metadata": {},
     "output_type": "execute_result"
    }
   ],
   "source": [
    "model.evaluate(test_generator)"
   ]
  },
  {
   "cell_type": "code",
   "execution_count": 75,
   "metadata": {},
   "outputs": [
    {
     "data": {
      "text/plain": [
       "array([2, 5, 5, ..., 3, 0, 5], dtype=int64)"
      ]
     },
     "execution_count": 75,
     "metadata": {},
     "output_type": "execute_result"
    }
   ],
   "source": [
    "model.predict_classes(test_generator)"
   ]
  },
  {
   "cell_type": "code",
   "execution_count": 61,
   "metadata": {},
   "outputs": [
    {
     "name": "stdout",
     "output_type": "stream",
     "text": [
      "Working with 7301 images\n"
     ]
    }
   ],
   "source": [
    "folder = 'C:/pytest/image/seg_pred/'\n",
    "files = [f for f in os.listdir(folder) if os.path.isfile(os.path.join(folder,f))]\n",
    "print('Working with {0} images'.format(len(files)))"
   ]
  },
  {
   "cell_type": "code",
   "execution_count": 62,
   "metadata": {},
   "outputs": [
    {
     "name": "stdout",
     "output_type": "stream",
     "text": [
      "10004.jpg\n"
     ]
    },
    {
     "data": {
      "image/jpeg": "[encoded data removed]",
      "text/plain": [
       "<IPython.core.display.Image object>"
      ]
     },
     "metadata": {
      "image/jpeg": {
       "height": 20,
       "width": 20
      }
     },
     "output_type": "display_data"
    },
    {
     "name": "stdout",
     "output_type": "stream",
     "text": [
      "10005.jpg\n"
     ]
    },
    {
     "data": {
      "image/jpeg": "[encoded data removed]",
      "text/plain": [
       "<IPython.core.display.Image object>"
      ]
     },
     "metadata": {
      "image/jpeg": {
       "height": 20,
       "width": 20
      }
     },
     "output_type": "display_data"
    }
   ],
   "source": [
    "for i in range(0,2):\n",
    "    print(files[i])\n",
    "    display(_Imgdis(filename=folder+'/'+files[i],width=20,height=20))"
   ]
  },
  {
   "cell_type": "code",
   "execution_count": 63,
   "metadata": {},
   "outputs": [
    {
     "name": "stdout",
     "output_type": "stream",
     "text": [
      "Files in folder: 7301\n"
     ]
    }
   ],
   "source": [
    "from tensorflow.keras.preprocessing.image import array_to_img, img_to_array, load_img\n",
    "\n",
    "file_names = []\n",
    "\n",
    "for _file in files:\n",
    "    file_names.append(_file)\n",
    "\n",
    "print('Files in folder: %d' % len(file_names))"
   ]
  },
  {
   "cell_type": "code",
   "execution_count": 64,
   "metadata": {},
   "outputs": [
    {
     "name": "stdout",
     "output_type": "stream",
     "text": [
      "Original: <class 'PIL.JpegImagePlugin.JpegImageFile'>\n",
      "Numpy array info:\n",
      "<class 'numpy.ndarray'>\n",
      "type: float32\n",
      "shape: (150, 150, 3)\n"
     ]
    }
   ],
   "source": [
    "os.chdir(folder)\n",
    "img = load_img(file_names[0])\n",
    "print('Original:' ,type(img))\n",
    "\n",
    "img_array = img_to_array(img)\n",
    "\n",
    "print('Numpy array info:')\n",
    "print(type(img_array))\n",
    "print('type:', img_array.dtype)\n",
    "print('shape:', img_array.shape)"
   ]
  },
  {
   "cell_type": "code",
   "execution_count": 67,
   "metadata": {},
   "outputs": [
    {
     "name": "stdout",
     "output_type": "stream",
     "text": [
      "(7301, 20, 20, 3)\n"
     ]
    }
   ],
   "source": [
    "image_height = 20\n",
    "image_width = 20\n",
    "channels = 3\n",
    "\n",
    "dataset = np.ndarray(shape=(len(file_names), image_height, image_width, channels), dtype=np.int32)\n",
    "print(dataset.shape)"
   ]
  },
  {
   "cell_type": "code",
   "execution_count": 70,
   "metadata": {},
   "outputs": [],
   "source": [
    "import os\n",
    "\n",
    "if not os.path.exists(os.path.join(folder, 'new/')):\n",
    "    os.makedirs(os.path.join(folder,'new/'))"
   ]
  },
  {
   "cell_type": "code",
   "execution_count": 71,
   "metadata": {},
   "outputs": [
    {
     "name": "stderr",
     "output_type": "stream",
     "text": [
      "c:\\project\\venv\\lib\\site-packages\\ipykernel_launcher.py:5: DeprecationWarning: ANTIALIAS is deprecated and will be removed in Pillow 10 (2023-07-01). Use Resampling.LANCZOS instead.\n",
      "  \"\"\"\n"
     ]
    }
   ],
   "source": [
    "from PIL import Image\n",
    "\n",
    "for count, item in enumerate(file_names):\n",
    "    img = load_img(file_names[count])\n",
    "    img = img.resize((20,20), Image.ANTIALIAS)\n",
    "    img.save(fp=os.path.join(folder, 'new/')+file_names[count])"
   ]
  },
  {
   "cell_type": "code",
   "execution_count": 72,
   "metadata": {},
   "outputs": [
    {
     "name": "stdout",
     "output_type": "stream",
     "text": [
      "0 images to array\n",
      "500 images to array\n",
      "1000 images to array\n",
      "1500 images to array\n",
      "2000 images to array\n",
      "2500 images to array\n",
      "3000 images to array\n",
      "3500 images to array\n",
      "4000 images to array\n",
      "4500 images to array\n",
      "5000 images to array\n",
      "5500 images to array\n",
      "6000 images to array\n",
      "6500 images to array\n",
      "7000 images to array\n",
      "All images to array!\n"
     ]
    }
   ],
   "source": [
    "for count, item in enumerate(file_names):\n",
    "    img = load_img(os.path.join(folder, 'new/')+file_names[count])\n",
    "    img_array = img_to_array(img)\n",
    "    dataset[count] = img_array\n",
    "\n",
    "    if count % 500 == 0:\n",
    "        print('%d images to array' % count)\n",
    "print('All images to array!')"
   ]
  },
  {
   "cell_type": "code",
   "execution_count": 91,
   "metadata": {},
   "outputs": [
    {
     "data": {
      "text/plain": [
       "'10005.jpg'"
      ]
     },
     "execution_count": 91,
     "metadata": {},
     "output_type": "execute_result"
    }
   ],
   "source": [
    "file_names[1]"
   ]
  },
  {
   "cell_type": "code",
   "execution_count": 74,
   "metadata": {},
   "outputs": [],
   "source": [
    "pred = model.predict_classes(dataset)"
   ]
  },
  {
   "cell_type": "code",
   "execution_count": 103,
   "metadata": {},
   "outputs": [
    {
     "data": {
      "text/plain": [
       "(1, 20, 20, 3)"
      ]
     },
     "execution_count": 103,
     "metadata": {},
     "output_type": "execute_result"
    }
   ],
   "source": [
    "tmp = np.expand_dims(dataset[0],axis=0)\n",
    "tmp.shape"
   ]
  },
  {
   "cell_type": "code",
   "execution_count": 105,
   "metadata": {},
   "outputs": [
    {
     "data": {
      "text/plain": [
       "array([[0.0000000e+00, 0.0000000e+00, 0.0000000e+00, 0.0000000e+00,\n",
       "        0.0000000e+00, 1.0000000e+00],\n",
       "       [0.0000000e+00, 0.0000000e+00, 0.0000000e+00, 1.0000000e+00,\n",
       "        0.0000000e+00, 0.0000000e+00],\n",
       "       [0.0000000e+00, 0.0000000e+00, 0.0000000e+00, 0.0000000e+00,\n",
       "        0.0000000e+00, 1.0000000e+00],\n",
       "       ...,\n",
       "       [0.0000000e+00, 0.0000000e+00, 1.0000000e+00, 4.5276683e-32,\n",
       "        0.0000000e+00, 0.0000000e+00],\n",
       "       [0.0000000e+00, 1.0000000e+00, 0.0000000e+00, 0.0000000e+00,\n",
       "        0.0000000e+00, 0.0000000e+00],\n",
       "       [5.4711845e-19, 0.0000000e+00, 0.0000000e+00, 0.0000000e+00,\n",
       "        0.0000000e+00, 1.0000000e+00]], dtype=float32)"
      ]
     },
     "execution_count": 105,
     "metadata": {},
     "output_type": "execute_result"
    }
   ],
   "source": [
    "model.predict(dataset)"
   ]
  },
  {
   "cell_type": "code",
   "execution_count": 79,
   "metadata": {},
   "outputs": [
    {
     "data": {
      "text/plain": [
       "numpy.int64"
      ]
     },
     "execution_count": 79,
     "metadata": {},
     "output_type": "execute_result"
    }
   ],
   "source": [
    "type(pred[0])"
   ]
  },
  {
   "cell_type": "code",
   "execution_count": 82,
   "metadata": {},
   "outputs": [],
   "source": [
    "save_dir = 'C:/pytest/image/'\n",
    "if not os.path.exists(os.path.join(save_dir, 'seg_new/')):\n",
    "    os.makedirs(os.path.join(save_dir,'seg_new/'))"
   ]
  },
  {
   "cell_type": "code",
   "execution_count": 87,
   "metadata": {},
   "outputs": [],
   "source": [
    "save = 'C:/pytest/image/seg_new/'\n",
    "if not os.path.exists(os.path.join(save, 'buildings/')):\n",
    "    os.makedirs(os.path.join(save,'buildings/'))\n",
    "if not os.path.exists(os.path.join(save, 'forest/')):\n",
    "    os.makedirs(os.path.join(save,'forest/'))\n",
    "if not os.path.exists(os.path.join(save, 'glacier/')):\n",
    "    os.makedirs(os.path.join(save,'glacier/'))\n",
    "if not os.path.exists(os.path.join(save, 'mountain/')):\n",
    "    os.makedirs(os.path.join(save,'mountain/'))\n",
    "if not os.path.exists(os.path.join(save, 'sea/')):\n",
    "    os.makedirs(os.path.join(save,'sea/'))\n",
    "if not os.path.exists(os.path.join(save, 'street/')):\n",
    "    os.makedirs(os.path.join(save,'street/'))"
   ]
  },
  {
   "cell_type": "code",
   "execution_count": 92,
   "metadata": {},
   "outputs": [],
   "source": [
    "for _file, _class in zip(file_names, pred):\n",
    "    img = load_img(pred_dir+_file)\n",
    "    if _class == 0:\n",
    "        img.save(fp=os.path.join(save, 'buildings/')+'buildings_'+_file)\n",
    "    elif _class == 1:\n",
    "        img.save(fp=os.path.join(save, 'forest/')+'forest_'+_file)\n",
    "    elif _class == 2:\n",
    "        img.save(fp=os.path.join(save, 'glacier/')+'glacier_'+_file)\n",
    "    elif _class == 3:\n",
    "        img.save(fp=os.path.join(save, 'mountain/')+'mountain_'+_file)\n",
    "    elif _class == 4:\n",
    "        img.save(fp=os.path.join(save, 'sea/')+'sea_'+_file)\n",
    "    elif _class == 5:\n",
    "        img.save(fp=os.path.join(save, 'street/')+'street_'+_file)"
   ]
  },
  {
   "cell_type": "code",
   "execution_count": null,
   "metadata": {},
   "outputs": [],
   "source": []
  }
 ],
 "metadata": {
  "kernelspec": {
   "display_name": "Python 3.7.4 ('venv': venv)",
   "language": "python",
   "name": "python3"
  },
  "language_info": {
   "codemirror_mode": {
    "name": "ipython",
    "version": 3
   },
   "file_extension": ".py",
   "mimetype": "text/x-python",
   "name": "python",
   "nbconvert_exporter": "python",
   "pygments_lexer": "ipython3",
   "version": "3.7.4"
  },
  "orig_nbformat": 4,
  "vscode": {
   "interpreter": {
    "hash": "828b3ff1a9b639f531d360136e481a3f232b7e9f33a8a1d624f5a211b5fe1b7b"
   }
  }
 },
 "nbformat": 4,
 "nbformat_minor": 2
}
