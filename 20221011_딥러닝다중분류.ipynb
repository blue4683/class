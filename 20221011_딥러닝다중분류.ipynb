{
 "cells": [
  {
   "cell_type": "code",
   "execution_count": null,
   "metadata": {},
   "outputs": [],
   "source": []
  }
 ],
 "metadata": {
  "kernelspec": {
   "display_name": "Python 3.7.4 ('venv': venv)",
   "language": "python",
   "name": "python3"
  },
  "language_info": {
   "name": "python",
   "version": "3.7.4"
  },
  "orig_nbformat": 4,
  "vscode": {
   "interpreter": {
    "hash": "828b3ff1a9b639f531d360136e481a3f232b7e9f33a8a1d624f5a211b5fe1b7b"
   }
  }
 },
 "nbformat": 4,
 "nbformat_minor": 2
}
